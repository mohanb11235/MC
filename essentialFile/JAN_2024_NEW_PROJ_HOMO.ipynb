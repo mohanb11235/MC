{
 "cells": [
  {
   "cell_type": "code",
   "execution_count": 1,
   "id": "f0a62c2b",
   "metadata": {},
   "outputs": [],
   "source": [
    "from blending_libraries import*\n",
    "from scipy.signal import sepfir2d"
   ]
  },
  {
   "cell_type": "code",
   "execution_count": 2,
   "id": "26ee9d54",
   "metadata": {},
   "outputs": [],
   "source": [
    "def plot_points_with_labels_above(image_path, point1, point2, point3, point4):\n",
    "    # Convert the points to NumPy arrays and integers\n",
    "    point1 = np.array(point1, dtype=int)\n",
    "    point2 = np.array(point2, dtype=int)\n",
    "    point3 = np.array(point3, dtype=int)\n",
    "    point4 = np.array(point4, dtype=int)\n",
    "\n",
    "    # Read the image using OpenCV\n",
    "    img = image_path.copy()\n",
    "\n",
    "    # Draw circles at the specified points\n",
    "    cv2.circle(img, tuple(point1), 5, (0, 0, 255), -1)  # Red color for Point 1\n",
    "    cv2.circle(img, tuple(point2), 5, (0, 0, 255), -1)  # Red color for Point 2\n",
    "    cv2.circle(img, tuple(point3), 5, (0, 0, 255), -1)  # Red color for Point 3\n",
    "    cv2.circle(img, tuple(point4), 5, (0, 0, 255), -1)  # Red color for Point 4\n",
    "\n",
    "    # Add text labels just above the points\n",
    "    cv2.putText(img, 'TL', (point1[0], point1[1] - 10), cv2.FONT_HERSHEY_SIMPLEX, 0.5, (255, 255, 255), 1, cv2.LINE_AA)\n",
    "    cv2.putText(img, 'TR', (point2[0], point2[1] - 10), cv2.FONT_HERSHEY_SIMPLEX, 0.5, (255, 255, 255), 1, cv2.LINE_AA)\n",
    "    cv2.putText(img, 'BR', (point3[0], point3[1] - 10), cv2.FONT_HERSHEY_SIMPLEX, 0.5, (255, 255, 255), 1, cv2.LINE_AA)\n",
    "    cv2.putText(img, 'BL', (point4[0], point4[1] - 10), cv2.FONT_HERSHEY_SIMPLEX, 0.5, (255, 255, 255), 1, cv2.LINE_AA)\n",
    "\n",
    "    # Display the image with points and labels\n",
    "    cv2.imshow('Image with Points and Labels Above', img)\n",
    "    cv2.waitKey(0)\n",
    "    cv2.destroyAllWindows()"
   ]
  },
  {
   "cell_type": "code",
   "execution_count": 3,
   "id": "971db245",
   "metadata": {},
   "outputs": [],
   "source": [
    "def finding_corners_of_image(img):\n",
    "    image=img.copy()\n",
    "    if len(image.shape)==3:\n",
    "        gray=cv2.cvtColor(image,cv2.COLOR_BGR2GRAY)\n",
    "    corners = cv2.goodFeaturesToTrack(gray, 27, 0.01, 10) \n",
    "    corners = np.intp(corners)\n",
    "    for i in corners: \n",
    "        x, y = i.ravel() \n",
    "        cv2.circle(image, (x, y), 3, (0,0,255), -1)\n",
    "    cv2.imshow(\"image_corners\",image)\n",
    "    cv2.waitKey(0)\n",
    "    cv2.destroyAllWindows()\n",
    "    return corners"
   ]
  },
  {
   "cell_type": "code",
   "execution_count": 4,
   "id": "8ec88b3d",
   "metadata": {},
   "outputs": [],
   "source": [
    "##(23,23)\n",
    "def checker_board_pattern_display_1(img):\n",
    "    checker_board_size=(15,8)\n",
    "    I2=img.copy()\n",
    "    criteria = (cv2.TERM_CRITERIA_EPS + cv2.TERM_CRITERIA_MAX_ITER, 30, 0.001)\n",
    "    retval, corners = cv2.findChessboardCorners(I2, checker_board_size, cv2.CALIB_CB_ADAPTIVE_THRESH + \\\n",
    "                                                cv2.CALIB_CB_FAST_CHECK + cv2.CALIB_CB_NORMALIZE_IMAGE)\n",
    "    C_P=I2.copy()\n",
    "    print(retval)\n",
    "    if retval==True:\n",
    "        \n",
    "        #corners = cv2.cornerSubPix(I2, corners, (11, 11), (-1, -1), criteria)\n",
    "        \n",
    "        C_P=cv2.drawChessboardCorners(I2,checker_board_size,corners,retval)\n",
    "    \n",
    "        cv2.imshow(\"Checker_Board_Pattern\",C_P)\n",
    "        cv2.waitKey(0)\n",
    "             \n",
    "        cv2.destroyAllWindows()\n",
    "    return corners,C_P"
   ]
  },
  {
   "cell_type": "code",
   "execution_count": 5,
   "id": "9d337156",
   "metadata": {},
   "outputs": [],
   "source": [
    "##(23,23)\n",
    "def checker_board_pattern_display_2(img):\n",
    "    checker_board_size=(23,23)\n",
    "    I2=img.copy()\n",
    "    criteria = (cv2.TERM_CRITERIA_EPS + cv2.TERM_CRITERIA_MAX_ITER, 30, 0.001)\n",
    "    #I2 = cv2.cvtColor(I2, cv2.COLOR_BGR2GRAY)\n",
    "    retval, corners = cv2.findChessboardCorners(I2, checker_board_size, cv2.CALIB_CB_ADAPTIVE_THRESH+cv2.CALIB_CB_FAST_CHECK+\\\n",
    "                                                cv2.CALIB_CB_NORMALIZE_IMAGE)\n",
    "    C_P=I2.copy()\n",
    "    print(retval)\n",
    "    if retval==True:\n",
    "        \n",
    "        #corners = cv2.cornerSubPix(I2, corners, (11, 11), (-1, -1), criteria)\n",
    "        \n",
    "        C_P=cv2.drawChessboardCorners(I2,checker_board_size,corners,retval)\n",
    "    \n",
    "        cv2.imshow(\"Checker_Board_Pattern\",C_P)\n",
    "        cv2.waitKey(0)\n",
    "             \n",
    "        cv2.destroyAllWindows()\n",
    "    return corners,C_P"
   ]
  },
  {
   "cell_type": "code",
   "execution_count": 6,
   "id": "f639c6d5",
   "metadata": {},
   "outputs": [],
   "source": [
    "def create_gradient_image(size_x, size_y):\n",
    "    # Create a black image\n",
    "    gradient_image = np.zeros((size_x, size_y), dtype=np.uint8)\n",
    "\n",
    "    # Calculate the center of the image\n",
    "    center_x, center_y = size_x // 2, size_y // 2\n",
    "\n",
    "    # Create a meshgrid for coordinates\n",
    "    x, y = np.meshgrid(np.arange(size_y), np.arange(size_x))\n",
    "\n",
    "    # Calculate Manhattan distance from the center\n",
    "    distance = np.abs(x - center_y) + np.abs(y - center_x)\n",
    "\n",
    "    # Normalize the distance to range [0, 255]\n",
    "    normalized_distance = (distance / distance.max()) * 255\n",
    "\n",
    "    # Invert the gradient so that center pixels have higher values\n",
    "    inverted_gradient = 255 - normalized_distance\n",
    "\n",
    "    # Assign pixel values to the image\n",
    "    gradient_image[:, :] = inverted_gradient\n",
    "\n",
    "    return gradient_image\n"
   ]
  },
  {
   "cell_type": "code",
   "execution_count": 7,
   "id": "c06f576f",
   "metadata": {},
   "outputs": [],
   "source": [
    "#########corners_in_black_and_white#####################\n",
    "def findTopLeft(img):\n",
    "    TL = None\n",
    "    height, width = img.shape\n",
    "    loopBreak = False\n",
    "    for k in range(0,height):\n",
    "        i=k\n",
    "        j=0\n",
    "        while(i>=0 and i< height and j>=0 and j<width):\n",
    "            if img[i][j] == 255:\n",
    "                TL = [i,j]\n",
    "                loopBreak = True\n",
    "                break\n",
    "            i -= 1\n",
    "            j += 1\n",
    "        if loopBreak:\n",
    "            break\n",
    "    \n",
    "    if TL == None:\n",
    "        loopBreak = False\n",
    "        for k in range(height,width):\n",
    "            i = 0\n",
    "            j = k\n",
    "            while(i>=0 and i< height and j>=0 and j<width):\n",
    "                if img[i][j] == 255:\n",
    "                    TL = [i,j]\n",
    "                    loopBreak = True\n",
    "                    break\n",
    "                i += 1\n",
    "                j -= 1\n",
    "            if loopBreak:\n",
    "                break\n",
    "                \n",
    "    if TL == None:\n",
    "        loopBreak = False\n",
    "        for k in range(0,height):\n",
    "            i = k\n",
    "            j = width-1\n",
    "            while(i>=0 and i< height and j>=0 and j<width):\n",
    "                if img[i][j] == 255:\n",
    "                    TL = [i,j]\n",
    "                    loopBreak = True\n",
    "                    break\n",
    "                i += 1\n",
    "                j -= 1\n",
    "            if loopBreak:\n",
    "                break\n",
    "    return TL\n",
    "def findTopRight(img):\n",
    "    TR = None\n",
    "    height, width = img.shape\n",
    "    loopBreak = False    \n",
    "    for k in range(width-1,-1,-1):\n",
    "        i = 0\n",
    "        j = k\n",
    "        while(i>=0 and i< height and j>=0 and j<width):\n",
    "            if img[i][j] == 255:\n",
    "                TR = [i,j]\n",
    "                loopBreak = True\n",
    "                break\n",
    "            i += 1\n",
    "            j += 1\n",
    "        if loopBreak:\n",
    "            break\n",
    "                \n",
    "    if TR == None:\n",
    "        loopBreak = False\n",
    "        for k in range(0,height):\n",
    "            i = k\n",
    "            j = 0\n",
    "            while(i>=0 and i< height and j>=0 and j<width):\n",
    "                if img[i][j] == 255:\n",
    "                    TR = [i,j]\n",
    "                    loopBreak = True\n",
    "                    break\n",
    "                i += 1\n",
    "                j += 1\n",
    "            if loopBreak:\n",
    "                break\n",
    "    return TR\n",
    "def findBottomRight(img):\n",
    "    BR = None\n",
    "    height, width = img.shape\n",
    "    loopBreak = False\n",
    "    for k in range(width-1,-1,-1):\n",
    "        i = height-1\n",
    "        j = k\n",
    "        while(i>=0 and i< height and j>=0 and j<width):\n",
    "            if img[i][j] == 255:\n",
    "                BR = [i,j]\n",
    "                loopBreak = True\n",
    "                break\n",
    "            i -= 1\n",
    "            j += 1\n",
    "        if loopBreak:\n",
    "            break\n",
    "    \n",
    "    if BR == None:\n",
    "        loopBreak = False\n",
    "        for k in range(height-1,-1,-1):\n",
    "            i = k\n",
    "            j = 0\n",
    "            while(i>=0 and i< height and j>=0 and j<width):\n",
    "                if img[i][j] == 255:\n",
    "                    BR = [i,j]\n",
    "                    loopBreak = True\n",
    "                    break\n",
    "                i -= 1\n",
    "                j += 1\n",
    "            if loopBreak:\n",
    "                break\n",
    "    return BR\n",
    "def findBottomLeft(img):\n",
    "    BL = None\n",
    "    height, width = img.shape\n",
    "    loopBreak = False\n",
    "    for k in range(width):\n",
    "        i = height-1\n",
    "        j = k\n",
    "        while(i>=0 and i< height and j>=0 and j<width):\n",
    "            if img[i][j] == 255:\n",
    "                BL = [i,j]\n",
    "                loopBreak = True\n",
    "                break\n",
    "            i -= 1\n",
    "            j -= 1\n",
    "        if loopBreak:\n",
    "            break\n",
    "    \n",
    "    if BL == None:\n",
    "        loopBreak = False\n",
    "        for k in range(height-1,-1,-1):\n",
    "            i = k\n",
    "            j = width-1\n",
    "            while(i>=0 and i< height and j>=0 and j<width):\n",
    "                if img[i][j] == 255:\n",
    "                    BL = [i,j]\n",
    "                    loopBreak = True\n",
    "                    break\n",
    "                i -= 1\n",
    "                j -= 1\n",
    "            if loopBreak:\n",
    "                break\n",
    "    return BL\n",
    "\n",
    "def findCornersOfQuadrilateral(image):\n",
    "    image2 = image.copy()\n",
    "    image2 = cv2.cvtColor(image2,cv2.COLOR_BGR2GRAY)\n",
    "    Threshold = 200\n",
    "    ret, binary_image = cv2.threshold(image2, Threshold, 255, cv2.THRESH_BINARY)\n",
    "    return [findTopLeft(binary_image),findTopRight(binary_image),findBottomRight(binary_image),findBottomLeft(binary_image)]\n",
    "\n",
    "def checkTheCorners(image,corners):\n",
    "    image2 = image.copy()\n",
    "    image2 = cv2.circle(image2,corners[0][::-1],5,(0,0,255),-1)\n",
    "    image2 = cv2.circle(image2,corners[1][::-1],5,(0,255,0),-1)\n",
    "    image2 = cv2.circle(image2,corners[2][::-1],5,(255,0,0),-1)\n",
    "    image2 = cv2.circle(image2,corners[3][::-1],5,(0,255,255),-1)\n",
    "    cv2.imshow(\"corners\",image2)\n",
    "    cv2.waitKey(0)\n",
    "    cv2.destroyAllWindows()\n",
    "    return"
   ]
  },
  {
   "cell_type": "code",
   "execution_count": 8,
   "id": "5eef40d5",
   "metadata": {},
   "outputs": [],
   "source": [
    "J_29_S_1=cv2.imread(r'WIN_20240509_16_45_08_Pro.jpg')\n",
    "J_29_S_2=cv2.imread(r'WIN_20240509_16_45_16_Pro.jpg')"
   ]
  },
  {
   "cell_type": "code",
   "execution_count": 9,
   "id": "6ba02090",
   "metadata": {},
   "outputs": [],
   "source": [
    "C_P=cv2.imread(r'combained_Dec_14.jpg')"
   ]
  },
  {
   "cell_type": "code",
   "execution_count": 10,
   "id": "61670970",
   "metadata": {},
   "outputs": [],
   "source": [
    "corners=findCornersOfQuadrilateral(C_P)"
   ]
  },
  {
   "cell_type": "code",
   "execution_count": 11,
   "id": "ca909ffc",
   "metadata": {},
   "outputs": [],
   "source": [
    "checkTheCorners(C_P,corners)"
   ]
  },
  {
   "cell_type": "raw",
   "id": "f705bb8a",
   "metadata": {},
   "source": [
    "Rect_new=np.array([[402, 233],[1551, 233],[1551, 905],[402, 905]])\n",
    "Rect_new\n",
    "array([[ 151,   85],\n",
    "       [1823,   85],\n",
    "       [1823, 1031],\n",
    "       [ 151, 1031]])"
   ]
  },
  {
   "cell_type": "code",
   "execution_count": 12,
   "id": "1501ac38",
   "metadata": {},
   "outputs": [],
   "source": [
    "Rect_new=np.array([[151,85],[1823,85],[1823,1031],[151,1031]])"
   ]
  },
  {
   "cell_type": "code",
   "execution_count": 13,
   "id": "c914d29b",
   "metadata": {},
   "outputs": [
    {
     "name": "stdout",
     "output_type": "stream",
     "text": [
      "True\n",
      "True\n"
     ]
    }
   ],
   "source": [
    "corners_proj_1,chk_1=checker_board_pattern_display_2(J_29_S_1)\n",
    "corners_proj_2,chk_2=checker_board_pattern_display_2(J_29_S_2)"
   ]
  },
  {
   "cell_type": "code",
   "execution_count": 14,
   "id": "d3210ffe",
   "metadata": {},
   "outputs": [
    {
     "data": {
      "text/plain": [
       "array([[[1082.7336 ,  794.78925]],\n",
       "\n",
       "       [[1046.0288 ,  794.0925 ]],\n",
       "\n",
       "       [[1009.6452 ,  793.44   ]],\n",
       "\n",
       "       ...,\n",
       "\n",
       "       [[ 389.88696,  368.41415]],\n",
       "\n",
       "       [[ 356.5053 ,  368.30682]],\n",
       "\n",
       "       [[ 323.4846 ,  368.37308]]], dtype=float32)"
      ]
     },
     "execution_count": 14,
     "metadata": {},
     "output_type": "execute_result"
    }
   ],
   "source": [
    "corners_proj_1"
   ]
  },
  {
   "cell_type": "raw",
   "id": "05c7fe36",
   "metadata": {},
   "source": [
    "#####for every other###########\n",
    "check_1=return_array(corners_proj_1[0][0],corners_proj_1[22][0],corners_proj_1[528][0],corners_proj_1[506][0])\n",
    "check_2=return_array(corners_proj_2[0][0],corners_proj_2[22][0],corners_proj_2[528][0],corners_proj_2[506][0])\n",
    "check_1,check_2"
   ]
  },
  {
   "cell_type": "raw",
   "id": "309217d8",
   "metadata": {},
   "source": [
    "check_1=return_array(corners_proj_1[506][0],corners_proj_1[0][0],corners_proj_1[22][0],corners_proj_1[528][0])\n",
    "check_2=return_array(corners_proj_2[0][0],corners_proj_2[22][0],corners_proj_2[528][0],corners_proj_2[506][0])\n",
    "check_1,check_2"
   ]
  },
  {
   "cell_type": "code",
   "execution_count": 15,
   "id": "c3a1fc5c",
   "metadata": {},
   "outputs": [
    {
     "data": {
      "text/plain": [
       "(array([[ 323,  368],\n",
       "        [1085,  359],\n",
       "        [1082,  794],\n",
       "        [ 310,  786]]),\n",
       " array([[1049,  358],\n",
       "        [1754,  349],\n",
       "        [1764,  807],\n",
       "        [1047,  792]]))"
      ]
     },
     "execution_count": 15,
     "metadata": {},
     "output_type": "execute_result"
    }
   ],
   "source": [
    "######for shifter  in two places#######\n",
    "check_1=return_array(corners_proj_1[528][0],corners_proj_1[506][0],corners_proj_1[0][0],corners_proj_1[22][0])\n",
    "check_2=return_array(corners_proj_2[528][0],corners_proj_2[506][0],corners_proj_2[0][0],corners_proj_2[22][0])\n",
    "check_1,check_2"
   ]
  },
  {
   "cell_type": "raw",
   "id": "c0e81d2c",
   "metadata": {},
   "source": [
    "######for shifter  in one place#######\n",
    "check_1=return_array(corners_proj_1[528][0],corners_proj_1[506][0],corners_proj_1[0][0],corners_proj_1[22][0])\n",
    "check_2=return_array(corners_proj_2[0][0],corners_proj_2[22][0],corners_proj_2[528][0],corners_proj_2[506][0])\n",
    "check_1,check_2"
   ]
  },
  {
   "cell_type": "raw",
   "id": "ae6d2191",
   "metadata": {},
   "source": [
    "######for shifter  in two places in different ways#######\n",
    "check_1=return_array(corners_proj_1[506][0],corners_proj_1[0][0],corners_proj_1[22][0],corners_proj_1[528][0])\n",
    "check_2=return_array(corners_proj_2[506][0],corners_proj_2[0][0],corners_proj_2[22][0],corners_proj_2[528][0])\n",
    "check_1,check_2"
   ]
  },
  {
   "cell_type": "code",
   "execution_count": 16,
   "id": "b7f18b59",
   "metadata": {},
   "outputs": [
    {
     "data": {
      "text/plain": [
       "array([[ 151,   85],\n",
       "       [1823,   85],\n",
       "       [1823, 1031],\n",
       "       [ 151, 1031]])"
      ]
     },
     "execution_count": 16,
     "metadata": {},
     "output_type": "execute_result"
    }
   ],
   "source": [
    "Rect_new"
   ]
  },
  {
   "cell_type": "code",
   "execution_count": 17,
   "id": "88f91901",
   "metadata": {},
   "outputs": [],
   "source": [
    "\n",
    "cv2.circle(J_29_S_1,check_1[0],2,(0,0,255),5)\n",
    "cv2.circle(J_29_S_1,check_1[1],2,(0,255,0),5)\n",
    "cv2.circle(J_29_S_1,check_1[2],2,(255,0,0),5)\n",
    "cv2.circle(J_29_S_1,check_1[3],2,(255,255,255),5)\n",
    "cv2.imshow(\"_\",J_29_S_1)\n",
    "cv2.waitKey(0)\n",
    "cv2.destroyAllWindows()"
   ]
  },
  {
   "cell_type": "code",
   "execution_count": 18,
   "id": "3265f3f6",
   "metadata": {},
   "outputs": [],
   "source": [
    "cv2.circle(J_29_S_2,check_2[0],2,(0,0,255),5)\n",
    "cv2.circle(J_29_S_2,check_2[1],2,(0,255,0),5)\n",
    "cv2.circle(J_29_S_2,check_2[2],2,(255,0,0),5)\n",
    "cv2.circle(J_29_S_2,check_2[3],2,(255,255,255),5)\n",
    "cv2.imshow(\"_\",J_29_S_2)\n",
    "cv2.waitKey(0)\n",
    "cv2.destroyAllWindows()"
   ]
  },
  {
   "cell_type": "code",
   "execution_count": 19,
   "id": "4ad31600",
   "metadata": {},
   "outputs": [],
   "source": [
    "Rect_Cord=cv2.imread(r'checker_board_25_25.jpg')\n",
    "cv2.circle(Rect_Cord,(151,   85),2,(0,0,255),5)\n",
    "cv2.circle(Rect_Cord,(1823,   85),2,(0,255,0),5)\n",
    "cv2.circle(Rect_Cord,(1823, 1031),2,(255,0,0),5)\n",
    "cv2.circle(Rect_Cord,(151, 1031),2,(255,255,255),5)\n",
    "cv2.imshow(\"_\",Rect_Cord)\n",
    "cv2.waitKey(0)\n",
    "cv2.destroyAllWindows()"
   ]
  },
  {
   "cell_type": "code",
   "execution_count": 20,
   "id": "0cea1835",
   "metadata": {},
   "outputs": [],
   "source": [
    "Hoomo_JAN_29_proj_1_C=cv2.getPerspectiveTransform(np.float32(check_1),np.float32(Rect_new))\n",
    "Hoomo_JAN_29_proj_2_C=cv2.getPerspectiveTransform(np.float32(check_2),np.float32(Rect_new))"
   ]
  },
  {
   "cell_type": "code",
   "execution_count": 21,
   "id": "db5b90d1",
   "metadata": {},
   "outputs": [],
   "source": [
    "H_1_C=Hoomo_JAN_29_proj_1_C\n",
    "H_2_C=Hoomo_JAN_29_proj_2_C"
   ]
  },
  {
   "cell_type": "code",
   "execution_count": 22,
   "id": "ed7d4e29",
   "metadata": {},
   "outputs": [
    {
     "data": {
      "text/plain": [
       "True"
      ]
     },
     "execution_count": 22,
     "metadata": {},
     "output_type": "execute_result"
    }
   ],
   "source": [
    "white=np.zeros_like(J_29_S_1)+255\n",
    "wh_re=cv2.imread(r'rect_box.jpg')\n",
    "combained_29=cv2.warpPerspective(white,np.linalg.inv(H_1_C),(1920,1080))+cv2.warpPerspective(white,np.linalg.inv(H_2_C),(1920,1080))\n",
    "cv2.imwrite(\"Dec_14_back_to_proj_1.jpg\",cv2.warpPerspective(combained_29,H_1_C,(1920,1080)))\n",
    "cv2.imwrite(\"Dec_14_back_to_proj_2.jpg\",cv2.warpPerspective(combained_29,H_2_C,(1920,1080)))"
   ]
  },
  {
   "cell_type": "code",
   "execution_count": 23,
   "id": "39132883",
   "metadata": {},
   "outputs": [
    {
     "data": {
      "text/plain": [
       "True"
      ]
     },
     "execution_count": 23,
     "metadata": {},
     "output_type": "execute_result"
    }
   ],
   "source": [
    "cv2.imwrite(r'back_to_camera_1.jpg',cv2.warpPerspective(white,np.linalg.inv(H_1_C),(1920,1080)))\n",
    "cv2.imwrite(r'back_to_camera_2.jpg',cv2.warpPerspective(white,np.linalg.inv(H_2_C),(1920,1080)))\n"
   ]
  },
  {
   "cell_type": "code",
   "execution_count": null,
   "id": "3c63fdf3",
   "metadata": {},
   "outputs": [],
   "source": []
  },
  {
   "cell_type": "code",
   "execution_count": 24,
   "id": "42d43152",
   "metadata": {},
   "outputs": [],
   "source": [
    "cv2.imshow(r'op',J_29_S_1+cv2.imread(r'back_to_camera_1.jpg'))\n",
    "cv2.imshow(r'BGBGB',cv2.imread(r'back_to_camera_1.jpg'))\n",
    "cv2.imshow(r'op_2',J_29_S_2+cv2.imread(r'back_to_camera_2.jpg'))\n",
    "\n",
    "cv2.waitKey(0)\n",
    "cv2.destroyAllWindows()"
   ]
  },
  {
   "cell_type": "code",
   "execution_count": 25,
   "id": "7864a32d",
   "metadata": {},
   "outputs": [],
   "source": [
    "cv2.imshow(\"VWRVWVWer\",combained_29)\n",
    "cv2.waitKey(0)\n",
    "cv2.destroyAllWindows()"
   ]
  },
  {
   "cell_type": "code",
   "execution_count": 26,
   "id": "eeaa48dc",
   "metadata": {},
   "outputs": [
    {
     "data": {
      "text/plain": [
       "True"
      ]
     },
     "execution_count": 26,
     "metadata": {},
     "output_type": "execute_result"
    }
   ],
   "source": [
    "cv2.imwrite(\"combained_Dec_14.jpg\",combained_29)"
   ]
  },
  {
   "cell_type": "code",
   "execution_count": 27,
   "id": "d0d04995",
   "metadata": {},
   "outputs": [
    {
     "data": {
      "text/plain": [
       "True"
      ]
     },
     "execution_count": 27,
     "metadata": {},
     "output_type": "execute_result"
    }
   ],
   "source": [
    "cv2.imwrite(r'back_to_proj_1_dec_14.jpg',cv2.warpPerspective(combained_29,H_1_C,(1920,1080)))\n",
    "cv2.imwrite(r'back_to_proj_2_dec_14.jpg',cv2.warpPerspective(combained_29,H_2_C,(1920,1080)))"
   ]
  },
  {
   "cell_type": "code",
   "execution_count": 28,
   "id": "38b31dce",
   "metadata": {},
   "outputs": [],
   "source": [
    "combained_white=cv2.bitwise_or(cv2.warpPerspective(white,np.linalg.inv(H_1_C),(1920,1080)),cv2.warpPerspective(white,np.linalg.inv(H_2_C),(1920,1080)))"
   ]
  },
  {
   "cell_type": "code",
   "execution_count": 29,
   "id": "16e2ea76",
   "metadata": {},
   "outputs": [],
   "source": [
    "blend_white=cv2.bitwise_and(cv2.warpPerspective(white,np.linalg.inv(H_1_C),(1920,1080)),cv2.warpPerspective(white,np.linalg.inv(H_2_C),(1920,1080)))"
   ]
  },
  {
   "cell_type": "code",
   "execution_count": 30,
   "id": "43c91f0b",
   "metadata": {},
   "outputs": [],
   "source": [
    "cv2.imshow(\"VVEVEFDvb\",blend_white)\n",
    "cv2.imshow(\"avavsdav\",combained_white)\n",
    "\n",
    "cv2.waitKey(0)\n",
    "cv2.destroyAllWindows()"
   ]
  },
  {
   "cell_type": "code",
   "execution_count": 31,
   "id": "2def22f6",
   "metadata": {},
   "outputs": [
    {
     "data": {
      "text/plain": [
       "True"
      ]
     },
     "execution_count": 31,
     "metadata": {},
     "output_type": "execute_result"
    }
   ],
   "source": [
    "cv2.imwrite(r'over_lap_image.jpg',blend_white)"
   ]
  },
  {
   "cell_type": "code",
   "execution_count": 32,
   "id": "81e6ac02",
   "metadata": {},
   "outputs": [
    {
     "data": {
      "text/plain": [
       "True"
      ]
     },
     "execution_count": 32,
     "metadata": {},
     "output_type": "execute_result"
    }
   ],
   "source": [
    "cv2.imwrite(r'combined_white.jpg',combained_white)"
   ]
  },
  {
   "cell_type": "code",
   "execution_count": 33,
   "id": "14c52286",
   "metadata": {},
   "outputs": [],
   "source": [
    "edge_1=edge_detector(cv2.imread(r'back_to_proj_1_dec_14.jpg'),3)\n",
    "edge_2=edge_detector(cv2.imread(r'back_to_proj_2_dec_14.jpg'),3)"
   ]
  },
  {
   "cell_type": "code",
   "execution_count": 34,
   "id": "cca448a0",
   "metadata": {},
   "outputs": [],
   "source": [
    "exp_1=cv2.imread(r'back_to_proj_1_dec_14.jpg')\n",
    "exp_2=cv2.imread(r'back_to_proj_2_dec_14.jpg')"
   ]
  },
  {
   "cell_type": "code",
   "execution_count": 35,
   "id": "7e575efb",
   "metadata": {},
   "outputs": [],
   "source": [
    "edge_exp_1=edge_detector(exp_1,3)\n",
    "edge_exp_2=edge_detector(exp_2,3)"
   ]
  },
  {
   "cell_type": "code",
   "execution_count": 36,
   "id": "1b6aab8a",
   "metadata": {},
   "outputs": [],
   "source": [
    "blen_in_proj_1_dec_14=cv2.warpPerspective(blend_white,H_1_C,(1920,1080))\n",
    "blen_in_proj_2_dec_14=cv2.warpPerspective(blend_white,H_2_C,(1920,1080))"
   ]
  },
  {
   "cell_type": "code",
   "execution_count": 37,
   "id": "b771e8c9",
   "metadata": {},
   "outputs": [],
   "source": [
    "cv2.imshow(\"blen_in_proj_1_dec_14\",blen_in_proj_1_dec_14)\n",
    "cv2.imshow(\"blen_in_proj_2_dec_14\",blen_in_proj_2_dec_14)\n",
    "cv2.waitKey(0)\n",
    "cv2.destroyAllWindows()"
   ]
  },
  {
   "cell_type": "code",
   "execution_count": 38,
   "id": "f864bc42",
   "metadata": {},
   "outputs": [
    {
     "data": {
      "text/plain": [
       "True"
      ]
     },
     "execution_count": 38,
     "metadata": {},
     "output_type": "execute_result"
    }
   ],
   "source": [
    "cv2.imwrite(r'blen_in_proj_1_dec_14.jpg',blen_in_proj_1_dec_14)\n",
    "cv2.imwrite(r'blen_in_proj_2_dec_14.jpg',blen_in_proj_2_dec_14)"
   ]
  },
  {
   "cell_type": "code",
   "execution_count": 39,
   "id": "2a83de35",
   "metadata": {},
   "outputs": [],
   "source": [
    "black_blend_proj_1=cv2.imread(r'blen_in_proj_1_dec_14.jpg')\n",
    "black_blend_proj_2=cv2.imread(r'blen_in_proj_2_dec_14.jpg')"
   ]
  },
  {
   "cell_type": "code",
   "execution_count": 40,
   "id": "1c1bfb09",
   "metadata": {},
   "outputs": [
    {
     "data": {
      "text/plain": [
       "((1080, 1920, 3), (1080, 1920, 3))"
      ]
     },
     "execution_count": 40,
     "metadata": {},
     "output_type": "execute_result"
    }
   ],
   "source": [
    "black_blend_proj_1.shape,black_blend_proj_2.shape"
   ]
  },
  {
   "cell_type": "code",
   "execution_count": 41,
   "id": "7f04afb9",
   "metadata": {},
   "outputs": [],
   "source": [
    "edges_image_proj_1=edge_detector(black_blend_proj_1,3)\n",
    "edges_image_proj_2=edge_detector(black_blend_proj_2,3)"
   ]
  },
  {
   "cell_type": "code",
   "execution_count": 42,
   "id": "5fb6ee05",
   "metadata": {},
   "outputs": [
    {
     "name": "stdout",
     "output_type": "stream",
     "text": [
      "[ 542. 1757.]\n",
      "[535.  197.5]\n"
     ]
    }
   ],
   "source": [
    "refinde_blend_1=filling_poly(edges_image_proj_1)\n",
    "refinde_blend_2=filling_poly(edges_image_proj_2)"
   ]
  },
  {
   "cell_type": "code",
   "execution_count": 43,
   "id": "cbbb2eb1",
   "metadata": {},
   "outputs": [],
   "source": [
    "H_P_1_C=np.linalg.inv(H_1_C)\n",
    "H_C_P_1=H_1_C\n",
    "H_P_2_C=np.linalg.inv(H_2_C)\n",
    "H_C_P_2=H_2_C\n",
    "target_coordinates = [(x, y) for x in range(1920) for y in range(1080)]"
   ]
  },
  {
   "cell_type": "code",
   "execution_count": 44,
   "id": "82b01258",
   "metadata": {},
   "outputs": [],
   "source": [
    "weights=np.zeros_like(cv2.cvtColor(black_blend_proj_1,cv2.COLOR_BGR2GRAY))\n",
    "weights=np.float64(weights)\n",
    "for i in range(0,1080):\n",
    "    for j in range(0,1920):\n",
    "        U=i/1080\n",
    "        V=j/1920 \n",
    "        weights[i,j]=min(U,1-U,V,1-V)"
   ]
  },
  {
   "cell_type": "code",
   "execution_count": 45,
   "id": "6ddfbc94",
   "metadata": {},
   "outputs": [],
   "source": [
    "neg_weights=1-weights"
   ]
  },
  {
   "cell_type": "code",
   "execution_count": 46,
   "id": "6182a515",
   "metadata": {},
   "outputs": [],
   "source": [
    "cv2.imshow(\"op\",weights)\n",
    "cv2.imshow(\"neg_op\",neg_weights)\n",
    "cv2.waitKey(0)\n",
    "cv2.destroyAllWindows()"
   ]
  },
  {
   "cell_type": "code",
   "execution_count": 47,
   "id": "b7119fb2",
   "metadata": {},
   "outputs": [
    {
     "data": {
      "text/plain": [
       "True"
      ]
     },
     "execution_count": 47,
     "metadata": {},
     "output_type": "execute_result"
    }
   ],
   "source": [
    "cv2.imwrite(\"weights_1.jpg\",weights*255)\n",
    "cv2.imwrite(\"weights_2.jpg\",weights*255)"
   ]
  },
  {
   "cell_type": "code",
   "execution_count": 48,
   "id": "16fbb410",
   "metadata": {},
   "outputs": [],
   "source": [
    "pts_29_jan_1=np.argwhere(cv2.cvtColor(blen_in_proj_1_dec_14,cv2.COLOR_BGR2GRAY)!=0)\n",
    "\n",
    "pts_29_jan_2=np.argwhere(cv2.cvtColor(blen_in_proj_2_dec_14,cv2.COLOR_BGR2GRAY)!=0)"
   ]
  },
  {
   "cell_type": "code",
   "execution_count": 49,
   "id": "8f13da98",
   "metadata": {},
   "outputs": [
    {
     "data": {
      "text/plain": [
       "(324245, 382740)"
      ]
     },
     "execution_count": 49,
     "metadata": {},
     "output_type": "execute_result"
    }
   ],
   "source": [
    "len(pts_29_jan_1),len(pts_29_jan_2)"
   ]
  },
  {
   "cell_type": "code",
   "execution_count": 50,
   "id": "cdbec78e",
   "metadata": {},
   "outputs": [],
   "source": [
    "H_1_2=H_2_C@np.linalg.inv(H_1_C)"
   ]
  },
  {
   "cell_type": "code",
   "execution_count": 51,
   "id": "d866c384",
   "metadata": {},
   "outputs": [
    {
     "data": {
      "text/plain": [
       "<matplotlib.image.AxesImage at 0x1a179c65550>"
      ]
     },
     "execution_count": 51,
     "metadata": {},
     "output_type": "execute_result"
    },
    {
     "data": {
      "image/png": "[encoded data removed]",
      "text/plain": [
       "<Figure size 640x480 with 1 Axes>"
      ]
     },
     "metadata": {},
     "output_type": "display_data"
    }
   ],
   "source": [
    "plt.imshow(cv2.warpPerspective(blen_in_proj_2_dec_14,np.linalg.inv(H_1_2),(1920,1080)))"
   ]
  },
  {
   "cell_type": "code",
   "execution_count": 52,
   "id": "61a42dd2",
   "metadata": {},
   "outputs": [],
   "source": [
    "dummy=np.zeros([blen_in_proj_1_dec_14.shape[0]*2,blen_in_proj_1_dec_14.shape[1]*2,3])\n",
    "dummy_2=np.zeros_like(dummy)\n",
    "dummy_3=np.zeros([blen_in_proj_1_dec_14.shape[0]*2,blen_in_proj_1_dec_14.shape[1]*2,3])\n",
    "dummy_4=np.zeros_like(dummy_2)\n",
    "PTS_CORR_2={}\n",
    "c=0\n",
    "c_1=0\n",
    "c_2=0\n",
    "cc=0\n",
    "PTS_CORR={}\n",
    "\n",
    "\n",
    "for point in pts_29_jan_1:\n",
    "    vaal=H_1_2@np.array([[point[1]],[point[0]],[1]])\n",
    "    vaal/=vaal[-1]\n",
    "    #print(point,\"point_corres_is\",vaal)\n",
    "    PTS_CORR[point[1],point[0]]=(np.abs(int(vaal[0])),np.abs(int(vaal[1])))\n",
    "    dummy[int(vaal[1]),int(vaal[0]),:]=255\n",
    "    c+=1\n",
    "    if (vaal[0]>0) and (vaal[1]>0):\n",
    "        c_1+=1\n",
    "        dummy_2[int(vaal[1]),int(vaal[0]),:]=255\n",
    "\n",
    "\n",
    "for pt in pts_29_jan_2:\n",
    "    vaal=np.linalg.inv(H_1_2)@np.array([[pt[1]],[pt[0]],[1]])\n",
    "    vaal/=vaal[-1]\n",
    "    #print(pt,\"point_corres_is\",vaal)\n",
    "        \n",
    "    dummy_3[int(vaal[1]),int(vaal[0]),:]=255\n",
    "    \n",
    "    #dummy_4[int(vaal[1]),int(vaal[0]),:]=255\n",
    "    \n",
    "    PTS_CORR_2[pt[1],pt[0]]=(np.abs(int(vaal[0])),np.abs(int(vaal[1])))\n",
    "    \n",
    "    cc+=1\n",
    "    if(vaal[0]>1080) and (vaal[1]>1920):\n",
    "        c_2+=0\n",
    "        dummy_3[int(vaal[1]),int(vaal[0]),:]=255\n",
    "             "
   ]
  },
  {
   "cell_type": "code",
   "execution_count": 53,
   "id": "81d4f88e",
   "metadata": {},
   "outputs": [
    {
     "name": "stderr",
     "output_type": "stream",
     "text": [
      "Clipping input data to the valid range for imshow with RGB data ([0..1] for floats or [0..255] for integers).\n"
     ]
    },
    {
     "data": {
      "text/plain": [
       "<matplotlib.image.AxesImage at 0x1a179d5ba10>"
      ]
     },
     "execution_count": 53,
     "metadata": {},
     "output_type": "execute_result"
    },
    {
     "data": {
      "image/png": "[encoded data removed]",
      "text/plain": [
       "<Figure size 640x480 with 1 Axes>"
      ]
     },
     "metadata": {},
     "output_type": "display_data"
    }
   ],
   "source": [
    "plt.imshow(dummy_2)"
   ]
  },
  {
   "cell_type": "code",
   "execution_count": 54,
   "id": "565880e9",
   "metadata": {},
   "outputs": [
    {
     "name": "stderr",
     "output_type": "stream",
     "text": [
      "Clipping input data to the valid range for imshow with RGB data ([0..1] for floats or [0..255] for integers).\n"
     ]
    },
    {
     "data": {
      "text/plain": [
       "<matplotlib.image.AxesImage at 0x1a1bab38c90>"
      ]
     },
     "execution_count": 54,
     "metadata": {},
     "output_type": "execute_result"
    },
    {
     "data": {
      "image/png": "[encoded data removed]",
      "text/plain": [
       "<Figure size 640x480 with 1 Axes>"
      ]
     },
     "metadata": {},
     "output_type": "display_data"
    }
   ],
   "source": [
    "plt.imshow(dummy_3)"
   ]
  },
  {
   "cell_type": "code",
   "execution_count": 55,
   "id": "bfd07735",
   "metadata": {},
   "outputs": [],
   "source": [
    "cv2.imshow(\"dummmy\",dummy)\n",
    "cv2.imshow(\"dummmy_2\",dummy_2)\n",
    "cv2.waitKey(0)\n",
    "cv2.destroyAllWindows()"
   ]
  },
  {
   "cell_type": "code",
   "execution_count": 56,
   "id": "becc88c3",
   "metadata": {},
   "outputs": [
    {
     "data": {
      "text/plain": [
       "True"
      ]
     },
     "execution_count": 56,
     "metadata": {},
     "output_type": "execute_result"
    }
   ],
   "source": [
    "cv2.imwrite(\"dummy_2.jpg\",dummy_2[0:1080,0:1920,:])"
   ]
  },
  {
   "cell_type": "code",
   "execution_count": 57,
   "id": "3542e47a",
   "metadata": {},
   "outputs": [
    {
     "data": {
      "text/plain": [
       "(322191, 0, 324245, 382740)"
      ]
     },
     "execution_count": 57,
     "metadata": {},
     "output_type": "execute_result"
    }
   ],
   "source": [
    "c_1,c_2,c,cc"
   ]
  },
  {
   "cell_type": "code",
   "execution_count": 58,
   "id": "b7062c82",
   "metadata": {},
   "outputs": [],
   "source": [
    "cv2.imshow(\"cadc\",dummy_2[0:1080,0:1920,:])\n",
    "cv2.imshow(\"cadcadcadc\",dummy_3[0:1080,0:1920,:])\n",
    "\n",
    "cv2.waitKey(0)\n",
    "cv2.destroyAllWindows()"
   ]
  },
  {
   "cell_type": "code",
   "execution_count": 59,
   "id": "1efadd68",
   "metadata": {},
   "outputs": [
    {
     "name": "stderr",
     "output_type": "stream",
     "text": [
      "Clipping input data to the valid range for imshow with RGB data ([0..1] for floats or [0..255] for integers).\n"
     ]
    },
    {
     "data": {
      "text/plain": [
       "<matplotlib.image.AxesImage at 0x1a1be7ff790>"
      ]
     },
     "execution_count": 59,
     "metadata": {},
     "output_type": "execute_result"
    },
    {
     "data": {
      "image/png": "[encoded data removed]",
      "text/plain": [
       "<Figure size 640x480 with 1 Axes>"
      ]
     },
     "metadata": {},
     "output_type": "display_data"
    }
   ],
   "source": [
    "plt.imshow(dummy_3[0:1080,0:1920])"
   ]
  },
  {
   "cell_type": "code",
   "execution_count": 60,
   "id": "a7724a6b",
   "metadata": {
    "scrolled": true
   },
   "outputs": [
    {
     "data": {
      "text/plain": [
       "(324245, 382740)"
      ]
     },
     "execution_count": 60,
     "metadata": {},
     "output_type": "execute_result"
    }
   ],
   "source": [
    "len(pts_29_jan_1),len(pts_29_jan_2)"
   ]
  },
  {
   "cell_type": "code",
   "execution_count": 61,
   "id": "6b2bf836",
   "metadata": {},
   "outputs": [],
   "source": [
    "unique_values = set()\n",
    "\n",
    "# Create a new dictionary without duplicate values\n",
    "filtered_dict = {}\n",
    "for key, value in PTS_CORR.items():\n",
    "    if value not in unique_values:\n",
    "        filtered_dict[key] = value\n",
    "        unique_values.add(value)\n",
    "\n",
    "#print(filtered_dict)"
   ]
  },
  {
   "cell_type": "code",
   "execution_count": 62,
   "id": "9000e59f",
   "metadata": {},
   "outputs": [
    {
     "data": {
      "text/plain": [
       "(324245, 322358)"
      ]
     },
     "execution_count": 62,
     "metadata": {},
     "output_type": "execute_result"
    }
   ],
   "source": [
    "len(PTS_CORR),len(filtered_dict)"
   ]
  },
  {
   "cell_type": "code",
   "execution_count": 63,
   "id": "e1defc75",
   "metadata": {},
   "outputs": [],
   "source": [
    "unique_values_2 = set()\n",
    "\n",
    "# Create a new dictionary without duplicate values\n",
    "filtered_dict_2= {}\n",
    "for key, value in PTS_CORR_2.items():\n",
    "    if value not in unique_values_2:\n",
    "        filtered_dict_2[key] = value\n",
    "        unique_values_2.add(value)\n",
    "\n",
    "#print(filtered_dict_2)"
   ]
  },
  {
   "cell_type": "code",
   "execution_count": 64,
   "id": "1635bca6",
   "metadata": {},
   "outputs": [
    {
     "data": {
      "text/plain": [
       "(382740, 323740)"
      ]
     },
     "execution_count": 64,
     "metadata": {},
     "output_type": "execute_result"
    }
   ],
   "source": [
    "len(PTS_CORR_2),len(filtered_dict_2)"
   ]
  },
  {
   "cell_type": "code",
   "execution_count": 65,
   "id": "2fc97ef1",
   "metadata": {},
   "outputs": [
    {
     "name": "stdout",
     "output_type": "stream",
     "text": [
      "322358\n",
      "322073\n"
     ]
    }
   ],
   "source": [
    "filter_dict_1={key:value for key,value in filtered_dict.items() if value[0]<=1919}\n",
    "print(len(filter_dict_1))\n",
    "filter_dict_1={key:value for key,value in filter_dict_1.items() if value[1]<=1079}\n",
    "print(len(filter_dict_1))"
   ]
  },
  {
   "cell_type": "code",
   "execution_count": 66,
   "id": "45e04385",
   "metadata": {},
   "outputs": [],
   "source": [
    "new_dict = {key: value for key, value in filtered_dict_2.items() if value[0] <= 1919}\n",
    "new_dict = {key: value for key, value in new_dict.items() if value[1] <= 1079}"
   ]
  },
  {
   "cell_type": "code",
   "execution_count": 67,
   "id": "2153e731",
   "metadata": {},
   "outputs": [
    {
     "data": {
      "text/plain": [
       "322506"
      ]
     },
     "execution_count": 67,
     "metadata": {},
     "output_type": "execute_result"
    }
   ],
   "source": [
    "len(new_dict)"
   ]
  },
  {
   "cell_type": "code",
   "execution_count": 68,
   "id": "6566e6cc",
   "metadata": {},
   "outputs": [],
   "source": [
    "ble_1=np.zeros_like(blen_in_proj_1_dec_14)+1\n",
    "ble_2=np.zeros_like(blen_in_proj_1_dec_14)+1\n",
    "ble_1=np.float32(ble_1)\n",
    "ble_2=np.float32(ble_2)"
   ]
  },
  {
   "cell_type": "code",
   "execution_count": 69,
   "id": "f16bfe72",
   "metadata": {},
   "outputs": [],
   "source": [
    "ble_1_2=np.zeros_like(blen_in_proj_1_dec_14)+1\n",
    "ble_2_2=np.zeros_like(blen_in_proj_1_dec_14)+1\n",
    "ble_1_2=np.float32(ble_1_2)\n",
    "ble_2_2=np.float32(ble_2_2)"
   ]
  },
  {
   "cell_type": "code",
   "execution_count": 70,
   "id": "6c91b4ff",
   "metadata": {},
   "outputs": [],
   "source": [
    "count_half_1=0\n",
    "for kys,vls in filter_dict_1.items():\n",
    "    V_1=weights[kys[1],kys[0]]\n",
    "    V_2=weights[vls[1],vls[0]]\n",
    "    if V_1==0 and V_2==0:\n",
    "        count_half_1+=0 \n",
    "        WT_1=0.5\n",
    "        WT_2=0.5\n",
    "        count_half_1+=1\n",
    "    else:\n",
    "        WT_1=(1.0)*V_1/(V_1+V_2)\n",
    "        WT_2=V_2/(V_1+V_2)\n",
    "    ble_1[kys[1],kys[0],:]=WT_1\n",
    "    ble_2[vls[1],vls[0],:]=WT_2\n",
    "    "
   ]
  },
  {
   "cell_type": "code",
   "execution_count": 71,
   "id": "71c83d1b",
   "metadata": {},
   "outputs": [],
   "source": [
    "count_half_2=0\n",
    "for kys,vls in new_dict.items():\n",
    "    V_1=weights[kys[1],kys[0]]\n",
    "    V_2=weights[vls[1],vls[0]]\n",
    "    if V_1==0 and V_2==0:\n",
    "        count_half_2+=1\n",
    "        WT_1=0.5\n",
    "        WT_2=0.5\n",
    "    else:\n",
    "        WT_1=(1.0)*V_1/(V_1+V_2)\n",
    "        WT_2=V_1/(V_1+V_2)\n",
    "    ble_1_2[kys[1],kys[0],:]=WT_1\n",
    "    ble_2_2[vls[1],vls[0],:]=WT_2\n",
    "\n",
    "#count_half_1,count_half_2    "
   ]
  },
  {
   "cell_type": "code",
   "execution_count": 72,
   "id": "b2f4ca7e",
   "metadata": {},
   "outputs": [],
   "source": [
    "cv2.imshow(\"ble_1\",ble_1)\n",
    "cv2.imshow(\"ble_2\",ble_2_2)\n",
    "cv2.waitKey(0)\n",
    "cv2.destroyAllWindows()"
   ]
  },
  {
   "cell_type": "code",
   "execution_count": 73,
   "id": "17ca3818",
   "metadata": {},
   "outputs": [],
   "source": [
    "cv2.imshow(\"ble_1\",ble_2)\n",
    "cv2.imshow(\"ble_2\",ble_1_2)\n",
    "cv2.waitKey(0)\n",
    "cv2.destroyAllWindows()"
   ]
  },
  {
   "cell_type": "code",
   "execution_count": 74,
   "id": "4be8ad22",
   "metadata": {},
   "outputs": [],
   "source": [
    "cv2.imshow(\"ble_1\",remove_pixel_HOR_VER(remove_pixel_HOR_VER(remove_pixel_HOR_VER(ble_2_2))))\n",
    "\n",
    "#cv2.imshow(\"ble_2\",remove_pixel_HOR_VER(ble_1_2))\n",
    "#cv2.imshow(\"ble_H\",remove_pixel_HOR_VER(remove_pixel_HOR_VER(ble_1_2)))\n",
    "\n",
    "cv2.imshow(\"ble_H_H\",remove_pixel_HOR_VER(remove_pixel_HOR_VER(remove_pixel_HOR_VER(remove_pixel_HOR_VER(remove_pixel_HOR_VER(ble_1_2))))))\n",
    "\n",
    "cv2.waitKey(0)\n",
    "cv2.destroyAllWindows()"
   ]
  },
  {
   "cell_type": "code",
   "execution_count": 75,
   "id": "9a77782a",
   "metadata": {},
   "outputs": [
    {
     "data": {
      "text/plain": [
       "True"
      ]
     },
     "execution_count": 75,
     "metadata": {},
     "output_type": "execute_result"
    }
   ],
   "source": [
    "cv2.imwrite(\"screen_1_ref.jpg\",ble_2_2*255)"
   ]
  },
  {
   "cell_type": "code",
   "execution_count": 76,
   "id": "1ff560ef",
   "metadata": {},
   "outputs": [],
   "source": [
    "def remove_pixel_HW(image):\n",
    "    img = np.copy(image)\n",
    "    bC = img[:, :, 0]\n",
    "    gC = img[:,:,1]\n",
    "    rC = img[:,:,2]\n",
    "    h,w,_ = img.shape\n",
    "    bC2 = img[:,:,0]\n",
    "    for row in range(0,h):\n",
    "        for i in range(1,w-1):\n",
    "            if bC[row][i]>bC[row][i-1] and  bC[row][i]>bC[row][i+1]:\n",
    "                bC2[row][i] = (bC[row][i-1]/2 + bC[row][i+1]/2)\n",
    "\n",
    "    gC2 = img[:,:,1]\n",
    "    for row in range(0,h):\n",
    "        for i in range(1,w-1):\n",
    "            if gC[row][i]>gC[row][i-1] and  gC[row][i]>gC[row][i+1]:\n",
    "                gC2[row][i] = (gC[row][i-1]/2 + gC[row][i+1]/2)\n",
    "\n",
    "    rC2 = img[:,:,2]\n",
    "    for row in range(0,h):\n",
    "        for i in range(1,w-1):\n",
    "            if rC[row][i]>rC[row][i-1] and  rC[row][i]>rC[row][i+1]:\n",
    "                rC2[row][i] = (rC[row][i-1]/2 + rC[row][i+1]/2)\n",
    "\n",
    "    img3 = np.zeros_like(img)\n",
    "    img3[:,:,0] = bC2\n",
    "    img3[:,:,1] = gC2\n",
    "    img3[:,:,2] = rC2\n",
    "    \n",
    "    img4 = np.copy(img3)\n",
    "    bC = img4[:, :, 0]\n",
    "    gC = img4[:,:,1]\n",
    "    rC = img4[:,:,2]\n",
    "    h,w,_ = img4.shape\n",
    "    bC2 = np.copy(bC)\n",
    "    for col in range(0,w):\n",
    "        for i in range(1,h-1):\n",
    "            if bC[i][col]>bC[i-1][col] and bC[i][col]>bC[i+1][col]:\n",
    "                bC2[i][col] = (bC[i-1][col]/2 + bC[i+1][col]/2)\n",
    "    gC2 = np.copy(gC)\n",
    "    for col in range(0,w):\n",
    "        for i in range(1,h-1):\n",
    "            if gC[i][col]>gC[i-1][col] and gC[i][col]>gC[i+1][col]:\n",
    "                gC2[i][col] = (gC[i-1][col]/2 + gC[i+1][col]/2)\n",
    "    rC2 = np.copy(rC)\n",
    "    for col in range(0,w):\n",
    "        for i in range(1,h-1):\n",
    "            if rC[i][col]>rC[i-1][col] and rC[i][col]>rC[i+1][col]:\n",
    "                rC2[i][col] = (rC[i-1][col]/2 + rC[i+1][col]/2)\n",
    "    img4[:,:,0] = bC2\n",
    "    img4[:,:,1] = gC2\n",
    "    img4[:,:,2] = rC2\n",
    "    \n",
    "    return img4"
   ]
  },
  {
   "cell_type": "code",
   "execution_count": 77,
   "id": "850ba8b8",
   "metadata": {},
   "outputs": [],
   "source": [
    "cv2.imshow(\"ble_1\",remove_pixel_HOR_VER(remove_pixel_HOR_VER(remove_pixel_HOR_VER(ble_1))))\n",
    "\n",
    "#cv2.imshow(\"ble_2\",remove_pixel_HOR_VER(ble_1_2))\n",
    "#cv2.imshow(\"ble_H\",remove_pixel_HOR_VER(remove_pixel_HOR_VER(ble_1_2)))\n",
    "\n",
    "cv2.imshow(\"ble_H_H\",remove_pixel_HOR_VER(remove_pixel_HOR_VER(remove_pixel_HOR_VER(remove_pixel_HOR_VER(remove_pixel_HOR_VER(ble_1_2))))))\n",
    "\n",
    "cv2.waitKey(0)\n",
    "cv2.destroyAllWindows()"
   ]
  },
  {
   "cell_type": "code",
   "execution_count": 78,
   "id": "1be7a92d",
   "metadata": {},
   "outputs": [
    {
     "data": {
      "text/plain": [
       "True"
      ]
     },
     "execution_count": 78,
     "metadata": {},
     "output_type": "execute_result"
    }
   ],
   "source": [
    "cv2.imwrite(r'blended_screen_1.jpg',remove_pixel_HOR_VER(remove_pixel_HOR_VER(remove_pixel_HOR_VER(ble_1)))*255)\n",
    "cv2.imwrite(r'blended_screen_2.jpg',remove_pixel_HOR_VER(remove_pixel_HOR_VER(remove_pixel_HOR_VER(remove_pixel_HOR_VER(remove_pixel_HOR_VER(ble_1_2)))))*255)"
   ]
  },
  {
   "cell_type": "raw",
   "id": "c96ac544",
   "metadata": {},
   "source": [
    "gray_img_1=np.zeros_like(black_blend_proj_1)+100\n",
    "gray_img_2=np.zeros_like(black_blend_proj_1)+155"
   ]
  },
  {
   "cell_type": "raw",
   "id": "97065f72",
   "metadata": {},
   "source": [
    "cv2.imshow(\"gray_1\",gray_img_1)\n",
    "cv2.imshow(\"gray_2\",gray_img_2)\n",
    "cv2.waitKey(0)\n",
    "cv2.destroyAllWindows()"
   ]
  },
  {
   "cell_type": "raw",
   "id": "e3989926",
   "metadata": {},
   "source": [
    "cv2.imwrite(\"gray_1.jpg\",gray_img_1)\n",
    "cv2.imwrite(\"gray_2.jpg\",gray_img_2)"
   ]
  },
  {
   "cell_type": "raw",
   "id": "f99905f8",
   "metadata": {},
   "source": [
    "white_1=np.zeros_like(blen_in_proj_1_dec_14)+255\n",
    "white_2=np.zeros_like(blen_in_proj_1_dec_14)+255"
   ]
  },
  {
   "cell_type": "raw",
   "id": "25fed270",
   "metadata": {},
   "source": [
    "for pt in pts_29_jan_1:\n",
    "    white_1[pt[0],pt[1]]=0\n",
    "for pt in pts_29_jan_2:\n",
    "    white_2[pt[0],pt[1]]=0"
   ]
  },
  {
   "cell_type": "raw",
   "id": "2fba9dd2",
   "metadata": {},
   "source": [
    "cv2.imshow(\"white_1.jpg\",white_1)\n",
    "cv2.imshow(\"white_2.jpg\",white_2)\n",
    "cv2.waitKey(0)\n",
    "cv2.destroyAllWindows()"
   ]
  },
  {
   "cell_type": "raw",
   "id": "17910a0d",
   "metadata": {},
   "source": [
    "cv2.imwrite(\"white_1.jpg\",white_1)\n",
    "cv2.imwrite(\"white_2.jpg\",white_2)"
   ]
  },
  {
   "cell_type": "raw",
   "id": "9d345165",
   "metadata": {},
   "source": [
    "refined_ble_1_2=remove_pixel_HOR_VER(remove_pixel_HOR_VER(remove_pixel_HOR_VER(ble_1_2)))\n",
    "refinde_blend_1_1=remove_pixel_HOR_VER(remove_pixel_HOR_VER(remove_pixel_HOR_VER(ble_1)))"
   ]
  },
  {
   "cell_type": "raw",
   "id": "e3c94184",
   "metadata": {},
   "source": [
    "plt.imshow(white_2)"
   ]
  },
  {
   "cell_type": "raw",
   "id": "cf4e5da7",
   "metadata": {},
   "source": [
    "white_2[0:120,:,:]=refined_ble_1_2[0:120,:,:]*255"
   ]
  },
  {
   "cell_type": "raw",
   "id": "28d0af56",
   "metadata": {},
   "source": [
    "white_2[:,394:491,:]=refined_ble_1_2[:,394:491,:]*255"
   ]
  },
  {
   "cell_type": "raw",
   "id": "a8966178",
   "metadata": {},
   "source": [
    "click_image(r'white_2.jpg')"
   ]
  },
  {
   "cell_type": "raw",
   "id": "e216f809",
   "metadata": {},
   "source": [
    "cv2.imshow(\"ble_1_2\",refined_ble_1_2)\n",
    "cv2.imshow(\"ble_1\",refinde_blend_1_1)\n",
    "\n",
    "cv2.waitKey(0)\n",
    "cv2.destroyAllWindows()"
   ]
  },
  {
   "cell_type": "raw",
   "id": "cafca32e",
   "metadata": {},
   "source": [
    "white_1[0:100,:,:]=refinde_blend_1_1[0:100,:,:]*255\n",
    "white_1[:,1920-100:1920,:]=refinde_blend_1_1[:,1920-100:1920,:]*255"
   ]
  },
  {
   "cell_type": "raw",
   "id": "3178f181",
   "metadata": {},
   "source": [
    "plt.imshow(white_1)"
   ]
  },
  {
   "cell_type": "code",
   "execution_count": 79,
   "id": "96d584fa",
   "metadata": {},
   "outputs": [],
   "source": [
    "def edge_detection(image_path):\n",
    "    # Read the image\n",
    "    img = image_path.copy()\n",
    "\n",
    "    # Apply Gaussian blur to the image\n",
    "    blurred = cv2.GaussianBlur(img, (5, 5), 0)\n",
    "\n",
    "    # Apply the Canny edge detector\n",
    "    edges = cv2.Canny(blurred, 50, 150)\n",
    "    #print(edges)\n",
    "    # Display the result\n",
    "    cv2.imshow('Original Image', img)\n",
    "    cv2.imshow('Edge Detection', edges)\n",
    "    cv2.waitKey(0)\n",
    "    cv2.destroyAllWindows()\n",
    "    \n",
    "    return edges"
   ]
  },
  {
   "cell_type": "raw",
   "id": "41bf1606",
   "metadata": {},
   "source": [
    "edge_1=edge_detection(white_1)\n",
    "edge_2=edge_detection(white_2)"
   ]
  },
  {
   "cell_type": "raw",
   "id": "be0e7dcb",
   "metadata": {},
   "source": [
    "edge_1.shape"
   ]
  },
  {
   "cell_type": "raw",
   "id": "a1b3074c",
   "metadata": {},
   "source": [
    "edge_2.shape"
   ]
  },
  {
   "cell_type": "raw",
   "id": "5c72a26c",
   "metadata": {},
   "source": [
    "1920*1080"
   ]
  },
  {
   "cell_type": "raw",
   "id": "467531ba",
   "metadata": {},
   "source": [
    "edge_pts_1=len(np.argwhere(edge_2==255))"
   ]
  },
  {
   "cell_type": "code",
   "execution_count": 80,
   "id": "c5d004fb",
   "metadata": {},
   "outputs": [],
   "source": [
    "def replace_pixels(image1, image2):\n",
    "    # Read the images\n",
    "    img1 = image1.copy()\n",
    "    img2 = image2.copy()\n",
    "\n",
    "    # Convert images to grayscale\n",
    "    edge=edge_detection(image1)\n",
    "    if len(edge.shape)==3:\n",
    "        gray1 = cv2.cvtColor(edge, cv2.COLOR_BGR2GRAY)\n",
    "    else:\n",
    "        gray1=edge\n",
    "    # Find coordinates where pixel value is 255 in the first image\n",
    "    row, col = np.where(gray1 == 255)\n",
    "    \n",
    "    \n",
    "    \n",
    "    # Replace pixels in the first image with corresponding pixels from the second image\n",
    "    for r, c in zip(row, col):\n",
    "        img1[r-4:r+4, c-4:c+4] = img2[r-4:r+4, c-4:c+4]\n",
    "\n",
    "    # Display the result\n",
    "    cv2.imshow('Result', img1)\n",
    "    cv2.imshow('Result2', img2)\n",
    "    \n",
    "    cv2.waitKey(0)\n",
    "    cv2.destroyAllWindows()\n",
    "    \n",
    "    return img1"
   ]
  },
  {
   "cell_type": "raw",
   "id": "c2da93b3",
   "metadata": {},
   "source": [
    "cv2.imwrite(\"refined_edges_2.jpg\",replace_pixels(white_2,refined_ble_1_2*255))"
   ]
  },
  {
   "cell_type": "raw",
   "id": "cc54cee6",
   "metadata": {},
   "source": [
    "plt.imshow(edge_1)"
   ]
  },
  {
   "cell_type": "raw",
   "id": "ee2d7cef",
   "metadata": {},
   "source": [
    "edge_detection(white_1)"
   ]
  },
  {
   "cell_type": "raw",
   "id": "842216d9",
   "metadata": {},
   "source": [
    "np.argwhere(edge_1==255)[:,0]"
   ]
  },
  {
   "cell_type": "raw",
   "id": "9d392561",
   "metadata": {},
   "source": [
    "np.argwhere(edge_1==255)[:,1]"
   ]
  },
  {
   "cell_type": "code",
   "execution_count": 81,
   "id": "6c267362",
   "metadata": {},
   "outputs": [],
   "source": [
    "def normalize_color_image(image_path):\n",
    "    # Read the color image\n",
    "    img = image_path.copy()\n",
    "\n",
    "    # Get the dimensions of the image\n",
    "    height, width, _ = img.shape\n",
    "\n",
    "    # Calculate the distance from each pixel to the center\n",
    "    y, x = np.ogrid[:height, :width]\n",
    "    distance_to_center = np.sqrt((x - width // 2)**2 + (y - height // 2)**2)\n",
    "\n",
    "    # Normalize each color channel separately\n",
    "    normalized_image = np.zeros_like(img, dtype=np.float32)\n",
    "    for channel in range(3):\n",
    "        channel_values = img[:,:,channel]\n",
    "        normalized_channel = 1 - (distance_to_center / distance_to_center.max())\n",
    "        normalized_image[:,:,channel] = (normalized_channel * channel_values / 255.0).clip(0, 1)\n",
    "\n",
    "    # Display the result\n",
    "    cv2.imshow('Original Image', img)\n",
    "    cv2.imshow('Normalized Image', (normalized_image * 255).astype(np.uint8))\n",
    "    cv2.waitKey(0)\n",
    "    cv2.destroyAllWindows()"
   ]
  },
  {
   "cell_type": "raw",
   "id": "21d02e0e",
   "metadata": {},
   "source": [
    "normalize_color_image(np.zeros_like(blen_in_proj_1_dec_14)+255)"
   ]
  },
  {
   "cell_type": "raw",
   "id": "4ca634a8",
   "metadata": {},
   "source": [
    "weights_2=normalize_color_image(np.zeros_like(blen_in_proj_1_dec_14)+255)"
   ]
  },
  {
   "cell_type": "code",
   "execution_count": 82,
   "id": "e9b5f370",
   "metadata": {},
   "outputs": [],
   "source": [
    "from scipy.ndimage import distance_transform_edt"
   ]
  },
  {
   "cell_type": "code",
   "execution_count": 83,
   "id": "59914100",
   "metadata": {},
   "outputs": [],
   "source": [
    "def bwdist_equivalent(image_path):\n",
    "    # Read the binary image\n",
    "    img = image_path.copy()\n",
    "\n",
    "    # Threshold the image to obtain a binary image\n",
    "    _, binary_image = cv2.threshold(img, 128, 255, cv2.THRESH_BINARY)\n",
    "\n",
    "    # Compute the Euclidean distance transform\n",
    "    distance_transform = distance_transform_edt(binary_image)\n",
    "\n",
    "    # Normalize the distance transform to the range [0, 1] with inverted values\n",
    "    normalized_distance_transform = 1 - (distance_transform - distance_transform.min()) / (distance_transform.max() - distance_transform.min())\n",
    "\n",
    "    # Display the results\n",
    "    cv2.imshow('Binary Image', binary_image)\n",
    "    cv2.imshow('Distance Transform', (normalized_distance_transform * 255).astype(np.uint8))\n",
    "    cv2.waitKey(0)\n",
    "    cv2.destroyAllWindows()"
   ]
  },
  {
   "cell_type": "raw",
   "id": "7c6bf15f",
   "metadata": {},
   "source": [
    "bwdist_equivalent(np.zeros_like(black_blend_proj_1)[:,:,0]+255)"
   ]
  },
  {
   "cell_type": "raw",
   "id": "ec03ba1c",
   "metadata": {},
   "source": [
    "############31-JAN-2024 image pyramids#################"
   ]
  },
  {
   "cell_type": "raw",
   "id": "51749505",
   "metadata": {},
   "source": [
    "img=cv2.imread(r'R_S_CB.jpg')"
   ]
  },
  {
   "cell_type": "raw",
   "id": "750131db",
   "metadata": {},
   "source": [
    "h=[1/16,4/16,6/16,4/16,1/16]\n",
    "N=3"
   ]
  },
  {
   "cell_type": "raw",
   "id": "28c5c8cf",
   "metadata": {},
   "source": [
    "p=[]\n",
    "p.append(img)"
   ]
  },
  {
   "cell_type": "raw",
   "id": "0f3bec01",
   "metadata": {},
   "source": [
    "for k in range(1,N):\n",
    "    im2=np.zeros_like(img)\n",
    "    \n",
    "    for z in range(3):\n",
    "        im2[:,:,z]=sepfir2d(img[:,:,z],h,h)\n",
    "        \n",
    "    im2=im2[0:-1:2,0:-1:2,:]\n",
    "    img=im2\n",
    "    p.append(im2)"
   ]
  },
  {
   "cell_type": "raw",
   "id": "0f0ace83",
   "metadata": {},
   "source": [
    "len(p)"
   ]
  },
  {
   "cell_type": "raw",
   "id": "f2783bc3",
   "metadata": {},
   "source": [
    "1080,1080/2,540/2,1920,1920/2,960/2"
   ]
  },
  {
   "cell_type": "raw",
   "id": "6fe2f16e",
   "metadata": {},
   "source": [
    "p[0].shape"
   ]
  },
  {
   "cell_type": "raw",
   "id": "95383d01",
   "metadata": {},
   "source": [
    "A=img[0:-1:2,0:-1:2]"
   ]
  },
  {
   "cell_type": "raw",
   "id": "6550e0da",
   "metadata": {},
   "source": [
    "A.shape,img.shape"
   ]
  },
  {
   "cell_type": "raw",
   "id": "1bda3e70",
   "metadata": {},
   "source": [
    "A[0:-1:2,0:-1:2].shape"
   ]
  },
  {
   "cell_type": "raw",
   "id": "f1bc435d",
   "metadata": {},
   "source": [
    "img[0:-1:2,0:-1:3].shape"
   ]
  },
  {
   "cell_type": "raw",
   "id": "b8bf3ce2",
   "metadata": {},
   "source": [
    "N=4\n",
    "G=[]\n",
    "img=cv2.imread(r'R_S_CB.jpg')\n",
    "G.append(img)\n",
    "for k in range(1,N):\n",
    "    im2=np.zeros_like(img)\n",
    "    \n",
    "    for z in range(3):\n",
    "        im2[:,:,z]=sepfir2d(img[:,:,z],h,h)\n",
    "        \n",
    "    im2=im2[0:-1:2,0:-1:2,:]\n",
    "    img=im2\n",
    "    G.append(im2)"
   ]
  },
  {
   "cell_type": "raw",
   "id": "0f65aa1a",
   "metadata": {},
   "source": [
    "cv2.imshow(\"G[0]\",G[0])\n",
    "cv2.imshow(\"G[1]\",G[1])\n",
    "cv2.imshow(\"G[2]\",G[2])\n",
    "cv2.imshow(\"G[3]\",G[3])\n",
    "cv2.imshow(\"resized_G[0]\",cv2.resize(G[2],(0,0),fx=2,fy=2))\n",
    "cv2.imshow(\"difference\",G[1]-cv2.resize(G[2],(0,0),fx=2,fy=2))\n",
    "cv2.waitKey(0)\n",
    "cv2.destroyAllWindows()"
   ]
  },
  {
   "cell_type": "raw",
   "id": "1d60459a",
   "metadata": {},
   "source": [
    "LAPLACIAN=[]\n",
    "for k in range(0,N-1):\n",
    "    L1=G[k]\n",
    "    L2=G[k+1]\n",
    "    Laplace=L1-cv2.resize(L2,(0,0),fx=2,fy=2)\n",
    "    LAPLACIAN.append(Laplace)"
   ]
  },
  {
   "cell_type": "raw",
   "id": "88e65a52",
   "metadata": {},
   "source": [
    "cv2.imshow(\"LAPLACIAN[0]\",LAPLACIAN[0])\n",
    "cv2.imshow(\"LAPLACIAN[1]\",LAPLACIAN[1])\n",
    "cv2.imshow(\"LAPLACIAN[2]\",LAPLACIAN[2])\n",
    "cv2.waitKey(0)\n",
    "cv2.destroyAllWindows()"
   ]
  },
  {
   "cell_type": "raw",
   "id": "674c7f71",
   "metadata": {},
   "source": [
    "#################################(24,24)##########################\n",
    "image = cv2.imread('WIN_20240201_11_02_38_Pro.jpg')  # Replace 'chessboard_image.jpg' with your image file\n",
    "\n",
    "# Convert the image to grayscale\n",
    "gray = cv2.cvtColor(image, cv2.COLOR_BGR2GRAY)\n",
    "\n",
    "# Find chessboard corners\n",
    "ret, corners = cv2.findChessboardCorners(gray, (23,23), None)\n",
    "if ret:\n",
    "    criteria = (cv2.TERM_CRITERIA_EPS + cv2.TERM_CRITERIA_MAX_ITER, 30, 0.001)\n",
    "    corners = cv2.cornerSubPix(gray, corners, (11, 11), (-1, -1), criteria)\n",
    "\n",
    "    # Draw the corners on the image\n",
    "    cv2.drawChessboardCorners(image, (23,23), corners, ret)\n",
    "\n",
    "    # Display the image with corners\n",
    "    cv2.imshow('Chessboard Corners', image)\n",
    "    cv2.waitKey(0)\n",
    "    cv2.destroyAllWindows()\n",
    "\n",
    "    # Save the image with corners\n",
    "    cv2.imwrite('chessboard_with_corners.jpg', image)\n",
    "\n",
    "    # Print the detected corners\n",
    "    print(\"Detected corners:\\n\", corners)\n",
    "\n",
    "else:\n",
    "    print(\"Chessboard corners not found.\")"
   ]
  },
  {
   "cell_type": "raw",
   "id": "f8a23734",
   "metadata": {},
   "source": [
    "image_width = 1920\n",
    "image_height = 1080\n",
    "\n",
    "# Set checkerboard corners\n",
    "corners_x = 200\n",
    "corners_y = 200\n",
    "\n",
    "# Create an empty white image\n",
    "image = np.ones((image_height, image_width, 3), dtype=np.uint8) * 255\n",
    "\n",
    "# Calculate the width and height of each square\n",
    "square_width = image_width // corners_x\n",
    "square_height = image_height // corners_y\n",
    "\n",
    "# Generate checkerboard pattern\n",
    "for i in range(corners_x):\n",
    "    for j in range(corners_y):\n",
    "        if (i + j) % 2 == 1:\n",
    "            # Dark square\n",
    "            image[j * square_height:(j + 1) * square_height, i * square_width:(i + 1) * square_width] = 0\n",
    "\n",
    "# Display the checkerboard pattern\n",
    "cv2.imshow('Checkerboard Pattern', image)\n",
    "cv2.waitKey(0)\n",
    "cv2.destroyAllWindows()\n",
    "cv2.imwrite(\"checker_board_200_200.jpg\",image)"
   ]
  },
  {
   "cell_type": "raw",
   "id": "be667c19",
   "metadata": {},
   "source": [
    "cv2.imwrite(\"checker_board_25_25.jpg\",image)\n",
    "cv2.imwrite(\"checker_board_25_25_inverted.jpg\",255-image)\n"
   ]
  },
  {
   "cell_type": "raw",
   "id": "6393e2d2",
   "metadata": {},
   "source": [
    "click_image('checker_board_25_25.jpg')"
   ]
  },
  {
   "cell_type": "raw",
   "id": "1e7c5963",
   "metadata": {},
   "source": [
    "575-22"
   ]
  },
  {
   "cell_type": "raw",
   "id": "e3cfd008",
   "metadata": {},
   "source": [
    "plot_points_with_labels_above(cv2.imread(r'WIN_20240201_11_02_38_Pro.jpg'),corners[0][0],corners[22][0],corners[528][0],corners[506][0])"
   ]
  },
  {
   "cell_type": "raw",
   "id": "88f0686c",
   "metadata": {},
   "source": [
    "points_screen_2=return_array(corners[0][0],corners[22][0],corners[528][0],corners[506][0])"
   ]
  },
  {
   "cell_type": "raw",
   "id": "2e352a08",
   "metadata": {},
   "source": [
    "points_screen_2"
   ]
  },
  {
   "cell_type": "raw",
   "id": "84464735",
   "metadata": {},
   "source": [
    "points_screen_1=return_array(corners[0][0],corners[22][0],corners[528][0],corners[506][0])"
   ]
  },
  {
   "cell_type": "raw",
   "id": "86751208",
   "metadata": {},
   "source": [
    "points_screen_1"
   ]
  },
  {
   "cell_type": "raw",
   "id": "1fe9245e",
   "metadata": {},
   "source": [
    "screen_2_points=array([[1288,  223],\n",
    "                       [1819,  277],\n",
    "                       [1842,  614],\n",
    "                       [1319,  601]])\n",
    "screen_1_points=array([[ 604,  178],\n",
    "                       [1381,  211],\n",
    "                       [1378,  632],\n",
    "                       [ 607,  636]])\n",
    "actual_points=array([[ 151,   85],\n",
    "                     [1823,   85],\n",
    "                     [1823, 1031],\n",
    "                     [ 151, 1031]])"
   ]
  },
  {
   "cell_type": "raw",
   "id": "efb1edaf",
   "metadata": {},
   "source": [
    "plot_points_with_labels_above(cv2.imread(r'checker_board_25_25.jpg'),corners[25][0],corners[47][0],corners[575][0],corners[553][0])"
   ]
  },
  {
   "cell_type": "raw",
   "id": "7dc71bee",
   "metadata": {},
   "source": [
    "actual_points=return_array(corners[25][0],corners[47][0],corners[575][0],corners[553][0])"
   ]
  },
  {
   "cell_type": "raw",
   "id": "ac5ddb6c",
   "metadata": {},
   "source": [
    "actual_points"
   ]
  },
  {
   "cell_type": "raw",
   "id": "093af3ff",
   "metadata": {},
   "source": [
    "overlap_image=cv2.imread(r'over_lap_image.jpg',0)"
   ]
  },
  {
   "cell_type": "raw",
   "id": "aa4da438",
   "metadata": {},
   "source": [
    "len(np.argwhere(overlap_image!=0))"
   ]
  },
  {
   "cell_type": "raw",
   "id": "811fa55e",
   "metadata": {},
   "source": [
    "cv2.imshow(\"projectin to camera screen1\",cv2.warpPerspective(np.zeros_like(combained_29)+255,np.linalg.inv(H_1_C),(1920,1080)))\n",
    "cv2.imshow(\"projectin to camera screen2\",cv2.warpPerspective(np.zeros_like(combained_29)+255,np.linalg.inv(H_2_C),(1920,1080)))\n",
    "cv2.waitKey(0)\n",
    "cv2.destroyAllWindows()"
   ]
  },
  {
   "cell_type": "raw",
   "id": "43d60d70",
   "metadata": {},
   "source": [
    "back_proj_1=cv2.warpPerspective(np.zeros_like(combained_29)+255,np.linalg.inv(H_1_C),(1920,1080))\n",
    "back_proj_2=cv2.warpPerspective(np.zeros_like(combained_29)+255,np.linalg.inv(H_2_C),(1920,1080))"
   ]
  },
  {
   "cell_type": "code",
   "execution_count": 84,
   "id": "76061a3a",
   "metadata": {},
   "outputs": [],
   "source": [
    "def find_polygon_corners(image_path):\n",
    "    # Read the image in grayscale\n",
    "    img =image_path.copy()\n",
    "    if len(img.shape)==3:\n",
    "        img=cv2.cvtColor(img,cv2.COLOR_BGR2GRAY)\n",
    "    else:\n",
    "        img=img\n",
    "\n",
    "    # Apply binary thresholding to obtain a binary image\n",
    "    _, thresh = cv2.threshold(img, 1, 255, cv2.THRESH_BINARY)\n",
    "\n",
    "    # Find contours in the binary image\n",
    "    contours, _ = cv2.findContours(thresh, cv2.RETR_EXTERNAL, cv2.CHAIN_APPROX_SIMPLE)\n",
    "\n",
    "    if contours:\n",
    "        # Assuming the largest contour is the desired polygon\n",
    "        largest_contour = max(contours, key=cv2.contourArea)\n",
    "\n",
    "        # Approximate the contour to a polygon\n",
    "        epsilon = 0.02 * cv2.arcLength(largest_contour, True)\n",
    "        approx = cv2.approxPolyDP(largest_contour, epsilon, True)\n",
    "\n",
    "        # Draw the polygon on the original image\n",
    "        img_with_polygon = cv2.cvtColor(img, cv2.COLOR_GRAY2BGR)\n",
    "        cv2.polylines(img_with_polygon, [approx], isClosed=True, color=(0, 255, 0), thickness=2)\n",
    "\n",
    "        # Display the image with the detected polygon\n",
    "        cv2.imshow('Image with Polygon', img_with_polygon)\n",
    "        cv2.waitKey(0)\n",
    "        cv2.destroyAllWindows()\n",
    "\n",
    "        # Return the vertices of the polygon\n",
    "        return approx[:, 0, :]\n",
    "\n",
    "    else:\n",
    "        print(\"No contours found.\")\n",
    "        return None"
   ]
  },
  {
   "cell_type": "raw",
   "id": "d2365d82",
   "metadata": {},
   "source": [
    "img=cv2.cvtColor(back_proj_1,cv2.COLOR_BGR2GRAY)\n",
    "corners = cv2.goodFeaturesToTrack(img, 27, 0.01, 10) \n",
    "corners = np.intp(corners) \n",
    "  \n",
    "# we iterate through each corner,  \n",
    "# making a circle at each point that we think is a corner. \n",
    "for i in corners: \n",
    "    x, y = i.ravel() \n",
    "    cv2.circle(img, (x, y), 3, (255), -1) \n",
    "  \n",
    "plt.imshow(img), plt.show()"
   ]
  },
  {
   "cell_type": "raw",
   "id": "57e0c92c",
   "metadata": {},
   "source": [
    "def finding_corners_of_image(img):\n",
    "    image=img.copy()\n",
    "    if len(image.shape)==3:\n",
    "        gray=cv2.cvtColor(image,cv2.COLOR_BGR2GRAY)\n",
    "    corners = cv2.goodFeaturesToTrack(gray, 27, 0.01, 10) \n",
    "    corners = np.int0(corners)\n",
    "    for i in corners: \n",
    "        x, y = i.ravel() \n",
    "        cv2.circle(image, (x, y), 3, (0,0,255), -1)\n",
    "    cv2.imshow(\"image_corners\",image)\n",
    "    cv2.waitKey(0)\n",
    "    cv2.destroyAllWindows()\n",
    "    return corners"
   ]
  },
  {
   "cell_type": "raw",
   "id": "844eca7f",
   "metadata": {},
   "source": [
    "c=finding_corners_of_image(back_proj_2)"
   ]
  },
  {
   "cell_type": "raw",
   "id": "c5215a84",
   "metadata": {},
   "source": [
    "cv2.imwrite(r'projected_1.jpg',back_proj_1)\n",
    "cv2.imwrite(r'projected_2.jpg',back_proj_2)"
   ]
  },
  {
   "cell_type": "raw",
   "id": "6bea3db5",
   "metadata": {},
   "source": [
    "plot_points_with_labels_above(back_proj_1,c[1][0],c[0][0],c[3][0],c[2][0])"
   ]
  },
  {
   "cell_type": "raw",
   "id": "03ca43cf",
   "metadata": {},
   "source": [
    "# c2=finding_corners_of_image(back_proj_2)"
   ]
  },
  {
   "cell_type": "raw",
   "id": "b2dd913f",
   "metadata": {},
   "source": [
    "min(c2[:,:,0]),max(c2[:,:,0])"
   ]
  },
  {
   "cell_type": "raw",
   "id": "a5259493",
   "metadata": {},
   "source": [
    "min(c2[:,:,1]),max(c2[:,:,1])"
   ]
  },
  {
   "cell_type": "raw",
   "id": "b6576494",
   "metadata": {},
   "source": [
    "image=back_proj_1.copy()\n",
    "operatedImage = cv2.cvtColor(back_proj_1, cv2.COLOR_BGR2GRAY)\n",
    "\n",
    "operatedImage = np.float32(operatedImage) \n",
    "  \n",
    "# apply the cv2.cornerHarris method \n",
    "# to detect the corners with appropriate \n",
    "# values as input parameters \n",
    "dest = cv2.cornerHarris(operatedImage, 2, 5, 0.07) \n",
    "  \n",
    "# Results are marked through the dilated corners \n",
    "dest = cv2.dilate(dest, None) \n",
    "  \n",
    "# Reverting back to the original image, \n",
    "# with optimal threshold value \n",
    "image[dest > 0.01 * dest.max()]=[0, 0, 255] \n",
    "  \n",
    "# the window showing output image with corners \n",
    "cv2.imshow('Image with Borders', image) \n",
    "cv2.waitKey(0)\n",
    "cv2.destroyAllWindows()"
   ]
  },
  {
   "cell_type": "raw",
   "id": "ed9db479",
   "metadata": {},
   "source": [
    "pt=np.argwhere(image[:,:,0]==255)"
   ]
  },
  {
   "cell_type": "raw",
   "id": "8c94036a",
   "metadata": {},
   "source": [
    "for p in pt:\n",
    "    print(p)"
   ]
  },
  {
   "cell_type": "raw",
   "id": "03ea32a8",
   "metadata": {},
   "source": [
    "click_image(r'projected_1.jpg')"
   ]
  },
  {
   "cell_type": "raw",
   "id": "7721f763",
   "metadata": {},
   "source": [
    "###########corners_image_1#####################\n",
    "Point added: (528, 134)\n",
    "Point added: (1422, 175)\n",
    "Point added: (1418, 653)\n",
    "Point added: (533, 660)\n",
    "############corners_image_2###################    \n",
    "Point added: (1233, 183)\n",
    "Point added: (1845, 250)\n",
    "Point added: (1870, 630)\n",
    "Point added: (1267, 618)    \n",
    "\n",
    "\n"
   ]
  },
  {
   "cell_type": "raw",
   "id": "81a5883c",
   "metadata": {},
   "source": [
    "points_over_lap=np.argwhere(overlap_image!=0)"
   ]
  },
  {
   "cell_type": "code",
   "execution_count": 85,
   "id": "dc738823",
   "metadata": {},
   "outputs": [
    {
     "data": {
      "text/plain": [
       "654"
      ]
     },
     "execution_count": 85,
     "metadata": {},
     "output_type": "execute_result"
    }
   ],
   "source": [
    "def min_manhattan_distance(point1, point2):\n",
    "    return np.min(np.sum(np.abs(point2 - point1), axis=1))\n",
    "\n",
    "# Example usage:\n",
    "point1 = np.array([3, 5])\n",
    "point2 = np.array([[134,528],[175,1422],[653,1418],[660,533]])\n",
    "min_manhattan_distance(point1,point2)"
   ]
  },
  {
   "cell_type": "raw",
   "id": "f2885351",
   "metadata": {},
   "source": [
    "screen_corners_1=np.array([[134,528],[175,1422],[653,1418],[660,533]])\n",
    "screen_corners_2=np.array([[183,1233],[250,1845],[630,1870],[618,1267]])"
   ]
  },
  {
   "cell_type": "raw",
   "id": "99d6f241",
   "metadata": {},
   "source": [
    "white=np.zeros_like(blen_in_proj_1_dec_14)+255"
   ]
  },
  {
   "cell_type": "raw",
   "id": "4e3d177b",
   "metadata": {},
   "source": [
    "white[134:134-50,528:528-50,:]=255\n",
    "white[175:175-50,1422:1422-50,:]=255\n",
    "white[653:653-50,1418:1418-50,:]=255\n",
    "white[660:660-50,533:533-50,:]=255"
   ]
  },
  {
   "cell_type": "raw",
   "id": "5f3bd3c3",
   "metadata": {},
   "source": [
    "cv2.imshow(\"whiteee\",white)\n",
    "cv2.waitKey(0)\n",
    "cv2.destroyAllWindows()"
   ]
  },
  {
   "cell_type": "raw",
   "id": "a579c1fe",
   "metadata": {},
   "source": [
    "white[134-50,528-50,:]"
   ]
  },
  {
   "cell_type": "raw",
   "id": "c609eb84",
   "metadata": {},
   "source": [
    "cv2.circle(white,(528, 134),5,(0,0,255),-1)\n",
    "cv2.circle(white,(1422, 175),5,(0,0,255),-1)\n",
    "cv2.circle(white,(1418, 653),5,(0,0,255),-1)\n",
    "cv2.circle(white,(533, 660),5,(0,0,255),-1)\n",
    "\n",
    "cv2.imshow(\"white_1\",white)\n",
    "cv2.waitKey(0)\n",
    "cv2.destroyAllWindows()\n"
   ]
  },
  {
   "cell_type": "raw",
   "id": "5280aa43",
   "metadata": {},
   "source": [
    "points_over_lap"
   ]
  },
  {
   "cell_type": "raw",
   "id": "cf113f74",
   "metadata": {},
   "source": [
    "op=overlap_image.copy()"
   ]
  },
  {
   "cell_type": "raw",
   "id": "e59e25b7",
   "metadata": {},
   "source": [
    "op[134-5:134+5,528-5:528+5]=255\n",
    "op[175-5:175+5,1422-5:1422+5]=255\n",
    "op[653-5:653+5,1418-5:1418+5]=255\n",
    "op[660-5:660+5,533-5:533+5]=255"
   ]
  },
  {
   "cell_type": "raw",
   "id": "3ca18718",
   "metadata": {},
   "source": [
    "cv2.imshow(\"OP\",op)\n",
    "cv2.waitKey(0)\n",
    "cv2.destroyAllWindows()"
   ]
  },
  {
   "cell_type": "raw",
   "id": "c75dd754",
   "metadata": {},
   "source": [
    "points_over_lap[0]"
   ]
  },
  {
   "cell_type": "raw",
   "id": "d58cd248",
   "metadata": {},
   "source": [
    "min_manhattan_distance(points_over_lap[0],screen_corners_1)"
   ]
  },
  {
   "cell_type": "raw",
   "id": "3f446567",
   "metadata": {},
   "source": [
    "min_manhattan_distance(points_over_lap[0],screen_corners_2)"
   ]
  },
  {
   "cell_type": "raw",
   "id": "c06c01a1",
   "metadata": {},
   "source": [
    "weighted_1=np.zeros_like(overlap_image)+255\n",
    "weighted_2=np.zeros_like(overlap_image)+255"
   ]
  },
  {
   "cell_type": "raw",
   "id": "20c10cfb",
   "metadata": {},
   "source": [
    "proj_1=cv2.imread(r'projected_1.jpg')\n",
    "proj_2=cv2.imread(r'projected_2.jpg')"
   ]
  },
  {
   "cell_type": "raw",
   "id": "eea2aacb",
   "metadata": {},
   "source": [
    "for pt in points_over_lap:\n",
    "    ALPHA_1=min_manhattan_distance(pt[0],screen_corners_1)\n",
    "    ALPHA_2=min_manhattan_distance(pt[0],screen_corners_2)\n",
    "    W_1=ALPHA_1/(ALPHA_1+ALPHA_2)\n",
    "    W_2=ALPHA_2/(ALPHA_1+ALPHA_2)\n",
    "    proj_1[pt[0],pt[1]]=W_1*255\n",
    "    proj_2[pt[0],pt[1]]=W_2*255"
   ]
  },
  {
   "cell_type": "raw",
   "id": "827bd5a3",
   "metadata": {},
   "source": [
    "cv2.imshow(\"prj_1\",proj_1)\n",
    "cv2.imshow(\"prj_2\",proj_2)\n",
    "cv2.waitKey(0)\n",
    "cv2.destroyAllWindows()"
   ]
  },
  {
   "cell_type": "raw",
   "id": "0689c44b",
   "metadata": {},
   "source": [
    "cv2.imwrite(\"projected_back_screen_1.jpg\",cv2.warpPerspective(proj_1,H_1_C,(1920,1080)))\n",
    "cv2.imwrite(\"projected_back_screen_2.jpg\",cv2.warpPerspective(proj_2,H_2_C,(1920,1080)))\n"
   ]
  },
  {
   "cell_type": "raw",
   "id": "e9be6113",
   "metadata": {},
   "source": [
    "cv2.imshow(\"ve\",create_gradient_image(1080,1920))\n",
    "cv2.waitKey(0)\n",
    "cv2.destroyAllWindows()"
   ]
  },
  {
   "cell_type": "raw",
   "id": "a1513ac0",
   "metadata": {},
   "source": [
    "cv2.imwrite(\"weights_2.jpg\",create_gradient_image(1080,1920))"
   ]
  },
  {
   "cell_type": "raw",
   "id": "bc783b23",
   "metadata": {},
   "source": [
    "####################weights_2_scren_1############################################################\n",
    "weights_2=cv2.imread(r'weights_2.jpg',0)\n",
    "weights_2=weights_2/255\n",
    "count_half_1=0\n",
    "for kys,vls in filter_dict_1.items():\n",
    "    V_1=weights_2[kys[1],kys[0]]\n",
    "    V_2=weights_2[vls[1],vls[0]]\n",
    "    if V_1==0 and V_2==0:\n",
    "         \n",
    "        WT_1=0.5\n",
    "        WT_2=0.5\n",
    "        count_half_1+=1\n",
    "    else:\n",
    "        WT_1=V_1/(V_1+V_2)\n",
    "        WT_2=V_2/(V_1+V_2)\n",
    "    ble_1[kys[1],kys[0],:]=WT_1\n",
    "    ble_2[vls[1],vls[0],:]=WT_2\n",
    "    "
   ]
  },
  {
   "cell_type": "raw",
   "id": "7f438aa8",
   "metadata": {},
   "source": [
    "count_half_1,count_half_2"
   ]
  },
  {
   "cell_type": "raw",
   "id": "383c64c9",
   "metadata": {},
   "source": [
    "####################weights_2_scren_2############################################################\n",
    "weights_2=cv2.imread(r'weights_2.jpg',0)\n",
    "weights_2=weights_2/255\n",
    "\n",
    "count_half_2=0\n",
    "for kys,vls in new_dict.items():\n",
    "    V_1=weights_2[kys[1],kys[0]]\n",
    "    V_2=weights_2[vls[1],vls[0]]\n",
    "    if V_1==0 and V_2==0:\n",
    "        count_half_2+=1\n",
    "        WT_1=0.5\n",
    "        WT_2=0.5\n",
    "    else:\n",
    "        WT_1=V_1/(V_1+V_2)\n",
    "        WT_2=V_1/(V_1+V_2)\n",
    "    ble_1_2[kys[1],kys[0],:]=WT_1\n",
    "    ble_2_2[vls[1],vls[0],:]=WT_2"
   ]
  },
  {
   "cell_type": "raw",
   "id": "08770bb7",
   "metadata": {},
   "source": [
    "cv2.imshow(\"ble_1\",ble_1)\n",
    "cv2.imshow(\"ble_2\",ble_2_2)\n",
    "cv2.waitKey(0)\n",
    "cv2.destroyAllWindows()"
   ]
  },
  {
   "cell_type": "raw",
   "id": "298f93ab",
   "metadata": {},
   "source": [
    "cv2.imshow(\"ble_1\",ble_2)\n",
    "cv2.imshow(\"ble_2\",ble_1_2)\n",
    "cv2.imshow(\"ble_2_ref\",remove_pixel_HOR_VER(remove_pixel_HOR_VER(ble_1_2)))\n",
    "cv2.waitKey(0)\n",
    "cv2.destroyAllWindows()"
   ]
  },
  {
   "cell_type": "raw",
   "id": "a48da8ea",
   "metadata": {},
   "source": [
    "cv2.imwrite(\"screen_1_new_weights.jpg\",ble_1*255)\n",
    "cv2.imwrite(\"screen_2_new_weights.jpg\",remove_pixel_HOR_VER(remove_pixel_HOR_VER(ble_1_2))*255)\n"
   ]
  },
  {
   "cell_type": "raw",
   "id": "05084e3d",
   "metadata": {},
   "source": [
    "cv2.imwrite(\"screen_1_new_weights(2).jpg\",ble_2_2*255)"
   ]
  },
  {
   "cell_type": "raw",
   "id": "1acf5d37",
   "metadata": {},
   "source": [
    "cv2.imwrite(\"screen_2_new_weights(2).jpg\",remove_pixel_HOR_VER(remove_pixel_HOR_VER(ble_2))*255)\n"
   ]
  },
  {
   "cell_type": "raw",
   "id": "a6cdec7e",
   "metadata": {},
   "source": [
    "###########################weights_3#########################################################\n",
    "weights_3=np.zeros_like(cv2.cvtColor(black_blend_proj_1,cv2.COLOR_BGR2GRAY))"
   ]
  },
  {
   "cell_type": "raw",
   "id": "21cab5c4",
   "metadata": {},
   "source": [
    "weights_3"
   ]
  },
  {
   "cell_type": "raw",
   "id": "29f11896",
   "metadata": {},
   "source": [
    "##################################weights_another####################################\n",
    "weight_1=np.zeros_like(black_blend_proj_1)+1\n",
    "weight_2=np.zeros_like(black_blend_proj_1)+1\n",
    "\n",
    "weight_1=np.float32(weight_1)\n",
    "weight_2=np.float32(weight_2)\n",
    "\n",
    "##################################weights_another####################################\n",
    "weight_black_1=np.zeros_like(black_blend_proj_1)+1\n",
    "weight_black_2=np.zeros_like(black_blend_proj_1)+1\n",
    "\n",
    "weight_black_1=np.float32(weight_black_1)\n",
    "weight_black_2=np.float32(weight_black_2)\n",
    "\n"
   ]
  },
  {
   "cell_type": "raw",
   "id": "866d7803",
   "metadata": {},
   "source": [
    "for pt in pts_29_jan_1:\n",
    "    weight_1[pt[0],pt[1],:]=0.5\n",
    "    weight_black_1[pt[0],pt[1],:]=0.0\n",
    "for pt in pts_29_jan_2:\n",
    "    weight_2[pt[0],pt[1],:]=0.5\n",
    "    weight_black_2[pt[0],pt[1],:]=0.0"
   ]
  },
  {
   "cell_type": "raw",
   "id": "ce24daac",
   "metadata": {},
   "source": [
    "cv2.imshow(\"weight_1\",weight_1)\n",
    "cv2.imshow(\"weight_2\",weight_2)\n",
    "cv2.waitKey(0)\n",
    "cv2.destroyAllWindows()"
   ]
  },
  {
   "cell_type": "raw",
   "id": "a665e1cb",
   "metadata": {},
   "source": [
    "cv2.imwrite(\"screen_weight_1.jpg\",weight_1*255)\n",
    "cv2.imwrite(\"screen_weight_2.jpg\",weight_2*255)\n",
    "cv2.imwrite(\"screen_weight_black_1.jpg\",weight_black_1*255)\n",
    "cv2.imwrite(\"screen_weight_black_2.jpg\",weight_black_2*255)\n"
   ]
  },
  {
   "cell_type": "raw",
   "id": "317be085",
   "metadata": {},
   "source": [
    "edge=edge_detection(cv2.imread(r'screen_weight_black_1.jpg',0))\n",
    "blend_screen_1=cv2.imread(r'blended_screen_1.jpg',0)\n",
    "blend_screen_blaack_1=cv2.imread(r'screen_weight_black_1.jpg',0)\n"
   ]
  },
  {
   "cell_type": "raw",
   "id": "b6fec89f",
   "metadata": {},
   "source": [
    "cv2.imshow(\"edge\",edge)\n",
    "cv2.imshow(\"blend_screen_1\",blend_screen_1)\n",
    "cv2.imshow(\"blend_screen_blaack_1\",blend_screen_blaack_1)\n",
    "cv2.waitKey(0)\n",
    "cv2.destroyAllWindows()"
   ]
  },
  {
   "cell_type": "raw",
   "id": "af4eac88",
   "metadata": {},
   "source": [
    "point_edges=np.argwhere(edge!=0)"
   ]
  },
  {
   "cell_type": "raw",
   "id": "97c8620b",
   "metadata": {},
   "source": [
    "white_edges=np.zeros_like(cv2.cvtColor(white_1,cv2.COLOR_BGR2GRAY))+255"
   ]
  },
  {
   "cell_type": "raw",
   "id": "cdd3c492",
   "metadata": {},
   "source": [
    "\n",
    "for pt in point_edges:\n",
    "    blend_screen_blaack_1[pt[0]-5:pt[0]+5,pt[1]-5:pt[1]+5]=blend_screen_1[pt[0]-5:pt[0]+5,pt[1]-5:pt[1]+5]"
   ]
  },
  {
   "cell_type": "raw",
   "id": "46b31ab6",
   "metadata": {},
   "source": [
    "cv2.imshow(\"white_edge_new\",blend_screen_blaack_1)\n",
    "cv2.waitKey(0)\n",
    "cv2.destroyAllWindows()"
   ]
  },
  {
   "cell_type": "raw",
   "id": "a028cc6a",
   "metadata": {},
   "source": [
    "cv2.imwrite(r'blend_screen_blaack_1_modified_8_pixels.jpg',blend_screen_blaack_1)"
   ]
  },
  {
   "cell_type": "raw",
   "id": "13141fc6",
   "metadata": {},
   "source": [
    "edge_detection(cv2.imread(r'back_to_proj_1_dec_14.jpg',0))"
   ]
  },
  {
   "cell_type": "raw",
   "id": "b47577c0",
   "metadata": {},
   "source": [
    "back_to_proj_1_dec_14=cv2.imread(r'back_to_proj_1_dec_14.jpg',0)\n",
    "back_to_proj_2_dec_14=cv2.imread(r'back_to_proj_2_dec_14.jpg',0)"
   ]
  },
  {
   "cell_type": "raw",
   "id": "3c4ad7da",
   "metadata": {},
   "source": [
    "back_to_proj_1_dec_14[0:2,:]=255\n",
    "back_to_proj_1_dec_14[1079,:]=255\n",
    "back_to_proj_1_dec_14[:,0:2]=255\n",
    "back_to_proj_1_dec_14[:,1919-1:1920]=255\n",
    "###########################################\n",
    "back_to_proj_2_dec_14[0:3,:]=255\n",
    "back_to_proj_2_dec_14[1079,:]=255\n",
    "back_to_proj_2_dec_14[:,0:2]=255\n",
    "back_to_proj_2_dec_14[:,1919-3:1920]=255\n"
   ]
  },
  {
   "cell_type": "raw",
   "id": "43e0323e",
   "metadata": {},
   "source": [
    "edge_1=edge_detection(back_to_proj_1_dec_14)\n",
    "edge_2=edge_detection(back_to_proj_2_dec_14)"
   ]
  },
  {
   "cell_type": "raw",
   "id": "9c9b1d9a",
   "metadata": {},
   "source": [
    "cv2.imwrite(\"edge_1.jpg\",edge_1)\n",
    "cv2.imwrite(\"edge_2.jpg\",edge_2)"
   ]
  },
  {
   "cell_type": "raw",
   "id": "55245bbf",
   "metadata": {},
   "source": [
    "pts=np.argwhere(edge_1==255)"
   ]
  },
  {
   "cell_type": "raw",
   "id": "75471506",
   "metadata": {},
   "source": [
    "pts"
   ]
  },
  {
   "cell_type": "raw",
   "id": "de7a212f",
   "metadata": {},
   "source": [
    "create_image_with_points(pts)"
   ]
  },
  {
   "cell_type": "raw",
   "id": "5382d4ff",
   "metadata": {},
   "source": [
    "plt.imshow(edge_1)"
   ]
  },
  {
   "cell_type": "raw",
   "id": "01eb047c",
   "metadata": {},
   "source": [
    "projected_1=cv2.imread(r'projected_1.jpg',0)\n",
    "projected_2=cv2.imread(r'projected_2.jpg',0)"
   ]
  },
  {
   "cell_type": "raw",
   "id": "54183cfa",
   "metadata": {},
   "source": [
    "p_c=projected_1.copy()"
   ]
  },
  {
   "cell_type": "raw",
   "id": "e1fb698b",
   "metadata": {},
   "source": [
    "projected_1.shape"
   ]
  },
  {
   "cell_type": "raw",
   "id": "7ffdd1d9",
   "metadata": {},
   "source": [
    "projected_2.shape"
   ]
  },
  {
   "cell_type": "raw",
   "id": "7458fc45",
   "metadata": {},
   "source": [
    "projected_1[projected_1>=240]=255\n",
    "projected_2[projected_2>=240]=255"
   ]
  },
  {
   "cell_type": "raw",
   "id": "b49900be",
   "metadata": {},
   "source": [
    "cv2.imwrite(\"projected_1_New.jpg\",projected_1)\n",
    "cv2.imwrite(\"projected_2_New.jpg\",projected_2)\n"
   ]
  },
  {
   "cell_type": "raw",
   "id": "47ea184c",
   "metadata": {},
   "source": [
    "cv2.imwrite(\"proj_1_mod.jpg\",cv2.warpPerspective(blend_white,H_1_C,(1920,1080)))\n"
   ]
  },
  {
   "cell_type": "raw",
   "id": "1f40a2de",
   "metadata": {},
   "source": [
    "cv2.imshow(\"projected_1\",projected_1)\n",
    "cv2.imshow(\"projected_2\",projected_2)\n",
    "cv2.imshow(\"projected_1_diff\",p_c-projected_1)\n",
    "cv2.waitKey(0)\n",
    "cv2.destroyAllWindows()"
   ]
  },
  {
   "cell_type": "raw",
   "id": "e5672274",
   "metadata": {},
   "source": [
    "max(np.argwhere(projected_1==255)[:,0]),max(np.argwhere(projected_1==255)[:,1])"
   ]
  },
  {
   "cell_type": "raw",
   "id": "1389ff87",
   "metadata": {},
   "source": [
    "min(np.argwhere(projected_1==255)[:,0]),min(np.argwhere(projected_1==255)[:,1])"
   ]
  },
  {
   "cell_type": "raw",
   "id": "9bb1070d",
   "metadata": {},
   "source": [
    "max(np.argwhere(projected_2==255)[:,0]),max(np.argwhere(projected_2==255)[:,1])"
   ]
  },
  {
   "cell_type": "raw",
   "id": "8f06e1d7",
   "metadata": {},
   "source": [
    "click_image(r'projected_1.jpg')"
   ]
  },
  {
   "cell_type": "raw",
   "id": "08118a4a",
   "metadata": {},
   "source": [
    "np.argwhere(projected_1==255)"
   ]
  },
  {
   "cell_type": "raw",
   "id": "a3ffbb05",
   "metadata": {},
   "source": [
    "np.argwhere(projected_2==255)"
   ]
  },
  {
   "cell_type": "raw",
   "id": "79c5aac2",
   "metadata": {},
   "source": [
    "cv2.imshow(r'over_lap_dec_26',blend_white)\n",
    "cv2.waitKey(0)\n",
    "cv2.destroyAllWindows()"
   ]
  },
  {
   "cell_type": "raw",
   "id": "5f680d28",
   "metadata": {},
   "source": [
    "blend_white_gray=cv2.cvtColor(blend_white,cv2.COLOR_BGR2GRAY)"
   ]
  },
  {
   "cell_type": "raw",
   "id": "cd1a089f",
   "metadata": {},
   "source": [
    "over_lap_points_in_camera_plane=np.argwhere(blend_white_gray==255)"
   ]
  },
  {
   "cell_type": "raw",
   "id": "2a8d260f",
   "metadata": {},
   "source": [
    "over_lap_points_in_camera_plane"
   ]
  },
  {
   "cell_type": "raw",
   "id": "098e5db9",
   "metadata": {},
   "source": [
    "projected_1[204,991]"
   ]
  },
  {
   "cell_type": "raw",
   "id": "0d6d5415",
   "metadata": {},
   "source": [
    "wgts_1=np.zeros_like(projected_1)\n",
    "wgts_2=np.zeros_like(projected_2)\n",
    "wgts_1=np.float32(wgts_1)\n",
    "wgts_2=np.float32(wgts_2)\n",
    "blend_wgts_1=np.zeros_like(wgts_1)+1\n",
    "blend_wgts_2=np.zeros_like(wgts_1)+1\n"
   ]
  },
  {
   "cell_type": "raw",
   "id": "366dbe5a",
   "metadata": {},
   "source": [
    "for p in over_lap_points_in_camera_plane:\n",
    "    U=p[0]/642\n",
    "    V=p[1]/1150\n",
    "    U1=p[0]/643\n",
    "    V1=p[1]/1513\n",
    "    #print(min(U,1-U,V,1-V))\n",
    "    wgts_1[p[0],p[1]]=min(U,1-U,V,1-V)\n",
    "    wgts_2[p[0],p[1]]=min(U1,1-U1,V1,1-V1)\n",
    "    blend_wgts_1[p[0],p[1]]=1.0*wgts_1[p[0],p[1]]/(wgts_1[p[0],p[1]]+wgts_2[p[0],p[1]])\n",
    "    blend_wgts_2[p[0],p[1]]=1.0*wgts_2[p[0],p[1]]/(wgts_1[p[0],p[1]]+wgts_2[p[0],p[1]])\n",
    "    "
   ]
  },
  {
   "cell_type": "raw",
   "id": "0b1d33a6",
   "metadata": {},
   "source": [
    "cv2.imshow(\"wgt_1\",blend_wgts_1)\n",
    "cv2.imshow(\"wgt_2\",blend_wgts_2)\n",
    "cv2.waitKey(0)\n",
    "cv2.destroyAllWindows()"
   ]
  },
  {
   "cell_type": "raw",
   "id": "cbd00365",
   "metadata": {},
   "source": [
    "wp_1=cv2.warpPerspective(blend_wgts_1,H_1_C,(1920,1080))\n",
    "wp_2=cv2.warpPerspective(blend_wgts_2,H_2_C,(1920,1080))\n",
    "wp_1[:,1918:1920]=0"
   ]
  },
  {
   "cell_type": "raw",
   "id": "d5960456",
   "metadata": {},
   "source": [
    "cv2.imwrite(\"screen_blend_hope_1.jpg\",wp_1*255)\n",
    "cv2.imwrite(\"screen_blend_hope_2.jpg\",wp_2*255)\n"
   ]
  },
  {
   "cell_type": "raw",
   "id": "555e0a38",
   "metadata": {},
   "source": [
    "max(over_lap_points_in_camera_plane[:,0])-min(over_lap_points_in_camera_plane[:,0])"
   ]
  },
  {
   "cell_type": "raw",
   "id": "31972925",
   "metadata": {},
   "source": [
    "plt.imshow(cv2.imread(r'blen_in_proj_2_dec_14.jpg'))\n"
   ]
  },
  {
   "cell_type": "raw",
   "id": "cbe110e3",
   "metadata": {},
   "source": [
    "plt.imshow(cv2.imread(r'blen_in_proj_1_dec_14.jpg'))"
   ]
  },
  {
   "cell_type": "raw",
   "id": "054c359b",
   "metadata": {},
   "source": [
    "##########################\n",
    "FEB_12=cv2.imread(r'WIN_20240212_16_03_11_Pro.jpg')"
   ]
  },
  {
   "cell_type": "raw",
   "id": "da27ea69",
   "metadata": {},
   "source": [
    "corners_proj_3,chk_3=checker_board_pattern_display_1(FEB_12)"
   ]
  },
  {
   "cell_type": "raw",
   "id": "a514bd0a",
   "metadata": {},
   "source": [
    "cv2.imwrite(r'corners_proj_3.jpg',corners_proj_3)"
   ]
  },
  {
   "cell_type": "raw",
   "id": "2bd7ad57",
   "metadata": {},
   "source": [
    "check_3=return_array(corners_proj_3[0][0],corners_proj_3[22][0],corners_proj_3[528][0],corners_proj_3[506][0])"
   ]
  },
  {
   "cell_type": "raw",
   "id": "a0ec7039",
   "metadata": {},
   "source": [
    "click_image(r'WIN_20240212_16_03_11_Pro.jpg')"
   ]
  },
  {
   "cell_type": "raw",
   "id": "fc59757f",
   "metadata": {},
   "source": [
    "cv2.destroyAllWindows()"
   ]
  },
  {
   "cell_type": "raw",
   "id": "ef4778db",
   "metadata": {},
   "source": [
    "Point added: (228, 413)\n",
    "Point added: (307, 886)\n",
    "Point added: (598, 902)\n",
    "Point added: (582, 402)"
   ]
  },
  {
   "cell_type": "raw",
   "id": "c8b22749",
   "metadata": {
    "scrolled": false
   },
   "source": [
    "Rect_new_3=np.array([[151,85],[1823,85],[1823,1031],[151,1031]])\n",
    "Rect_new_3"
   ]
  },
  {
   "cell_type": "raw",
   "id": "fe07e925",
   "metadata": {
    "scrolled": false
   },
   "source": [
    "RECT_OUT_SIDE=np.array([[230, 77],[1105, 192],[1089, 643],[218, 648]])\n",
    "RECT_OUT_SIDE"
   ]
  },
  {
   "cell_type": "raw",
   "id": "104b77ed",
   "metadata": {},
   "source": [
    "191-70,1092-209"
   ]
  },
  {
   "cell_type": "raw",
   "id": "7ddaef07",
   "metadata": {},
   "source": [
    "##############################################rectangular inside the image \n",
    "array([[ 151,   85],\n",
    "       [1823,   85],\n",
    "       [1823, 1031],\n",
    "       [ 151, 1031]])\n",
    "       \n",
    "############################################\n",
    "array([[ 100,  219],\n",
    "       [ 264, 1083],\n",
    "       [1823, 1031],\n",
    "       [ 151, 1031]])"
   ]
  },
  {
   "cell_type": "raw",
   "id": "ca806075",
   "metadata": {},
   "source": [
    "RECT_INSIDE_POLY=np.array([[413, 228],[886, 307],[902, 598],[402, 582]])\n",
    "RECT_INSIDE_POLY"
   ]
  },
  {
   "cell_type": "raw",
   "id": "6af1a363",
   "metadata": {},
   "source": [
    "array([[ 151,   85],\n",
    "       [1823,   85],\n",
    "       [1823, 1031],\n",
    "       [ 151, 1031]])"
   ]
  },
  {
   "cell_type": "raw",
   "id": "90c9cf40",
   "metadata": {},
   "source": [
    "Hoomo_FEB_20=cv2.getPerspectiveTransform(np.float32(check_3),np.float32(Rect_new_3))"
   ]
  },
  {
   "cell_type": "raw",
   "id": "35c50706",
   "metadata": {},
   "source": [
    "white=np.zeros_like(FEB_12)+255"
   ]
  },
  {
   "cell_type": "raw",
   "id": "3a64efa1",
   "metadata": {},
   "source": [
    "cv2.imwrite(\"rectangle_feb_12.jpg\",cv2.warpPerspective(white,np.linalg.inv(Hoomo_FEB_20),(1920,1080)))"
   ]
  },
  {
   "cell_type": "raw",
   "id": "a3caae66",
   "metadata": {},
   "source": [
    "HOMO_RECT_INSIDE_POLY=cv2.getPerspectiveTransform(np.float32(RECT_INSIDE_POLY),np.float32(RECT_OUT_SIDE))"
   ]
  },
  {
   "cell_type": "raw",
   "id": "8a9c83ce",
   "metadata": {},
   "source": [
    "HOMO_RECT_INSIDE_POLY_1=cv2.getPerspectiveTransform(np.float32(RECT_INSIDE_POLY),np.float32(pts_2))"
   ]
  },
  {
   "cell_type": "raw",
   "id": "7d19ddac",
   "metadata": {},
   "source": [
    "cv2.imwrite(\"rect_after_1.jpg\",cv2.warpPerspective(cv2.warpPerspective(cv2.imread('checker_board_25_25.jpg'),np.linalg.inv(Hoomo_FEB_20),(1920,1080)),HOMO_RECT_INSIDE_POLY,(1920,1080)))"
   ]
  },
  {
   "cell_type": "raw",
   "id": "a6708c64",
   "metadata": {},
   "source": [
    "cv2.imshow('vsfvsfv',cv2.warpPerspective(cv2.imread('checker_board_25_25.jpg'),np.linalg.inv(Hoomo_FEB_20),(1920,1080)))\n",
    "#cv2.imshow('rectangle',cv2.warpPerspective(cv2.imread('checker_board_25_25.jpg'),np.linalg.inv(HOMO_RECT_INSIDE_POLY),(1920,1080)))\n",
    "rect_2=cv2.warpPerspective(cv2.imread('checker_board_25_25.jpg'),np.linalg.inv(Hoomo_FEB_20),(1920,1080))\n",
    "cv2.imshow(r'rectangle_3',cv2.warpPerspective(rect_2,np.linalg.inv(HOMO_RECT_INSIDE_POLY),(1920,1080)))\n",
    "cv2.waitKey(0)\n",
    "cv2.destroyAllWindows()"
   ]
  },
  {
   "cell_type": "raw",
   "id": "8bb452f9",
   "metadata": {},
   "source": [
    "cv2.imwrite(r'rectangle_3.jpg',cv2.warpPerspective(cv2.imread('checker_board_25_25.jpg'),np.linalg.inv(HOMO_RECT_INSIDE_POLY),(1920,1080)))"
   ]
  },
  {
   "cell_type": "raw",
   "id": "f760e954",
   "metadata": {},
   "source": [
    "warp_1=cv2.warpPerspective(cv2.imread('checker_board_25_25.jpg'),np.linalg.inv(Hoomo_FEB_20),(1920,1080))"
   ]
  },
  {
   "cell_type": "raw",
   "id": "9b1a6663",
   "metadata": {},
   "source": [
    "cv2.imshow('before',warp_1)\n",
    "cv2.imshow('after',cv2.warpPerspective(warp_1,np.linalg.inv(HOMO_RECT_INSIDE_POLY),(1920,1080)))\n",
    "cv2.waitKey(0)\n",
    "cv2.destroyAllWindows()"
   ]
  },
  {
   "cell_type": "raw",
   "id": "f33b803b",
   "metadata": {},
   "source": [
    "rect_inside=cv2.warpPerspective(warp_1,np.linalg.inv(HOMO_RECT_INSIDE_POLY),(1920,1080))"
   ]
  },
  {
   "cell_type": "raw",
   "id": "bebcc83c",
   "metadata": {},
   "source": [
    "cv2.imwrite(r'rect_inside.jpg',rect_inside)"
   ]
  },
  {
   "cell_type": "raw",
   "id": "0f8229df",
   "metadata": {},
   "source": [
    "cv2.imwrite(r'rectangular_proj_back.jpg',cv2.warpPerspective(rect_inside,Hoomo_FEB_20,(1920,1080)))"
   ]
  },
  {
   "cell_type": "raw",
   "id": "371a8241",
   "metadata": {},
   "source": [
    "pts_1=np.array([[76,130],[1749,128],[1749, 988],[76,988]])\n",
    "pts_1"
   ]
  },
  {
   "cell_type": "raw",
   "id": "1b8d4727",
   "metadata": {},
   "source": [
    "1749-76,988-128"
   ]
  },
  {
   "cell_type": "raw",
   "id": "892c9cc2",
   "metadata": {},
   "source": [
    "pts_2=np.array([[0,0,],[1920,0],[1920,1080],[0,1080]])"
   ]
  },
  {
   "cell_type": "raw",
   "id": "8ae10e3c",
   "metadata": {},
   "source": [
    "pts_2"
   ]
  },
  {
   "cell_type": "raw",
   "id": "6bd70829",
   "metadata": {},
   "source": [
    "H_1=cv2.getPerspectiveTransform(np.float32(pts_1),np.float32(RECT_INSIDE_POLY))"
   ]
  },
  {
   "cell_type": "raw",
   "id": "8ed30620",
   "metadata": {},
   "source": [
    "cv2.imshow(\"re\",cv2.imread(r'checker_board_25_25.jpg'))\n",
    "cv2.imshow(\"re_1\",cv2.warpPerspective(cv2.imread(r'checker_board_25_25.jpg'),H_1,(1920,1080)))\n",
    "cv2.waitKey(0)\n",
    "cv2.destroyAllWindows()"
   ]
  },
  {
   "cell_type": "raw",
   "id": "a9b828c2",
   "metadata": {},
   "source": [
    "image_1=cv2.imread(r'GUN_1080_1920.jpg')"
   ]
  },
  {
   "cell_type": "raw",
   "id": "4f044b44",
   "metadata": {},
   "source": [
    "cv2.imshow(r'original',image_1)\n",
    "cv2.imshow(r'warp_1',cv2.warpPerspective(image_1,np.linalg.inv(Hoomo_FEB_20),(1920,1080)))\n",
    "W_1=cv2.warpPerspective(image_1,np.linalg.inv(Hoomo_FEB_20),(1920,1080))\n",
    "cv2.imshow(r'warp_2',cv2.warpPerspective(W_1,np.linalg.inv(HOMO_RECT_INSIDE_POLY),(1920,1080)))\n",
    "W_2=cv2.warpPerspective(W_1,np.linalg.inv(HOMO_RECT_INSIDE_POLY),(1920,1080))\n",
    "cv2.imshow(r'warp_3',cv2.warpPerspective(W_2,Hoomo_FEB_20,(1920,1080)))\n",
    "\n",
    "cv2.waitKey(0)\n",
    "cv2.destroyAllWindows()"
   ]
  },
  {
   "cell_type": "raw",
   "id": "74abf420",
   "metadata": {},
   "source": [
    "warp_2=cv2.warpPerspective(W_1,np.linalg.inv(HOMO_RECT_INSIDE_POLY),(1920,1080))"
   ]
  },
  {
   "cell_type": "raw",
   "id": "159473f6",
   "metadata": {},
   "source": [
    "#####################################################FEB_13_2024#################################\n",
    "FEB_13=cv2.imread(r'WIN_20240213_17_40_40_Pro.jpg')\n"
   ]
  },
  {
   "cell_type": "raw",
   "id": "8631b02d",
   "metadata": {},
   "source": [
    "corners_proj_4,chk_4=checker_board_pattern_display_1(FEB_13)"
   ]
  },
  {
   "cell_type": "raw",
   "id": "51efd761",
   "metadata": {},
   "source": [
    "check_4=return_array(corners_proj_4[0][0],corners_proj_4[22][0],corners_proj_4[528][0],corners_proj_4[506][0])"
   ]
  },
  {
   "cell_type": "raw",
   "id": "c163e760",
   "metadata": {},
   "source": [
    "check_4"
   ]
  },
  {
   "cell_type": "raw",
   "id": "f899a484",
   "metadata": {},
   "source": [
    "click_image(r'WIN_20240213_17_40_25_Pro.jpg')"
   ]
  },
  {
   "cell_type": "raw",
   "id": "ae5e54da",
   "metadata": {},
   "source": [
    "#########################################\n",
    "Point added: (235, 404)\n",
    "Point added: (310, 875)\n",
    "Point added: (599, 895)\n",
    "Point added: (587, 391)\n",
    "###########################################\n",
    "Point added: (85, 224)\n",
    "Point added: (198, 1101)\n",
    "Point added: (649, 1088)\n",
    "Point added: (655, 216)"
   ]
  },
  {
   "cell_type": "raw",
   "id": "bec1baa8",
   "metadata": {},
   "source": [
    "RECT_COORDS=np.array([[404,235],[875,310],[895,599],[391,587]])\n",
    "POLY_OUT=np.array([[224,85],[1101,198],[1088,649],[216,655]])"
   ]
  },
  {
   "cell_type": "raw",
   "id": "72cc7c63",
   "metadata": {},
   "source": [
    "Hoomo_FEB_13=cv2.getPerspectiveTransform(np.float32(check_4),np.float32(Rect_new_3))"
   ]
  },
  {
   "cell_type": "raw",
   "id": "ae0a1689",
   "metadata": {},
   "source": [
    "Hoomo_Poly_To_Rect=cv2.getPerspectiveTransform(np.float32(RECT_COORDS),np.float32(POLY_OUT))"
   ]
  },
  {
   "cell_type": "raw",
   "id": "b9791e48",
   "metadata": {},
   "source": [
    "IMAGE=cv2.imread(r'GUN_1080_1920.jpg')"
   ]
  },
  {
   "cell_type": "raw",
   "id": "bc7f00cb",
   "metadata": {},
   "source": [
    "cv2.imshow(r'OG',IMAGE)\n",
    "cv2.imshow(r'warp_1',cv2.warpPerspective(IMAGE,np.linalg.inv(Hoomo_FEB_13),(1920,1080)))\n",
    "W_1=cv2.warpPerspective(IMAGE,np.linalg.inv(Hoomo_FEB_13),(1920,1080))\n",
    "cv2.imshow(\"warp_2\",cv2.warpPerspective(W_1,np.linalg.inv(Hoomo_Poly_To_Rect),(1920,1080)))\n",
    "W_2=cv2.warpPerspective(W_1,np.linalg.inv(Hoomo_Poly_To_Rect),(1920,1080))\n",
    "cv2.imshow(\"warp_3\",cv2.warpPerspective(W_2,Hoomo_FEB_13,(1920,1080)))\n",
    "cv2.waitKey(0)\n",
    "cv2.destroyAllWindows()"
   ]
  },
  {
   "cell_type": "raw",
   "id": "f80d6134",
   "metadata": {},
   "source": [
    "cv2.imwrite(r'corrected_image.jpg',cv2.warpPerspective(W_2,Hoomo_FEB_13,(1920,1080)))"
   ]
  },
  {
   "cell_type": "raw",
   "id": "7016c357",
   "metadata": {},
   "source": [
    "img_45=cv2.imread(r'45.jpg')\n",
    "cv2.imwrite(r'45_1920_1080.jpg',cv2.resize(img_45,(1920,1080)))"
   ]
  },
  {
   "cell_type": "raw",
   "id": "51046aa3",
   "metadata": {},
   "source": [
    "I=cv2.imread(R'WIN_20240215_14_44_32_Pro.jpg')\n"
   ]
  },
  {
   "cell_type": "raw",
   "id": "fe097201",
   "metadata": {},
   "source": [
    "corners_proj_4,chk_4=checker_board_pattern_display_1(I)"
   ]
  },
  {
   "cell_type": "raw",
   "id": "a1822372",
   "metadata": {},
   "source": [
    "checker_board_pattern_display_1(cv2.imread(r'WIN_20240215_15_57_08_Pro.jpg'))"
   ]
  },
  {
   "cell_type": "raw",
   "id": "bcceb42a",
   "metadata": {},
   "source": [
    "plt.imshow(cv2.imread(r'WIN_20240215_15_57_08_Pro.jpg'))"
   ]
  },
  {
   "cell_type": "raw",
   "id": "b05f21fc",
   "metadata": {},
   "source": [
    "click_image(r'corrected_image.jpg')"
   ]
  },
  {
   "cell_type": "raw",
   "id": "95dcad12",
   "metadata": {},
   "source": [
    "Point added: (247, 342)\n",
    "Point added: (948, 328)\n",
    "Point added: (314, 1359)\n",
    "Point added: (961, 1422)"
   ]
  },
  {
   "cell_type": "raw",
   "id": "5de3883c",
   "metadata": {},
   "source": [
    "###################################################################\n",
    "combained=cv2.imread(r'combained_Dec_14.jpg')"
   ]
  },
  {
   "cell_type": "raw",
   "id": "c28e8674",
   "metadata": {},
   "source": [
    "cv2.imshow(r'comna',combained)\n",
    "cv2.waitKey(0)\n",
    "cv2.destroyAllWindows()"
   ]
  },
  {
   "cell_type": "raw",
   "id": "4bfcf368",
   "metadata": {},
   "source": [
    "click_image(r'combained_Dec_14.jpg')#########(y,x)(height,width)"
   ]
  },
  {
   "cell_type": "raw",
   "id": "0c8b5b72",
   "metadata": {},
   "source": [
    "cv2.line(combained,(477,607),(1673,607),(0,0,255),1)\n",
    "cv2.line(combained,(1673,607),(1673,982),(0,0,255),1)\n",
    "cv2.line(combained,(1673,982),(477,982),(0,0,255),1)\n",
    "cv2.line(combained,(477,982),(477,607),(0,0,255),1)\n",
    "\n",
    "\n",
    "cv2.imshow(r'coma',combained)\n",
    "cv2.waitKey(0)\n",
    "cv2.destroyAllWindows()"
   ]
  },
  {
   "cell_type": "raw",
   "id": "4345099e",
   "metadata": {},
   "source": [
    "cv2.imwrite(r'combained_rect_feb_19.jpg',combained)"
   ]
  },
  {
   "cell_type": "raw",
   "id": "3bc1be54",
   "metadata": {},
   "source": [
    "click_image(r'combained_rect_feb_19.jpg')"
   ]
  },
  {
   "cell_type": "raw",
   "id": "4298449d",
   "metadata": {},
   "source": [
    "click_image(r'WIN_20240311_15_17_19_Pro.jpg')"
   ]
  },
  {
   "cell_type": "raw",
   "id": "b17de718",
   "metadata": {},
   "source": [
    "click_image(r'WIN_20240311_15_17_19_Pro.jpg')"
   ]
  },
  {
   "cell_type": "raw",
   "id": "85b6b2d0",
   "metadata": {},
   "source": [
    "#############march_8_2024###########################\n",
    "click_image(r'WIN_20240311_15_17_19_Pro.jpg')\n"
   ]
  },
  {
   "cell_type": "raw",
   "id": "81b95ba7",
   "metadata": {},
   "source": [
    "click_image(r'WIN_20240311_15_17_19_Pro.jpg')"
   ]
  },
  {
   "cell_type": "raw",
   "id": "028d19dc",
   "metadata": {},
   "source": [
    "#######################\n",
    "TL_1=(477,607)\n",
    "TR_1=(1383,607)\n",
    "BR_1=(1443,982)\n",
    "BL_1=(477,982)\n",
    "#######################\n",
    "TL_2=(828,607)\n",
    "TR_2=(1673,607)\n",
    "BR_2=(1673,982)\n",
    "BL_2=(854,982)"
   ]
  },
  {
   "cell_type": "raw",
   "id": "ae504c10",
   "metadata": {},
   "source": [
    "cv2.imshow(r'new_1',cv2.warpPerspective(cv2.imread(r'combained_rect_feb_19.jpg'),H_1_C,(1920,1080)))\n",
    "cv2.imshow(r'new_1',cv2.warpPerspective(cv2.imread(r'combained_Dec_14.jpg'),H_1_C,(1920,1080)))\n",
    "\n",
    "cv2.imshow(r'new_2',cv2.warpPerspective(cv2.imread(r'combained_rect_feb_19.jpg'),H_2_C,(1920,1080)))\n",
    "\n",
    "cv2.waitKey(0)\n",
    "cv2.destroyAllWindows()"
   ]
  },
  {
   "cell_type": "raw",
   "id": "48d92e74",
   "metadata": {},
   "source": [
    "cv2.imwrite(r'screen_perceptive_1.jpg',cv2.warpPerspective(cv2.imread(r'combained_rect_feb_19.jpg'),H_1_C,(1920,1080)))\n",
    "cv2.imwrite(r'screen_perceptive_2.jpg',cv2.warpPerspective(cv2.imread(r'combained_rect_feb_19.jpg'),H_2_C,(1920,1080)))\n"
   ]
  },
  {
   "cell_type": "raw",
   "id": "ec842beb",
   "metadata": {},
   "source": [
    "click_image(r'WIN_20240301_10_39_14_Pro.jpg')"
   ]
  },
  {
   "cell_type": "raw",
   "id": "94709eb7",
   "metadata": {},
   "source": [
    "click_image(r'WIN_20240301_10_39_28_Pro.jpg')"
   ]
  },
  {
   "cell_type": "raw",
   "id": "0392765c",
   "metadata": {},
   "source": [
    "##################FEB_28_2024#################\n",
    "click_image(r'WIN_20240229_12_39_53_Pro.jpg')"
   ]
  },
  {
   "cell_type": "raw",
   "id": "665fe734",
   "metadata": {},
   "source": [
    "click_image(r'WIN_20240229_12_40_23_Pro.jpg')"
   ]
  },
  {
   "cell_type": "raw",
   "id": "670fb681",
   "metadata": {},
   "source": [
    "click_image(r'per_1.jpg')"
   ]
  },
  {
   "cell_type": "raw",
   "id": "5ff70cfa",
   "metadata": {},
   "source": [
    "click_image(r'per_2.jpg')"
   ]
  },
  {
   "cell_type": "raw",
   "id": "e6bf2d55",
   "metadata": {},
   "source": [
    "H_1_C"
   ]
  },
  {
   "cell_type": "raw",
   "id": "fdcd7bfc",
   "metadata": {},
   "source": [
    "#######################\n",
    "TL_1=(560,276)\n",
    "TR_1=(1490,332)\n",
    "BR_1=(1491,657)\n",
    "BL_1=(652,563)\n",
    "#######################\n",
    "TL_2=(1113,312)\n",
    "TR_2=(1788,345)\n",
    "BR_2=(1812,674)\n",
    "BL_2=(1139,657)"
   ]
  },
  {
   "cell_type": "raw",
   "id": "854396bf",
   "metadata": {},
   "source": [
    "cv2.imshow(r'new_1',cv2.warpPerspective(np.zeros_like(combained_29)+255,np.linalg.inv(H_1_C),(1920,1080)))\n",
    "#cv2.imshow(r'new_1',cv2.warpPerspective(np.zeros_like(combained_29)+255,H_1_C,(1920,1080)))\n",
    "\n",
    "cv2.imshow(r'new_2',cv2.warpPerspective(np.zeros_like(combained_29)+255,np.linalg.inv(H_2_C),(1920,1080)))\n",
    "\n",
    "cv2.waitKey(0)\n",
    "cv2.destroyAllWindows()"
   ]
  },
  {
   "cell_type": "raw",
   "id": "63105ff3",
   "metadata": {},
   "source": [
    "cv2.imwrite(r'per_1.jpg',cv2.warpPerspective(np.zeros_like(combained_29)+255,np.linalg.inv(H_1_C),(1920,1080)))\n",
    "cv2.imwrite(r'per_2.jpg',cv2.warpPerspective(np.zeros_like(combained_29)+255,np.linalg.inv(H_2_C),(1920,1080)))\n"
   ]
  },
  {
   "cell_type": "raw",
   "id": "1f27f754",
   "metadata": {},
   "source": [
    "click_image(r'per_1.jpg')"
   ]
  },
  {
   "cell_type": "raw",
   "id": "405ab2e9",
   "metadata": {},
   "source": [
    "click_image(r'per_2.jpg')"
   ]
  },
  {
   "cell_type": "raw",
   "id": "a1142e93",
   "metadata": {},
   "source": [
    "Point added: (250, 417)\n",
    "Point added: (308, 1197)\n",
    "Point added: (631, 1193)\n",
    "Point added: (633, 426)\n",
    "\n",
    "#######################################\n",
    "Point added: (293, 962)\n",
    "Point added: (331, 1607)\n",
    "Point added: (639, 1627)\n",
    "Point added: (629, 989)"
   ]
  },
  {
   "cell_type": "raw",
   "id": "10361441",
   "metadata": {},
   "source": [
    "R_1=np.array([[417,250],[1197,308],[1193,631],[426,633]])\n",
    "R_2=np.array([[962,293],[1607,331],[1627,639],[989,629]])\n",
    "R_1,R_2"
   ]
  },
  {
   "cell_type": "raw",
   "id": "c814ed42",
   "metadata": {},
   "source": [
    "Point added: (101, 166)\n",
    "Point added: (181, 1152)\n",
    "Point added: (657, 1142)\n",
    "Point added: (673, 168)\n",
    "##########################\n",
    "Point added: (212, 889)\n",
    "Point added: (330, 1564)\n",
    "Point added: (692, 1580)\n",
    "Point added: (680, 925)"
   ]
  },
  {
   "cell_type": "raw",
   "id": "ded5775e",
   "metadata": {},
   "source": [
    "#######pure_projector_values#######\n",
    "Point added: (109, 250)\n",
    "Point added: (179, 1200)\n",
    "Point added: (659, 1196)\n",
    "Point added: (670, 253)\n",
    "############################################\n",
    "Point added: (213, 957)\n",
    "Point added: (326, 1619)\n",
    "Point added: (695, 1636)\n",
    "Point added: (679, 990)"
   ]
  },
  {
   "cell_type": "raw",
   "id": "ad104053",
   "metadata": {},
   "source": [
    "P_1=np.array([[250,109],[1200,179],[1196,659],[253,670]])\n",
    "P_2=np.array([[957,213],[1619,326],[1636,695],[990,679]])\n"
   ]
  },
  {
   "cell_type": "raw",
   "id": "67de1a85",
   "metadata": {},
   "source": [
    "H_1_r=cv2.getPerspectiveTransform(np.float32(R_1),np.float32(P_1))\n",
    "H_2_r=cv2.getPerspectiveTransform(np.float32(R_2),np.float32(P_2))"
   ]
  },
  {
   "cell_type": "raw",
   "id": "cae3e78d",
   "metadata": {},
   "source": [
    "per_1=cv2.imread(r'per_1.jpg')\n",
    "per_2=cv2.imread(r'per_2.jpg')"
   ]
  },
  {
   "cell_type": "raw",
   "id": "1344175f",
   "metadata": {},
   "source": [
    "cv2.imshow(r'rect_1',cv2.warpPerspective(per_1,np.linalg.inv(H_1_r),(1920,1080)))\n",
    "cv2.imshow(r'rect_2',cv2.warpPerspective(per_2,np.linalg.inv(H_2_r),(1920,1080)))\n",
    "cv2.waitKey(0)\n",
    "cv2.destroyAllWindows()"
   ]
  },
  {
   "cell_type": "raw",
   "id": "52cd8519",
   "metadata": {},
   "source": [
    "rect_screen_1=cv2.warpPerspective(per_1,np.linalg.inv(H_1_r),(1920,1080))\n",
    "rect_screen_2=cv2.warpPerspective(per_2,np.linalg.inv(H_2_r),(1920,1080))\n"
   ]
  },
  {
   "cell_type": "raw",
   "id": "f959b240",
   "metadata": {},
   "source": [
    "cv2.imshow(\"rect_Screen_1\",cv2.warpPerspective(rect_screen_1,H_1_C,(1920,1080)))\n",
    "cv2.imshow(\"rect_Screen_2\",cv2.warpPerspective(rect_screen_2,H_2_C,(1920,1080)))\n",
    "cv2.waitKey(0)\n",
    "cv2.destroyAllWindows()"
   ]
  },
  {
   "cell_type": "raw",
   "id": "cc51d51b",
   "metadata": {},
   "source": [
    "cv2.imwrite(r'rect_Screen_1.jpg',cv2.warpPerspective(rect_screen_1,H_1_C,(1920,1080)))\n",
    "cv2.imwrite(r'rect_Screen_2.jpg',cv2.warpPerspective(rect_screen_2,H_2_C,(1920,1080)))\n"
   ]
  },
  {
   "cell_type": "raw",
   "id": "61b89250",
   "metadata": {},
   "source": [
    "click_image(r'rect_Screen_1.jpg')"
   ]
  },
  {
   "cell_type": "raw",
   "id": "299c181c",
   "metadata": {},
   "source": [
    "click_image(r'rect_Screen_2.jpg')"
   ]
  },
  {
   "cell_type": "raw",
   "id": "0200483f",
   "metadata": {},
   "source": [
    "#############29th_FEB_2024#############################\n",
    "I_1=cv2.imread(r'WIN_20240229_16_35_15_Pro.jpg')"
   ]
  },
  {
   "cell_type": "raw",
   "id": "10a4a2c1",
   "metadata": {},
   "source": [
    "##(23,23)\n",
    "def checker_board_pattern_display_alt(img):\n",
    "    checker_board_size=(23,23)\n",
    "    I2=img.copy()\n",
    "    criteria = (cv2.TERM_CRITERIA_EPS + cv2.TERM_CRITERIA_MAX_ITER, 30, 0.001)\n",
    "    retval, corners = cv2.findChessboardCorners(I2, checker_board_size, cv2.CALIB_CB_ADAPTIVE_THRESH + \\\n",
    "                                                cv2.CALIB_CB_FAST_CHECK + cv2.CALIB_CB_NORMALIZE_IMAGE)\n",
    "    C_P=I2.copy()\n",
    "    print(retval)\n",
    "    if retval==True:\n",
    "        \n",
    "        #corners = cv2.cornerSubPix(I2, corners, (11, 11), (-1, -1), criteria)\n",
    "        \n",
    "        C_P=cv2.drawChessboardCorners(I2,checker_board_size,corners,retval)\n",
    "    \n",
    "        cv2.imshow(\"Checker_Board_Pattern\",C_P)\n",
    "        cv2.waitKey(0)\n",
    "             \n",
    "        cv2.destroyAllWindows()\n",
    "    return corners,C_P"
   ]
  },
  {
   "cell_type": "raw",
   "id": "442a68f9",
   "metadata": {},
   "source": [
    "checker_board_pattern_display_alt(I_1)"
   ]
  },
  {
   "cell_type": "raw",
   "id": "01d2e2ca",
   "metadata": {},
   "source": [
    "click_image(r'blen_in_proj_1_dec_14.jpg')"
   ]
  },
  {
   "cell_type": "raw",
   "id": "89f5d0e3",
   "metadata": {},
   "source": [
    "click_image(r'blen_in_proj_2_dec_14.jpg')"
   ]
  },
  {
   "cell_type": "raw",
   "id": "f93ee3a6",
   "metadata": {},
   "source": [
    "ble_1=cv2.imread(r'blended_screen_1.jpg')\n",
    "\n",
    "ble_2=cv2.imread(r'blended_screen_2.jpg')"
   ]
  },
  {
   "cell_type": "raw",
   "id": "157e838c",
   "metadata": {},
   "source": [
    "ble_1[:,965,2]=255\n",
    "ble_1[:,965,1]=0\n",
    "ble_1[:,965,0]=0\n",
    "\n",
    "ble_2[:,955,2]=255\n",
    "ble_2[:,955,1]=0\n",
    "ble_2[:,955,0]=0\n"
   ]
  },
  {
   "cell_type": "raw",
   "id": "f4b77c2b",
   "metadata": {},
   "source": [
    "cv2.imshow(r'ble_1',ble_1)\n",
    "cv2.imshow(r'ble_2',ble_2)\n",
    "cv2.waitKey(0)\n",
    "cv2.destroyAllWindows()"
   ]
  },
  {
   "cell_type": "raw",
   "id": "d66c0a65",
   "metadata": {},
   "source": [
    "cv2.imshow(r'wr_1',cv2.warpPerspective(ble_1,np.linalg.inv(H_1_C),(1920,1080)))\n",
    "cv2.imshow(r'wr_2',cv2.warpPerspective(ble_2,np.linalg.inv(H_2_C),(1920,1080)))\n",
    "cv2.waitKey(0)\n",
    "cv2.destroyAllWindows()"
   ]
  },
  {
   "cell_type": "raw",
   "id": "77c95837",
   "metadata": {},
   "source": [
    "w_c_1=cv2.warpPerspective(ble_1,np.linalg.inv(H_1_C),(1920,1080))\n",
    "w_c_2=cv2.warpPerspective(ble_2,np.linalg.inv(H_2_C),(1920,1080))"
   ]
  },
  {
   "cell_type": "raw",
   "id": "8dea2faa",
   "metadata": {},
   "source": [
    "cv2.imshow(r'W_R_C_1',cv2.warpPerspective(w_c_1,np.linalg.inv(H_1_r),(1920,1080)))\n",
    "cv2.imshow(r'W_R_C_2',cv2.warpPerspective(w_c_2,np.linalg.inv(H_2_r),(1920,1080)))\n",
    "cv2.waitKey(0)\n",
    "cv2.destroyAllWindows()"
   ]
  },
  {
   "cell_type": "raw",
   "id": "e68811a5",
   "metadata": {},
   "source": [
    "W_R_C_1=cv2.warpPerspective(w_c_1,np.linalg.inv(H_1_r),(1920,1080))\n",
    "W_R_C_2=cv2.warpPerspective(w_c_2,np.linalg.inv(H_2_r),(1920,1080))"
   ]
  },
  {
   "cell_type": "raw",
   "id": "7ac5c2ed",
   "metadata": {},
   "source": [
    "cv2.imshow(r'W_R_S_1',cv2.warpPerspective(W_R_C_1,H_1_C,(1920,1080)))\n",
    "cv2.imshow(r'W_R_S_2',cv2.warpPerspective(W_R_C_2,H_2_C,(1920,1080)))\n",
    "cv2.waitKey(0)\n",
    "cv2.destroyAllWindows()"
   ]
  },
  {
   "cell_type": "raw",
   "id": "61a50b51",
   "metadata": {},
   "source": [
    "cv2.imwrite(r'Warp_Rect_Scren_1.jpg',cv2.warpPerspective(W_R_C_1,H_1_C,(1920,1080)))\n",
    "cv2.imwrite(r'Warp_Rect_Scren_2.jpg',cv2.warpPerspective(W_R_C_2,H_2_C,(1920,1080)))\n"
   ]
  },
  {
   "cell_type": "raw",
   "id": "e7b919aa",
   "metadata": {},
   "source": [
    "###################3_4_2024###################\n",
    "ble_1=cv2.imread(r'blended_screen_1.jpg')\n",
    "ble_2=cv2.imread(r'blended_screen_2.jpg')"
   ]
  },
  {
   "cell_type": "raw",
   "id": "b9995737",
   "metadata": {},
   "source": [
    "click_image(r'blended_screen_1.jpg')"
   ]
  },
  {
   "cell_type": "raw",
   "id": "35b27a0f",
   "metadata": {},
   "source": [
    "click_image(r'blended_screen_2.jpg')"
   ]
  },
  {
   "cell_type": "raw",
   "id": "6d404f78",
   "metadata": {},
   "source": [
    "Point added: (208, 1151)\n",
    "Point added: (0, 963)"
   ]
  },
  {
   "cell_type": "raw",
   "id": "349c258e",
   "metadata": {},
   "source": [
    "1920-1342"
   ]
  },
  {
   "cell_type": "raw",
   "id": "ae8f5967",
   "metadata": {},
   "source": [
    "H_1_C"
   ]
  },
  {
   "cell_type": "raw",
   "id": "5c94f33c",
   "metadata": {},
   "source": [
    "H_2_C"
   ]
  },
  {
   "cell_type": "raw",
   "id": "1d24da3f",
   "metadata": {},
   "source": [
    "image_width = 1920\n",
    "image_height = 1080\n",
    "\n",
    "# Number of squares in each row and column\n",
    "num_squares_x = 25\n",
    "num_squares_y = 25\n",
    "\n",
    "# Calculate the size of each square\n",
    "square_width = image_width // num_squares_x\n",
    "square_height = image_height // num_squares_y\n",
    "\n",
    "# Create a white image\n",
    "image = np.ones((image_height, image_width, 3), dtype=np.uint8) * 255\n",
    "\n",
    "# Draw the checkerboard pattern\n",
    "for i in range(num_squares_x):\n",
    "    for j in range(num_squares_y):\n",
    "        # Alternate the color of each square\n",
    "        color = (0, 0, 0) if (i + j) % 2 == 0 else (255, 255, 255)\n",
    "\n",
    "        # Calculate the coordinates of the top-left corner of the current square\n",
    "        x = i * square_width\n",
    "        y = j * square_height\n",
    "\n",
    "        # Calculate the coordinates of the bottom-right corner of the current square\n",
    "        x_end = x + square_width\n",
    "        y_end = y + square_height\n",
    "\n",
    "        # Draw the square\n",
    "        cv2.rectangle(image, (x, y), (x_end, y_end), color, -1)\n"
   ]
  },
  {
   "cell_type": "raw",
   "id": "339200f4",
   "metadata": {},
   "source": [
    "cv2.imshow(\"image\",image)\n",
    "cv2.waitKey(0)\n",
    "cv2.destroyAllWindows()"
   ]
  },
  {
   "cell_type": "code",
   "execution_count": 183,
   "id": "101c4923",
   "metadata": {},
   "outputs": [
    {
     "data": {
      "text/plain": [
       "True"
      ]
     },
     "execution_count": 183,
     "metadata": {},
     "output_type": "execute_result"
    }
   ],
   "source": [
    "def generate_checkerboard(width, height, rows, cols, color1=(255,255,255), color2=(0,0,0)):\n",
    "    checkerboard = np.zeros((height, width, 3), dtype=np.uint8)+255\n",
    "    cell_width = width // cols\n",
    "    cell_height = height // rows\n",
    "\n",
    "    for row in range(rows):\n",
    "        for col in range(cols):\n",
    "            if (row + col) % 2 == 0:\n",
    "                checkerboard[row * cell_height: (row + 1) * cell_height,\n",
    "                             col * cell_width: (col + 1) * cell_width] = color1\n",
    "            else:\n",
    "                checkerboard[row * cell_height: (row + 1) * cell_height,\n",
    "                             col * cell_width: (col + 1) * cell_width] = color2\n",
    "\n",
    "    return checkerboard\n",
    "\n",
    "# Dimensions of the image\n",
    "image_width = 1920*2\n",
    "image_height = 1080\n",
    "\n",
    "# Dimensions of the checkerboard\n",
    "rows = 100\n",
    "cols = 100\n",
    "\n",
    "# Generate checkerboard pattern\n",
    "checkerboard_image = generate_checkerboard(image_width, image_height, rows, cols)\n",
    "\n",
    "# Display the checkerboard image\n",
    "cv2.imshow(\"Checkerboard\", checkerboard_image)\n",
    "cv2.waitKey(0)\n",
    "cv2.destroyAllWindows()\n",
    "\n",
    "# Save the image\n",
    "cv2.imwrite(\"checkerboard_25x25_3840x1080.jpg\", checkerboard_image)"
   ]
  },
  {
   "cell_type": "raw",
   "id": "a25b8ee0",
   "metadata": {},
   "source": [
    "checker_board_pattern_display_1(cv2.imread(r'checkerboard_16x9_1920x1080.png'))"
   ]
  },
  {
   "cell_type": "code",
   "execution_count": null,
   "id": "60a5001a",
   "metadata": {},
   "outputs": [],
   "source": []
  },
  {
   "cell_type": "raw",
   "id": "33ac7bd8",
   "metadata": {},
   "source": [
    "###########################22/3/2023##############\n",
    "lwr = np.array([0, 0, 255])\n",
    "upr = np.array([255,255, 255])\n",
    "hsv = cv2.cvtColor(J_29_S_1, cv2.COLOR_BGR2HSV)\n",
    "\n",
    "msk = cv2.inRange(hsv, lwr, upr)\n",
    "cv2.imshow(\"msk\",msk)\n",
    "cv2.waitKey(0)\n",
    "cv2.destroyAllWindows()"
   ]
  },
  {
   "cell_type": "raw",
   "id": "7057e762",
   "metadata": {},
   "source": [
    "krn = cv2.getStructuringElement(cv2.MORPH_RECT, (50, 30))\n",
    "dlt = cv2.dilate(msk, krn, iterations=5)\n",
    "res = 255 - cv2.bitwise_and(dlt, msk)\n",
    "\n",
    "cv2.imshow(\"res\",res)\n",
    "cv2.waitKey(0)\n",
    "cv2.destroyAllWindows()"
   ]
  },
  {
   "cell_type": "raw",
   "id": "3b01b28b",
   "metadata": {},
   "source": [
    "res = np.uint8(res)\n",
    "ret, corners = cv2.findChessboardCorners(res, (15, 8),\n",
    "                                         flags=cv2.CALIB_CB_ADAPTIVE_THRESH +\n",
    "                                               cv2.CALIB_CB_FAST_CHECK +\n",
    "                                               cv2.CALIB_CB_NORMALIZE_IMAGE)\n",
    "if ret:\n",
    "    print(corners)\n",
    "    fnl = cv2.drawChessboardCorners(J_29_S_1, (15, 8), corners, ret)\n",
    "    cv2.imshow(\"fnl\", fnl)\n",
    "    cv2.waitKey(0)\n",
    "    cv2.destroyAllWindows()\n",
    "else:\n",
    "    print(\"No Checkerboard Found\")"
   ]
  },
  {
   "cell_type": "raw",
   "id": "213798d8",
   "metadata": {},
   "source": [
    "cv2.findChessboardCorners(J_29_S_1, (14, 7),\n",
    "                                         flags=cv2.CALIB_CB_ADAPTIVE_THRESH +\n",
    "                                               cv2.CALIB_CB_FAST_CHECK +\n",
    "                                               cv2.CALIB_CB_NORMALIZE_IMAGE)\n"
   ]
  },
  {
   "cell_type": "raw",
   "id": "d7f486ef",
   "metadata": {},
   "source": [
    "image=J_29_S_2.copy()\n",
    "operatedImage = cv2.cvtColor(J_29_S_2, cv2.COLOR_BGR2GRAY) \n",
    "  \n",
    "# modify the data type \n",
    "# setting to 32-bit floating point \n",
    "operatedImage = np.float32(operatedImage) \n",
    "  \n",
    "# apply the cv2.cornerHarris method \n",
    "# to detect the corners with appropriate \n",
    "# values as input parameters \n",
    "dest = cv2.cornerHarris(operatedImage, 2, 5, 0.07) "
   ]
  },
  {
   "cell_type": "raw",
   "id": "5b3a8bfc",
   "metadata": {},
   "source": [
    "dest = cv2.dilate(dest, None) \n",
    "  \n",
    "# Reverting back to the original image, \n",
    "# with optimal threshold value \n",
    "image[dest > 0.01 * dest.max()]=[0, 0, 255] \n",
    "  \n",
    "# the window showing output image with corners \n",
    "cv2.imshow('Image with Borders', image) \n",
    "  \n",
    "# De-allocate any associated memory usage  \n",
    "if cv2.waitKey(0) & 0xff == 27: \n",
    "    cv2.destroyAllWindows() "
   ]
  },
  {
   "cell_type": "raw",
   "id": "7f1add0b",
   "metadata": {},
   "source": [
    "white_3840_1080=np.zeros([1080,3840])+255"
   ]
  },
  {
   "cell_type": "raw",
   "id": "569fee32",
   "metadata": {},
   "source": [
    "cv2.imwrite(\"white_3840_1080.jpg\",white_3840_1080)"
   ]
  },
  {
   "cell_type": "raw",
   "id": "a85078d5",
   "metadata": {},
   "source": [
    "white_3840_1080[0].shape"
   ]
  },
  {
   "cell_type": "raw",
   "id": "95422d17",
   "metadata": {},
   "source": [
    "cv2.imread(r'white.jpg').shape"
   ]
  },
  {
   "cell_type": "raw",
   "id": "602a3f9b",
   "metadata": {},
   "source": [
    "Rect_new=np.array([[151,85],[1823,85],[1823,1031],[151,1031]])"
   ]
  },
  {
   "cell_type": "raw",
   "id": "bb0479b6",
   "metadata": {},
   "source": [
    "[array([156., 169.]),\n",
    " array([  96., 1243.]),\n",
    " array([ 760.        , 1194.33333333]),\n",
    " array([738.42105263, 110.89473684])]\n",
    " "
   ]
  },
  {
   "cell_type": "raw",
   "id": "14a2b9d0",
   "metadata": {},
   "source": [
    "[array([308.5, 979.5]),\n",
    " array([ 340. , 1772.5]),\n",
    " array([ 828.4, 1780.6]),\n",
    " array([790.        , 985.14285714])]"
   ]
  },
  {
   "cell_type": "raw",
   "id": "efaab7ad",
   "metadata": {},
   "source": [
    "############27_march_2024#######################\n",
    "Rect_27_march=np.array([[0,0],[1920,0],[1920,1080],[0,1080]])\n",
    "Rect_27_march"
   ]
  },
  {
   "cell_type": "raw",
   "id": "bc729d9e",
   "metadata": {},
   "source": [
    "1st April2024\n",
    "[[191, 125], [111, 1286], [841, 1158], [880, 210]]\n",
    "[[270, 778], [297, 1696], [878, 1661], [891, 920]]\n"
   ]
  },
  {
   "cell_type": "raw",
   "id": "3bbd6cca",
   "metadata": {},
   "source": [
    "destination_1\n",
    "[(296, 206),\n",
    " (296.0, 1253.5616438356165),\n",
    " (840.0, 1158.1753424657534),\n",
    " (840, 206)]\n",
    "destination_2\n",
    "[(296.0, 783.9452495974235),\n",
    " (296, 1663),\n",
    " (840, 1663),\n",
    " (840.0, 908.3381642512078)]"
   ]
  },
  {
   "cell_type": "raw",
   "id": "aa822237",
   "metadata": {},
   "source": [
    "1st APril 2024 afternoon\n",
    "[[150, 39], [125, 1230], [848, 1082], [866, 107]]\n",
    "[[257, 709], [329, 1614], [898, 1564], [892, 833]]"
   ]
  },
  {
   "cell_type": "raw",
   "id": "aa31d9e6",
   "metadata": {},
   "source": [
    "1st APril 2024 afternoon\n",
    "dest_1\n",
    "[(325, 106),\n",
    " (325.0, 1189.0594744121715),\n",
    " (840.0, 1083.637621023513),\n",
    " (840, 106)]\n",
    "dest_2\n",
    "[(325.0, 722.2787401574803),\n",
    " (325, 1568),\n",
    " (840, 1568),\n",
    " (840.0, 822.8456692913385)]\n"
   ]
  },
  {
   "cell_type": "raw",
   "id": "182d28a0",
   "metadata": {},
   "source": [
    "[123,193],[1286,111],[1160,841],[209,881]\n",
    "[779,272],[1694,297],[1662,878],[919,891]"
   ]
  },
  {
   "cell_type": "raw",
   "id": "f1cbdc6c",
   "metadata": {},
   "source": [
    "source_1=np.array([[39,150],[1230,125],[1082,848],[107,866]])\n",
    "source_1"
   ]
  },
  {
   "cell_type": "raw",
   "id": "5a284f37",
   "metadata": {},
   "source": [
    "source_2=np.array([[709,257],[1614,329],[1564,898],[833,892]])\n",
    "source_2"
   ]
  },
  {
   "cell_type": "raw",
   "id": "424da0f3",
   "metadata": {},
   "source": [
    "[[220, 200], [152, 1342], [838, 1345], [871, 158]]\n",
    "[[375, 1070], [406, 1843], [884, 1891], [883, 1109]]"
   ]
  },
  {
   "cell_type": "raw",
   "id": "6f94d71e",
   "metadata": {},
   "source": [
    "img = np.zeros((1080,1920,3))\n",
    "source1=source_2\n",
    "img[int(source1[0][1])][int(source1[0][0])]=np.array([0,0,255])\n",
    "img[int(source1[1][1])][int(source1[1][0])]=np.array([0,255,0])\n",
    "img[int(source1[2][1])][int(source1[2][0])]=np.array([255,0,0])\n",
    "img[int(source1[3][1])][int(source1[3][0])]=np.array([255,255,255])\n",
    "\n",
    "\n",
    "cv2.imshow('Draw Polygon',img )\n",
    "cv2.waitKey(0)\n",
    "cv2.destroyAllWindows()"
   ]
  },
  {
   "cell_type": "raw",
   "id": "bfb0c58a",
   "metadata": {},
   "source": [
    "Hoomo_JAN_29_proj_1_C=cv2.getPerspectiveTransform(np.float32(source_1),np.float32(Rect_27_march))\n",
    "Hoomo_JAN_29_proj_2_C=cv2.getPerspectiveTransform(np.float32(source_2),np.float32(Rect_27_march))"
   ]
  },
  {
   "cell_type": "raw",
   "id": "31c4e708",
   "metadata": {},
   "source": [
    "[(406, 188),\n",
    " (406.0, 1343.1107871720114),\n",
    " (838.0, 1344.9999999999998),\n",
    " (838, 188)]\n",
    "[(406, 1072.3799212598426),\n",
    " (406, 1843),\n",
    " (838, 1843),\n",
    " (838.0, 1105.5452755905512)]"
   ]
  },
  {
   "cell_type": "raw",
   "id": "1a76a00c",
   "metadata": {},
   "source": [
    "1st APril 2024 afternoon\n",
    "dest_1\n",
    "[(325, 106), (325, 1083.637621023513), (840.0, 1083.637621023513), (840, 106)]\n",
    "dest_2\n",
    "[(325, 822.8456692913385),\n",
    " (325, 1568),\n",
    " (840, 1568),\n",
    " (840.0, 822.8456692913385)]\n"
   ]
  },
  {
   "cell_type": "raw",
   "id": "39d6ecac",
   "metadata": {},
   "source": [
    "int(1344.9999999999998),int(1343.1107871720114)"
   ]
  },
  {
   "cell_type": "raw",
   "id": "db2566db",
   "metadata": {},
   "source": [
    "RTL,RTR,RBR,RBL\n",
    "((340, 150), (340, 1772), (739, 1772), (739, 150))"
   ]
  },
  {
   "cell_type": "raw",
   "id": "08d65e14",
   "metadata": {},
   "source": [
    "intersection3,intersection4,intersection5,intersection6\n",
    "((340, 979.8691588785047),(340.0, 1225.1164658634539),(739.0, 1195.8724899598394),(739.0, 984.5451713395638))"
   ]
  },
  {
   "cell_type": "raw",
   "id": "bd85acc4",
   "metadata": {},
   "source": [
    "Rect_screen_1=np.array([[106,325],[1083,325],[1083,840],[106,840]])\n",
    "Rect_screen_2=np.array([[822,325],[1568,325],[1568,840],[822,840]])"
   ]
  },
  {
   "cell_type": "raw",
   "id": "555e2cda",
   "metadata": {},
   "source": [
    "H_screen_1_R=cv2.getPerspectiveTransform(np.float32(source_1),np.float32(Rect_screen_1))\n",
    "\n",
    "H_screen_2_R=cv2.getPerspectiveTransform(np.float32(source_2),np.float32(Rect_screen_2))"
   ]
  },
  {
   "cell_type": "raw",
   "id": "891fecf8",
   "metadata": {},
   "source": [
    "cv2.imshow(r'wr_1',cv2.warpPerspective(cv2.imread(r'blended_screen_1.jpg'),np.linalg.inv(H_1_C),(1920,1080)))\n",
    "cv2.imshow(r'wr_2',cv2.warpPerspective(cv2.imread(r'blended_screen_2.jpg'),np.linalg.inv(H_2_C),(1920,1080)))\n",
    "\n",
    "cv2.waitKey(0)\n",
    "cv2.destroyAllWindows()"
   ]
  },
  {
   "cell_type": "raw",
   "id": "646d4ba0",
   "metadata": {},
   "source": [
    "blend_back_to_camera_1=cv2.warpPerspective(cv2.imread(r'blended_screen_1.jpg'),np.linalg.inv(H_1_C),(1920,1080))\n",
    "blend_back_to_camera_2=cv2.warpPerspective(cv2.imread(r'blended_screen_2.jpg'),np.linalg.inv(H_2_C),(1920,1080))"
   ]
  },
  {
   "cell_type": "raw",
   "id": "fd762986",
   "metadata": {},
   "source": [
    "back_camera_1=cv2.imread(r'back_to_camera_1.jpg')\n",
    "back_camera_2=cv2.imread(r'back_to_camera_2.jpg')\n",
    "################################################################################################"
   ]
  },
  {
   "cell_type": "raw",
   "id": "4c9b9b7b",
   "metadata": {},
   "source": [
    "rect_1=cv2.warpPerspective(back_camera_1,H_screen_1_R,(1920,1080))\n",
    "rect_2=cv2.warpPerspective(back_camera_2,H_screen_2_R,(1920,1080))\n"
   ]
  },
  {
   "cell_type": "raw",
   "id": "db13bd36",
   "metadata": {},
   "source": [
    "cv2.imshow(r'rect_1',rect_1)\n",
    "cv2.imshow(r'rect_2',rect_2)\n",
    "cv2.waitKey(0)\n",
    "cv2.destroyAllWindows()"
   ]
  },
  {
   "cell_type": "raw",
   "id": "252a1ae5",
   "metadata": {},
   "source": [
    "cv2.imshow(r'R_w_1',cv2.warpPerspective(rect_1,H_1_C,(1920,1080)))\n",
    "cv2.imshow(r'R_w_2',cv2.warpPerspective(rect_2,H_2_C,(1920,1080)))\n",
    "\n",
    "cv2.waitKey(0)\n",
    "cv2.destroyAllWindows()"
   ]
  },
  {
   "cell_type": "raw",
   "id": "d5b73cd4",
   "metadata": {},
   "source": [
    "cv2.imwrite(\"blend_rect_1.jpg\",cv2.warpPerspective(rect_1,H_1_C,(1920,1080)))\n",
    "cv2.imwrite(\"blend_rect_2.jpg\",cv2.warpPerspective(rect_2,H_2_C,(1920,1080)))"
   ]
  },
  {
   "cell_type": "raw",
   "id": "c6bb68d2",
   "metadata": {},
   "source": [
    "click_image(r'rect_1.jpg')"
   ]
  },
  {
   "cell_type": "raw",
   "id": "ff172fc8",
   "metadata": {},
   "source": [
    "click_image(r'rect_2.jpg')"
   ]
  },
  {
   "cell_type": "raw",
   "id": "1b7fad55",
   "metadata": {},
   "source": [
    "click_image(r'blended_screen_2.jpg')"
   ]
  },
  {
   "cell_type": "raw",
   "id": "004055f6",
   "metadata": {},
   "source": [
    "click_image(r'blended_screen_1.jpg')"
   ]
  },
  {
   "cell_type": "raw",
   "id": "f6debe98",
   "metadata": {},
   "source": [
    "1920-1105"
   ]
  },
  {
   "cell_type": "markdown",
   "id": "9d103136",
   "metadata": {},
   "source": [
    "# RECTANGLE_MAKING"
   ]
  },
  {
   "cell_type": "code",
   "execution_count": 86,
   "id": "cea85a08",
   "metadata": {},
   "outputs": [],
   "source": [
    "##2nd_APRIL_2024####commbinedd_image################start_here###############################################\n",
    "combined=cv2.imread(r'combained_Dec_14.jpg')"
   ]
  },
  {
   "cell_type": "raw",
   "id": "ab9a49fc",
   "metadata": {},
   "source": [
    "image=combined.copy()\n",
    "TL=Rect_screen_1[0]\n",
    "BR=Rect_screen_2[2]\n",
    "start_point=TL\n",
    "end_point=BR\n",
    "color = (0, 255, 0)  # Green in this case\n",
    "\n",
    "thickness = 1  # You can adjust the thickness\n",
    "cv2.rectangle(image, start_point, end_point, color, thickness)\n",
    "\n",
    "cv2.imshow(\"Rectangle\", image)\n",
    "cv2.waitKey(0)\n",
    "cv2.destroyAllWindows()"
   ]
  },
  {
   "cell_type": "raw",
   "id": "cef6dc51",
   "metadata": {},
   "source": [
    "cv2.line(image,Rect_screen_1[1],Rect_screen_1[2],(0,0,255),1)\n",
    "cv2.line(image,Rect_screen_2[0],Rect_screen_2[3],(0,0,255),1)\n",
    "cv2.imshow(\"Rectangle_With_lines\",image)\n",
    "cv2.waitKey(0)\n",
    "cv2.destroyAllWindows()"
   ]
  },
  {
   "cell_type": "raw",
   "id": "f44f6295",
   "metadata": {},
   "source": [
    "back_camera_1=cv2.imread(r'back_to_camera_1.jpg')\n",
    "back_camera_2=cv2.imread(r'back_to_camera_2.jpg')"
   ]
  },
  {
   "cell_type": "raw",
   "id": "251937cc",
   "metadata": {},
   "source": [
    "b_c_1=back_camera_1.copy()\n",
    "b_c_2=back_camera_2.copy()\n",
    "#cv2.line(b_c_1,Rect_screen_1[1],Rect_screen_1[2],(0,0,255),1)\n",
    "cv2.line(b_c_1,Rect_screen_2[0],Rect_screen_2[3],(0,255,0),1)\n",
    "#cv2.line(b_c_2,Rect_screen_2[0],Rect_screen_2[3],(0,0,255),1)\n",
    "cv2.line(b_c_2,Rect_screen_1[1],Rect_screen_1[2],(0,255,0),1)\n",
    "\n",
    "\n",
    "cv2.imshow(\"line\",b_c_1)\n",
    "cv2.imshow(\"line_1\",b_c_2)\n",
    "\n",
    "cv2.waitKey(0)\n",
    "cv2.destroyAllWindows()"
   ]
  },
  {
   "cell_type": "raw",
   "id": "0bb4c4df",
   "metadata": {},
   "source": [
    "cv2.imshow('lineee_1',cv2.warpPerspective(b_c_1,H_screen_1_R,(1920,1080)))\n",
    "cv2.imshow('lineee_2',cv2.warpPerspective(b_c_2,H_screen_2_R,(1920,1080)))\n",
    "\n",
    "cv2.waitKey(0)\n",
    "cv2.destroyAllWindows()"
   ]
  },
  {
   "cell_type": "raw",
   "id": "8073487c",
   "metadata": {},
   "source": [
    "R_1=cv2.warpPerspective(b_c_1,H_screen_1_R,(1920,1080))\n",
    "R_2=cv2.warpPerspective(b_c_2,H_screen_2_R,(1920,1080))"
   ]
  },
  {
   "cell_type": "raw",
   "id": "257beb9e",
   "metadata": {},
   "source": [
    "cv2.imshow(\"lalaal_1\",cv2.warpPerspective(R_1,H_1_C,(1920,1080)))\n",
    "cv2.imshow(\"lalaal_2\",cv2.warpPerspective(R_2,H_2_C,(1920,1080)))\n",
    "cv2.waitKey(0)\n",
    "cv2.destroyAllWindows()"
   ]
  },
  {
   "cell_type": "raw",
   "id": "56256c4d",
   "metadata": {},
   "source": [
    "cv2.imwrite(r'rect_blend_1.jpg',cv2.warpPerspective(R_1,H_1_C,(1920,1080)))\n",
    "cv2.imwrite(r'rect_blend_2.jpg',cv2.warpPerspective(R_2,H_2_C,(1920,1080)))\n"
   ]
  },
  {
   "cell_type": "raw",
   "id": "8b16ae0d",
   "metadata": {},
   "source": [
    "click_image(r'rect_blend_1.jpg')"
   ]
  },
  {
   "cell_type": "raw",
   "id": "5539462f",
   "metadata": {},
   "source": [
    "1920-1404"
   ]
  },
  {
   "cell_type": "code",
   "execution_count": 87,
   "id": "d8778a8c",
   "metadata": {},
   "outputs": [],
   "source": [
    "imageWhereINeedToFindRectangle = cv2.imread(r\"combined_white.jpg\")"
   ]
  },
  {
   "cell_type": "code",
   "execution_count": 88,
   "id": "76fc8c34",
   "metadata": {},
   "outputs": [],
   "source": [
    "height, width, _ = imageWhereINeedToFindRectangle.shape"
   ]
  },
  {
   "cell_type": "code",
   "execution_count": 89,
   "id": "63c37cb5",
   "metadata": {},
   "outputs": [],
   "source": [
    "white_image = cv2.cvtColor(imageWhereINeedToFindRectangle,cv2.COLOR_BGR2GRAY)\n",
    "threshold_value = 200\n",
    "_, binary_image = cv2.threshold(white_image, threshold_value, 255, cv2.THRESH_BINARY)"
   ]
  },
  {
   "cell_type": "code",
   "execution_count": 90,
   "id": "71d95ab6",
   "metadata": {},
   "outputs": [],
   "source": [
    "cv2.imshow(\"binary_image\",binary_image)\n",
    "cv2.waitKey(0)\n",
    "cv2.destroyAllWindows()"
   ]
  },
  {
   "cell_type": "code",
   "execution_count": 91,
   "id": "07f62ce8",
   "metadata": {},
   "outputs": [],
   "source": [
    "for i in range(height):\n",
    "    for j in range(width):\n",
    "        if(binary_image[i][j]==255):\n",
    "            binary_image[i][j] = 1\n",
    "        else:\n",
    "            binary_image[i][j] = 0\n",
    "\n",
    "np.savetxt(r\"binary_array.txt\", binary_image, fmt='%d')\n",
    "\n",
    "amt = binary_image.tolist()\n",
    "amt2 = [row[:] for row in amt]"
   ]
  },
  {
   "cell_type": "code",
   "execution_count": 92,
   "id": "da64813f",
   "metadata": {},
   "outputs": [],
   "source": [
    "cv2.imshow(\"binary_image\",binary_image)\n",
    "cv2.waitKey(0)\n",
    "cv2.destroyAllWindows()"
   ]
  },
  {
   "cell_type": "code",
   "execution_count": 93,
   "id": "c1f9a5ba",
   "metadata": {},
   "outputs": [
    {
     "name": "stdout",
     "output_type": "stream",
     "text": [
      "Max Area Percentage\n",
      "Percentage Complete : 0.0925925925925926%\n",
      "Percentage Complete : 0.1851851851851852%\n",
      "Percentage Complete : 0.2777777777777778%\n",
      "Percentage Complete : 0.3703703703703704%\n",
      "Percentage Complete : 0.4629629629629629%\n",
      "Percentage Complete : 0.5555555555555556%\n",
      "Percentage Complete : 0.6481481481481481%\n",
      "Percentage Complete : 0.7407407407407408%\n",
      "Percentage Complete : 0.8333333333333334%\n",
      "Percentage Complete : 0.9259259259259258%\n",
      "Percentage Complete : 1.0185185185185186%\n",
      "Percentage Complete : 1.1111111111111112%\n",
      "Percentage Complete : 1.2037037037037037%\n",
      "Percentage Complete : 1.2962962962962963%\n",
      "Percentage Complete : 1.3888888888888888%\n",
      "Percentage Complete : 1.4814814814814816%\n",
      "Percentage Complete : 1.574074074074074%\n",
      "Percentage Complete : 1.6666666666666667%\n",
      "Percentage Complete : 1.7592592592592593%\n",
      "Percentage Complete : 1.8518518518518516%\n",
      "Percentage Complete : 1.9444444444444444%\n",
      "Percentage Complete : 2.037037037037037%\n",
      "Percentage Complete : 2.1296296296296298%\n",
      "Percentage Complete : 2.2222222222222223%\n",
      "Percentage Complete : 2.314814814814815%\n",
      "Percentage Complete : 2.4074074074074074%\n",
      "Percentage Complete : 2.5%\n",
      "Percentage Complete : 2.5925925925925926%\n",
      "Percentage Complete : 2.685185185185185%\n",
      "Percentage Complete : 2.7777777777777777%\n",
      "Percentage Complete : 2.8703703703703702%\n",
      "Percentage Complete : 2.9629629629629632%\n",
      "Percentage Complete : 3.0555555555555554%\n",
      "Percentage Complete : 3.148148148148148%\n",
      "Percentage Complete : 3.2407407407407405%\n",
      "Percentage Complete : 3.3333333333333335%\n",
      "Percentage Complete : 3.425925925925926%\n",
      "Percentage Complete : 3.5185185185185186%\n",
      "Percentage Complete : 3.6111111111111107%\n",
      "Percentage Complete : 3.7037037037037033%\n",
      "Percentage Complete : 3.7962962962962963%\n",
      "Percentage Complete : 3.888888888888889%\n",
      "Percentage Complete : 3.981481481481482%\n",
      "Percentage Complete : 4.074074074074074%\n",
      "Percentage Complete : 4.166666666666666%\n",
      "Percentage Complete : 4.2592592592592595%\n",
      "Percentage Complete : 4.351851851851852%\n",
      "Percentage Complete : 4.444444444444445%\n",
      "Percentage Complete : 4.537037037037037%\n",
      "Percentage Complete : 4.62962962962963%\n",
      "Percentage Complete : 4.722222222222222%\n",
      "Percentage Complete : 4.814814814814815%\n",
      "Percentage Complete : 4.907407407407407%\n",
      "Percentage Complete : 5.0%\n",
      "Percentage Complete : 5.092592592592593%\n",
      "Percentage Complete : 5.185185185185185%\n",
      "Percentage Complete : 5.277777777777778%\n",
      "Percentage Complete : 5.37037037037037%\n",
      "Percentage Complete : 5.462962962962963%\n",
      "Percentage Complete : 5.555555555555555%\n",
      "Percentage Complete : 5.648148148148148%\n",
      "Percentage Complete : 5.7407407407407405%\n",
      "Percentage Complete : 5.833333333333333%\n",
      "Percentage Complete : 5.9259259259259265%\n",
      "Percentage Complete : 6.018518518518518%\n",
      "Percentage Complete : 6.111111111111111%\n",
      "Percentage Complete : 6.203703703703703%\n",
      "Percentage Complete : 6.296296296296296%\n",
      "Percentage Complete : 6.388888888888888%\n",
      "Percentage Complete : 6.481481481481481%\n",
      "Percentage Complete : 6.5740740740740735%\n",
      "Percentage Complete : 6.666666666666667%\n",
      "Percentage Complete : 6.7592592592592595%\n",
      "Percentage Complete : 6.851851851851852%\n",
      "Percentage Complete : 6.944444444444445%\n",
      "Percentage Complete : 7.037037037037037%\n",
      "Percentage Complete : 7.12962962962963%\n",
      "Percentage Complete : 7.222222222222221%\n",
      "Percentage Complete : 7.314814814814814%\n",
      "Percentage Complete : 7.4074074074074066%\n",
      "Percentage Complete : 7.5%\n",
      "Percentage Complete : 7.592592592592593%\n",
      "Percentage Complete : 7.685185185185185%\n",
      "Percentage Complete : 7.777777777777778%\n",
      "Percentage Complete : 7.87037037037037%\n",
      "Percentage Complete : 7.962962962962964%\n",
      "Percentage Complete : 8.055555555555555%\n",
      "Percentage Complete : 8.148148148148149%\n",
      "Percentage Complete : 8.24074074074074%\n",
      "Percentage Complete : 8.333333333333332%\n",
      "Percentage Complete : 8.425925925925926%\n",
      "Percentage Complete : 8.518518518518519%\n",
      "Percentage Complete : 8.61111111111111%\n",
      "Percentage Complete : 8.703703703703704%\n",
      "Percentage Complete : 8.796296296296296%\n",
      "Percentage Complete : 8.88888888888889%\n",
      "Percentage Complete : 8.981481481481483%\n",
      "Percentage Complete : 9.074074074074074%\n",
      "Percentage Complete : 9.166666666666666%\n",
      "Percentage Complete : 9.25925925925926%\n",
      "Percentage Complete : 9.351851851851851%\n",
      "Percentage Complete : 9.444444444444445%\n",
      "Percentage Complete : 9.537037037037036%\n",
      "Percentage Complete : 9.62962962962963%\n",
      "Percentage Complete : 9.722222222222223%\n",
      "Percentage Complete : 9.814814814814815%\n",
      "Percentage Complete : 9.907407407407408%\n",
      "Percentage Complete : 10.0%\n",
      "Percentage Complete : 10.092592592592593%\n",
      "Percentage Complete : 10.185185185185185%\n",
      "Percentage Complete : 10.277777777777777%\n",
      "Percentage Complete : 10.37037037037037%\n",
      "Percentage Complete : 10.462962962962962%\n",
      "Percentage Complete : 10.555555555555555%\n",
      "Percentage Complete : 10.648148148148149%\n",
      "Percentage Complete : 10.74074074074074%\n",
      "Percentage Complete : 10.833333333333334%\n",
      "Percentage Complete : 10.925925925925926%\n",
      "Percentage Complete : 11.018518518518519%\n",
      "Percentage Complete : 11.11111111111111%\n",
      "Percentage Complete : 11.203703703703702%\n",
      "Percentage Complete : 11.296296296296296%\n",
      "Percentage Complete : 11.38888888888889%\n",
      "Percentage Complete : 11.481481481481481%\n",
      "Percentage Complete : 11.574074074074074%\n",
      "Percentage Complete : 11.666666666666666%\n",
      "Percentage Complete : 11.75925925925926%\n",
      "Percentage Complete : 11.851851851851853%\n",
      "Percentage Complete : 11.944444444444445%\n",
      "Percentage Complete : 12.037037037037036%\n",
      "Percentage Complete : 12.12962962962963%\n",
      "Percentage Complete : 12.222222222222221%\n",
      "Percentage Complete : 12.314814814814815%\n",
      "Percentage Complete : 12.407407407407407%\n",
      "Percentage Complete : 12.5%\n",
      "Percentage Complete : 12.592592592592592%\n",
      "Percentage Complete : 12.685185185185185%\n",
      "Percentage Complete : 12.777777777777777%\n",
      "Percentage Complete : 12.87037037037037%\n",
      "Percentage Complete : 12.962962962962962%\n",
      "Percentage Complete : 13.055555555555557%\n",
      "Percentage Complete : 13.148148148148147%\n",
      "Percentage Complete : 13.240740740740742%\n",
      "Percentage Complete : 13.333333333333334%\n",
      "Percentage Complete : 13.425925925925927%\n",
      "Percentage Complete : 13.518518518518519%\n",
      "Percentage Complete : 13.61111111111111%\n",
      "Percentage Complete : 13.703703703703704%\n",
      "Percentage Complete : 13.796296296296296%\n",
      "Percentage Complete : 13.88888888888889%\n",
      "Percentage Complete : 13.981481481481481%\n",
      "Percentage Complete : 14.074074074074074%\n",
      "Percentage Complete : 14.166666666666666%\n",
      "Percentage Complete : 14.25925925925926%\n",
      "Percentage Complete : 14.351851851851851%\n",
      "Percentage Complete : 14.444444444444443%\n",
      "Percentage Complete : 14.537037037037038%\n",
      "Percentage Complete : 14.629629629629628%\n",
      "Percentage Complete : 14.722222222222223%\n",
      "Percentage Complete : 14.814814814814813%\n",
      "Percentage Complete : 14.907407407407408%\n",
      "Percentage Complete : 15.0%\n",
      "Percentage Complete : 15.092592592592593%\n",
      "Percentage Complete : 15.185185185185185%\n",
      "Percentage Complete : 15.277777777777779%\n",
      "Percentage Complete : 15.37037037037037%\n",
      "Percentage Complete : 15.462962962962962%\n",
      "Percentage Complete : 15.555555555555555%\n",
      "Percentage Complete : 15.648148148148147%\n",
      "Percentage Complete : 15.74074074074074%\n",
      "Percentage Complete : 15.833333333333332%\n",
      "Percentage Complete : 15.925925925925927%\n",
      "Percentage Complete : 16.01851851851852%\n",
      "Percentage Complete : 16.11111111111111%\n",
      "Percentage Complete : 16.203703703703702%\n",
      "Percentage Complete : 16.296296296296298%\n",
      "Percentage Complete : 16.38888888888889%\n",
      "Percentage Complete : 16.48148148148148%\n",
      "Percentage Complete : 16.574074074074076%\n",
      "Percentage Complete : 16.666666666666664%\n",
      "Percentage Complete : 16.75925925925926%\n",
      "Percentage Complete : 16.85185185185185%\n",
      "Percentage Complete : 16.944444444444446%\n",
      "Percentage Complete : 17.037037037037038%\n",
      "Percentage Complete : 17.12962962962963%\n",
      "Percentage Complete : 17.22222222222222%\n",
      "Percentage Complete : 17.314814814814813%\n",
      "Percentage Complete : 17.40740740740741%\n",
      "Percentage Complete : 17.5%\n",
      "Percentage Complete : 17.59259259259259%\n",
      "Percentage Complete : 17.685185185185183%\n",
      "Percentage Complete : 17.77777777777778%\n",
      "Percentage Complete : 17.87037037037037%\n",
      "Percentage Complete : 17.962962962962965%\n",
      "Percentage Complete : 18.055555555555554%\n",
      "Percentage Complete : 18.14814814814815%\n",
      "Percentage Complete : 18.24074074074074%\n",
      "Percentage Complete : 18.333333333333332%\n",
      "Percentage Complete : 18.425925925925927%\n",
      "Percentage Complete : 18.51851851851852%\n",
      "Percentage Complete : 18.61111111111111%\n",
      "Percentage Complete : 18.703703703703702%\n",
      "Percentage Complete : 18.796296296296298%\n",
      "Percentage Complete : 18.88888888888889%\n",
      "Percentage Complete : 18.98148148148148%\n",
      "Percentage Complete : 19.074074074074073%\n",
      "Percentage Complete : 19.166666666666668%\n",
      "Percentage Complete : 19.25925925925926%\n",
      "Percentage Complete : 19.35185185185185%\n",
      "Percentage Complete : 19.444444444444446%\n",
      "Percentage Complete : 19.537037037037035%\n",
      "Percentage Complete : 19.62962962962963%\n",
      "Percentage Complete : 19.72222222222222%\n",
      "Percentage Complete : 19.814814814814817%\n",
      "Percentage Complete : 19.90740740740741%\n",
      "Percentage Complete : 20.0%\n",
      "Percentage Complete : 20.09259259259259%\n",
      "Percentage Complete : 20.185185185185187%\n",
      "Percentage Complete : 20.27777777777778%\n",
      "Percentage Complete : 20.37037037037037%\n",
      "Percentage Complete : 20.462962962962962%\n",
      "Percentage Complete : 20.555555555555554%\n",
      "Percentage Complete : 20.64814814814815%\n",
      "Percentage Complete : 20.74074074074074%\n",
      "Percentage Complete : 20.833333333333336%\n",
      "Percentage Complete : 20.925925925925924%\n",
      "Percentage Complete : 21.01851851851852%\n",
      "Percentage Complete : 21.11111111111111%\n",
      "Percentage Complete : 21.203703703703702%\n",
      "Percentage Complete : 21.296296296296298%\n",
      "Percentage Complete : 21.38888888888889%\n",
      "Percentage Complete : 21.48148148148148%\n",
      "Percentage Complete : 21.574074074074073%\n",
      "Percentage Complete : 21.666666666666668%\n",
      "Percentage Complete : 21.75925925925926%\n",
      "Percentage Complete : 21.85185185185185%\n",
      "Percentage Complete : 21.944444444444443%\n",
      "Percentage Complete : 22.037037037037038%\n",
      "Percentage Complete : 22.12962962962963%\n",
      "Percentage Complete : 22.22222222222222%\n",
      "Percentage Complete : 22.314814814814817%\n",
      "Percentage Complete : 22.407407407407405%\n",
      "Percentage Complete : 22.5%\n",
      "Percentage Complete : 22.59259259259259%\n",
      "Percentage Complete : 22.685185185185187%\n",
      "Percentage Complete : 22.77777777777778%\n",
      "Percentage Complete : 22.87037037037037%\n",
      "Percentage Complete : 22.962962962962962%\n",
      "Percentage Complete : 23.055555555555557%\n",
      "Percentage Complete : 23.14814814814815%\n",
      "Percentage Complete : 23.24074074074074%\n",
      "Percentage Complete : 23.333333333333332%\n",
      "Percentage Complete : 23.425925925925924%\n",
      "Percentage Complete : 23.51851851851852%\n",
      "Percentage Complete : 23.61111111111111%\n",
      "Percentage Complete : 23.703703703703706%\n",
      "Percentage Complete : 23.796296296296298%\n",
      "Percentage Complete : 23.88888888888889%\n",
      "Percentage Complete : 23.98148148148148%\n",
      "Percentage Complete : 24.074074074074073%\n",
      "Percentage Complete : 24.166666666666668%\n",
      "Percentage Complete : 24.25925925925926%\n",
      "Percentage Complete : 24.35185185185185%\n",
      "Percentage Complete : 24.444444444444443%\n",
      "Percentage Complete : 24.537037037037038%\n",
      "Percentage Complete : 24.62962962962963%\n",
      "Percentage Complete : 24.72222222222222%\n",
      "Percentage Complete : 24.814814814814813%\n",
      "Percentage Complete : 24.90740740740741%\n",
      "Percentage Complete : 25.0%\n",
      "Percentage Complete : 25.092592592592595%\n",
      "Percentage Complete : 25.185185185185183%\n",
      "Percentage Complete : 25.27777777777778%\n",
      "Percentage Complete : 25.37037037037037%\n",
      "Percentage Complete : 25.462962962962965%\n",
      "Percentage Complete : 25.555555555555554%\n",
      "Percentage Complete : 25.64814814814815%\n",
      "Percentage Complete : 25.74074074074074%\n",
      "Percentage Complete : 25.833333333333336%\n",
      "Percentage Complete : 25.925925925925924%\n",
      "Percentage Complete : 26.01851851851852%\n",
      "Percentage Complete : 26.111111111111114%\n",
      "Percentage Complete : 26.203703703703702%\n",
      "Percentage Complete : 26.296296296296294%\n",
      "Percentage Complete : 26.38888888888889%\n",
      "Percentage Complete : 26.481481481481485%\n",
      "Percentage Complete : 26.574074074074073%\n",
      "Percentage Complete : 26.666666666666668%\n",
      "Percentage Complete : 26.75925925925926%\n",
      "Percentage Complete : 26.851851851851855%\n",
      "Percentage Complete : 26.944444444444443%\n",
      "Percentage Complete : 27.037037037037038%\n",
      "Percentage Complete : 27.12962962962963%\n",
      "Percentage Complete : 27.22222222222222%\n",
      "Percentage Complete : 27.314814814814813%\n",
      "Percentage Complete : 27.40740740740741%\n",
      "Percentage Complete : 27.500000000000004%\n",
      "Percentage Complete : 27.59259259259259%\n",
      "Percentage Complete : 27.685185185185183%\n",
      "Percentage Complete : 27.77777777777778%\n",
      "Percentage Complete : 27.870370370370374%\n",
      "Percentage Complete : 27.962962962962962%\n",
      "Percentage Complete : 28.055555555555557%\n",
      "Percentage Complete : 28.14814814814815%\n",
      "Percentage Complete : 28.240740740740737%\n",
      "Percentage Complete : 28.333333333333332%\n",
      "Percentage Complete : 28.425925925925927%\n",
      "Percentage Complete : 28.51851851851852%\n",
      "Percentage Complete : 28.61111111111111%\n",
      "Percentage Complete : 28.703703703703702%\n",
      "Percentage Complete : 28.796296296296298%\n",
      "Percentage Complete : 28.888888888888886%\n",
      "Percentage Complete : 28.98148148148148%\n",
      "Percentage Complete : 29.074074074074076%\n",
      "Percentage Complete : 29.166666666666668%\n",
      "Percentage Complete : 29.259259259259256%\n",
      "Percentage Complete : 29.35185185185185%\n",
      "Percentage Complete : 29.444444444444446%\n",
      "Percentage Complete : 29.537037037037038%\n",
      "Percentage Complete : 29.629629629629626%\n",
      "Percentage Complete : 29.72222222222222%\n",
      "Percentage Complete : 29.814814814814817%\n",
      "Percentage Complete : 29.907407407407405%\n",
      "Percentage Complete : 30.0%\n",
      "Percentage Complete : 30.09259259259259%\n",
      "Percentage Complete : 30.185185185185187%\n",
      "Percentage Complete : 30.277777777777775%\n",
      "Percentage Complete : 30.37037037037037%\n",
      "Percentage Complete : 30.462962962962965%\n",
      "Percentage Complete : 30.555555555555557%\n",
      "Percentage Complete : 30.648148148148145%\n",
      "Percentage Complete : 30.74074074074074%\n",
      "Percentage Complete : 30.833333333333336%\n",
      "Percentage Complete : 30.925925925925924%\n",
      "Percentage Complete : 31.01851851851852%\n",
      "Percentage Complete : 31.11111111111111%\n",
      "Percentage Complete : 31.203703703703706%\n",
      "Percentage Complete : 31.296296296296294%\n",
      "Percentage Complete : 31.38888888888889%\n",
      "Percentage Complete : 31.48148148148148%\n",
      "Percentage Complete : 31.574074074074076%\n",
      "Percentage Complete : 31.666666666666664%\n",
      "Percentage Complete : 31.75925925925926%\n",
      "Percentage Complete : 31.851851851851855%\n",
      "Percentage Complete : 31.944444444444443%\n",
      "Percentage Complete : 32.03703703703704%\n",
      "Percentage Complete : 32.12962962962963%\n",
      "Percentage Complete : 32.22222222222222%\n",
      "Percentage Complete : 32.31481481481481%\n",
      "Percentage Complete : 32.407407407407405%\n",
      "Percentage Complete : 32.5%\n",
      "Percentage Complete : 32.592592592592595%\n",
      "Percentage Complete : 32.68518518518518%\n",
      "Percentage Complete : 32.77777777777778%\n",
      "Percentage Complete : 32.870370370370374%\n",
      "Percentage Complete : 32.96296296296296%\n",
      "Percentage Complete : 33.05555555555556%\n",
      "Percentage Complete : 33.14814814814815%\n",
      "Percentage Complete : 33.24074074074074%\n",
      "Percentage Complete : 33.33333333333333%\n",
      "Percentage Complete : 33.425925925925924%\n",
      "Percentage Complete : 33.51851851851852%\n",
      "Percentage Complete : 33.611111111111114%\n",
      "Percentage Complete : 33.7037037037037%\n",
      "Percentage Complete : 33.7962962962963%\n",
      "Percentage Complete : 33.88888888888889%\n",
      "Percentage Complete : 33.98148148148148%\n",
      "Percentage Complete : 34.074074074074076%\n",
      "Percentage Complete : 34.166666666666664%\n",
      "Percentage Complete : 34.25925925925926%\n",
      "Percentage Complete : 34.35185185185185%\n",
      "Percentage Complete : 34.44444444444444%\n",
      "Percentage Complete : 34.53703703703704%\n",
      "Percentage Complete : 34.629629629629626%\n",
      "Percentage Complete : 34.72222222222222%\n",
      "Percentage Complete : 34.81481481481482%\n",
      "Percentage Complete : 34.90740740740741%\n",
      "Percentage Complete : 35.0%\n",
      "Percentage Complete : 35.092592592592595%\n",
      "Percentage Complete : 35.18518518518518%\n",
      "Percentage Complete : 35.27777777777778%\n",
      "Percentage Complete : 35.37037037037037%\n",
      "Percentage Complete : 35.46296296296296%\n",
      "Percentage Complete : 35.55555555555556%\n",
      "Percentage Complete : 35.648148148148145%\n",
      "Percentage Complete : 35.74074074074074%\n",
      "Percentage Complete : 35.833333333333336%\n",
      "Percentage Complete : 35.92592592592593%\n",
      "Percentage Complete : 36.01851851851852%\n",
      "Percentage Complete : 36.11111111111111%\n",
      "Percentage Complete : 36.2037037037037%\n",
      "Percentage Complete : 36.2962962962963%\n",
      "Percentage Complete : 36.388888888888886%\n",
      "Percentage Complete : 36.48148148148148%\n",
      "Percentage Complete : 36.574074074074076%\n",
      "Percentage Complete : 36.666666666666664%\n",
      "Percentage Complete : 36.75925925925926%\n",
      "Percentage Complete : 36.851851851851855%\n",
      "Percentage Complete : 36.94444444444444%\n",
      "Percentage Complete : 37.03703703703704%\n",
      "Percentage Complete : 37.129629629629626%\n",
      "Percentage Complete : 37.22222222222222%\n",
      "Percentage Complete : 37.31481481481482%\n",
      "Percentage Complete : 37.407407407407405%\n",
      "Percentage Complete : 37.5%\n",
      "Percentage Complete : 37.592592592592595%\n",
      "Percentage Complete : 37.68518518518518%\n",
      "Percentage Complete : 37.77777777777778%\n",
      "Percentage Complete : 37.870370370370374%\n",
      "Percentage Complete : 37.96296296296296%\n",
      "Percentage Complete : 38.05555555555556%\n",
      "Percentage Complete : 38.148148148148145%\n",
      "Percentage Complete : 38.24074074074074%\n",
      "Percentage Complete : 38.333333333333336%\n",
      "Percentage Complete : 38.425925925925924%\n",
      "Percentage Complete : 38.51851851851852%\n",
      "Percentage Complete : 38.611111111111114%\n",
      "Percentage Complete : 38.7037037037037%\n",
      "Percentage Complete : 38.7962962962963%\n",
      "Percentage Complete : 38.88888888888889%\n",
      "Percentage Complete : 38.98148148148148%\n",
      "Percentage Complete : 39.07407407407407%\n",
      "Percentage Complete : 39.166666666666664%\n",
      "Percentage Complete : 39.25925925925926%\n",
      "Percentage Complete : 39.351851851851855%\n",
      "Percentage Complete : 39.44444444444444%\n",
      "Percentage Complete : 39.53703703703704%\n",
      "Percentage Complete : 39.62962962962963%\n",
      "Percentage Complete : 39.72222222222222%\n",
      "Percentage Complete : 39.81481481481482%\n",
      "Percentage Complete : 39.907407407407405%\n",
      "Percentage Complete : 40.0%\n",
      "Percentage Complete : 40.09259259259259%\n",
      "Percentage Complete : 40.18518518518518%\n",
      "Percentage Complete : 40.27777777777778%\n",
      "Percentage Complete : 40.370370370370374%\n",
      "Percentage Complete : 40.46296296296296%\n",
      "Percentage Complete : 40.55555555555556%\n",
      "Percentage Complete : 40.64814814814815%\n",
      "Percentage Complete : 40.74074074074074%\n",
      "Percentage Complete : 40.833333333333336%\n",
      "Percentage Complete : 40.925925925925924%\n",
      "Percentage Complete : 41.01851851851852%\n",
      "Percentage Complete : 41.11111111111111%\n",
      "Percentage Complete : 41.2037037037037%\n",
      "Percentage Complete : 41.2962962962963%\n",
      "Percentage Complete : 41.388888888888886%\n",
      "Percentage Complete : 41.48148148148148%\n",
      "Percentage Complete : 41.574074074074076%\n",
      "Percentage Complete : 41.66666666666667%\n",
      "Percentage Complete : 41.75925925925926%\n",
      "Percentage Complete : 41.85185185185185%\n",
      "Percentage Complete : 41.94444444444444%\n",
      "Percentage Complete : 42.03703703703704%\n",
      "Percentage Complete : 42.129629629629626%\n",
      "Percentage Complete : 42.22222222222222%\n",
      "Percentage Complete : 42.31481481481482%\n",
      "Percentage Complete : 42.407407407407405%\n",
      "Percentage Complete : 42.5%\n",
      "Percentage Complete : 42.592592592592595%\n",
      "Percentage Complete : 42.68518518518519%\n",
      "Percentage Complete : 42.77777777777778%\n",
      "Percentage Complete : 42.87037037037037%\n",
      "Percentage Complete : 42.96296296296296%\n",
      "Percentage Complete : 43.05555555555556%\n",
      "Percentage Complete : 43.148148148148145%\n",
      "Percentage Complete : 43.24074074074074%\n",
      "Percentage Complete : 43.333333333333336%\n",
      "Percentage Complete : 43.425925925925924%\n",
      "Percentage Complete : 43.51851851851852%\n",
      "Percentage Complete : 43.611111111111114%\n",
      "Percentage Complete : 43.7037037037037%\n",
      "Percentage Complete : 43.7962962962963%\n",
      "Percentage Complete : 43.888888888888886%\n",
      "Percentage Complete : 43.98148148148148%\n",
      "Percentage Complete : 44.074074074074076%\n",
      "Percentage Complete : 44.166666666666664%\n",
      "Percentage Complete : 44.25925925925926%\n",
      "Percentage Complete : 44.351851851851855%\n",
      "Percentage Complete : 44.44444444444444%\n",
      "Percentage Complete : 44.53703703703704%\n",
      "Percentage Complete : 44.62962962962963%\n",
      "Percentage Complete : 44.72222222222222%\n",
      "Percentage Complete : 44.81481481481481%\n",
      "Percentage Complete : 44.907407407407405%\n"
     ]
    },
    {
     "name": "stdout",
     "output_type": "stream",
     "text": [
      "Percentage Complete : 45.0%\n",
      "Percentage Complete : 45.092592592592595%\n",
      "Percentage Complete : 45.18518518518518%\n",
      "Percentage Complete : 45.27777777777778%\n",
      "Percentage Complete : 45.370370370370374%\n",
      "Percentage Complete : 45.46296296296296%\n",
      "Percentage Complete : 45.55555555555556%\n",
      "Percentage Complete : 45.64814814814815%\n",
      "Percentage Complete : 45.74074074074074%\n",
      "Percentage Complete : 45.83333333333333%\n",
      "Percentage Complete : 45.925925925925924%\n",
      "Percentage Complete : 46.01851851851852%\n",
      "Percentage Complete : 46.111111111111114%\n",
      "Percentage Complete : 46.2037037037037%\n",
      "Percentage Complete : 46.2962962962963%\n",
      "Percentage Complete : 46.38888888888889%\n",
      "Percentage Complete : 46.48148148148148%\n",
      "Percentage Complete : 46.574074074074076%\n",
      "Percentage Complete : 46.666666666666664%\n",
      "Percentage Complete : 46.75925925925926%\n",
      "Percentage Complete : 46.85185185185185%\n",
      "Percentage Complete : 46.94444444444444%\n",
      "Percentage Complete : 47.03703703703704%\n",
      "Percentage Complete : 47.129629629629626%\n",
      "Percentage Complete : 47.22222222222222%\n",
      "Percentage Complete : 47.31481481481482%\n",
      "Percentage Complete : 47.40740740740741%\n",
      "Percentage Complete : 47.5%\n",
      "Percentage Complete : 47.592592592592595%\n",
      "Percentage Complete : 47.68518518518518%\n",
      "Percentage Complete : 47.77777777777778%\n",
      "Percentage Complete : 47.87037037037037%\n",
      "Percentage Complete : 47.96296296296296%\n",
      "Percentage Complete : 48.05555555555556%\n",
      "Percentage Complete : 48.148148148148145%\n",
      "Percentage Complete : 48.24074074074074%\n",
      "Percentage Complete : 48.333333333333336%\n",
      "Percentage Complete : 48.42592592592593%\n",
      "Percentage Complete : 48.51851851851852%\n",
      "Percentage Complete : 48.61111111111111%\n",
      "Percentage Complete : 48.7037037037037%\n",
      "Percentage Complete : 48.7962962962963%\n",
      "Percentage Complete : 48.888888888888886%\n",
      "Percentage Complete : 48.98148148148148%\n",
      "Percentage Complete : 49.074074074074076%\n",
      "Percentage Complete : 49.166666666666664%\n",
      "Percentage Complete : 49.25925925925926%\n",
      "Percentage Complete : 49.351851851851855%\n",
      "Percentage Complete : 49.44444444444444%\n",
      "Percentage Complete : 49.53703703703704%\n",
      "Percentage Complete : 49.629629629629626%\n",
      "Percentage Complete : 49.72222222222222%\n",
      "Percentage Complete : 49.81481481481482%\n",
      "Percentage Complete : 49.907407407407405%\n",
      "Percentage Complete : 50.0%\n",
      "Percentage Complete : 50.09259259259259%\n",
      "Percentage Complete : 50.18518518518519%\n",
      "Percentage Complete : 50.27777777777778%\n",
      "Percentage Complete : 50.37037037037037%\n",
      "Percentage Complete : 50.46296296296296%\n",
      "Percentage Complete : 50.55555555555556%\n",
      "Percentage Complete : 50.64814814814815%\n",
      "Percentage Complete : 50.74074074074074%\n",
      "Percentage Complete : 50.83333333333333%\n",
      "Percentage Complete : 50.92592592592593%\n",
      "Percentage Complete : 51.01851851851852%\n",
      "Percentage Complete : 51.11111111111111%\n",
      "Percentage Complete : 51.20370370370371%\n",
      "Percentage Complete : 51.2962962962963%\n",
      "Percentage Complete : 51.388888888888886%\n",
      "Percentage Complete : 51.48148148148148%\n",
      "Percentage Complete : 51.57407407407407%\n",
      "Percentage Complete : 51.66666666666667%\n",
      "Percentage Complete : 51.75925925925926%\n",
      "Percentage Complete : 51.85185185185185%\n",
      "Percentage Complete : 51.94444444444445%\n",
      "Percentage Complete : 52.03703703703704%\n",
      "Percentage Complete : 52.129629629629626%\n",
      "Percentage Complete : 52.22222222222223%\n",
      "Percentage Complete : 52.31481481481482%\n",
      "Percentage Complete : 52.407407407407405%\n",
      "Percentage Complete : 52.5%\n",
      "Percentage Complete : 52.59259259259259%\n",
      "Percentage Complete : 52.68518518518519%\n",
      "Percentage Complete : 52.77777777777778%\n",
      "Percentage Complete : 52.87037037037037%\n",
      "Percentage Complete : 52.96296296296297%\n",
      "Percentage Complete : 53.05555555555556%\n",
      "Percentage Complete : 53.148148148148145%\n",
      "Percentage Complete : 53.24074074074075%\n",
      "Percentage Complete : 53.333333333333336%\n",
      "Percentage Complete : 53.425925925925924%\n",
      "Percentage Complete : 53.51851851851852%\n",
      "Percentage Complete : 53.61111111111111%\n",
      "Percentage Complete : 53.70370370370371%\n",
      "Percentage Complete : 53.7962962962963%\n",
      "Percentage Complete : 53.888888888888886%\n",
      "Percentage Complete : 53.98148148148149%\n",
      "Percentage Complete : 54.074074074074076%\n",
      "Percentage Complete : 54.166666666666664%\n",
      "Percentage Complete : 54.25925925925926%\n",
      "Percentage Complete : 54.35185185185185%\n",
      "Percentage Complete : 54.44444444444444%\n",
      "Percentage Complete : 54.53703703703704%\n",
      "Percentage Complete : 54.629629629629626%\n",
      "Percentage Complete : 54.72222222222223%\n",
      "Percentage Complete : 54.81481481481482%\n",
      "Percentage Complete : 54.907407407407405%\n",
      "Percentage Complete : 55.00000000000001%\n",
      "Percentage Complete : 55.092592592592595%\n",
      "Percentage Complete : 55.18518518518518%\n",
      "Percentage Complete : 55.27777777777778%\n",
      "Percentage Complete : 55.37037037037037%\n",
      "Percentage Complete : 55.46296296296296%\n",
      "Percentage Complete : 55.55555555555556%\n",
      "Percentage Complete : 55.648148148148145%\n",
      "Percentage Complete : 55.74074074074075%\n",
      "Percentage Complete : 55.833333333333336%\n",
      "Percentage Complete : 55.925925925925924%\n",
      "Percentage Complete : 56.018518518518526%\n",
      "Percentage Complete : 56.111111111111114%\n",
      "Percentage Complete : 56.2037037037037%\n",
      "Percentage Complete : 56.2962962962963%\n",
      "Percentage Complete : 56.388888888888886%\n",
      "Percentage Complete : 56.481481481481474%\n",
      "Percentage Complete : 56.574074074074076%\n",
      "Percentage Complete : 56.666666666666664%\n",
      "Percentage Complete : 56.75925925925925%\n",
      "Percentage Complete : 56.851851851851855%\n",
      "Percentage Complete : 56.94444444444444%\n",
      "Percentage Complete : 57.03703703703704%\n",
      "Percentage Complete : 57.12962962962963%\n",
      "Percentage Complete : 57.22222222222222%\n",
      "Percentage Complete : 57.31481481481482%\n",
      "Percentage Complete : 57.407407407407405%\n",
      "Percentage Complete : 57.49999999999999%\n",
      "Percentage Complete : 57.592592592592595%\n",
      "Percentage Complete : 57.68518518518518%\n",
      "Percentage Complete : 57.77777777777777%\n",
      "Percentage Complete : 57.870370370370374%\n",
      "Percentage Complete : 57.96296296296296%\n",
      "Percentage Complete : 58.05555555555556%\n",
      "Percentage Complete : 58.14814814814815%\n",
      "Percentage Complete : 58.24074074074074%\n",
      "Percentage Complete : 58.333333333333336%\n",
      "Percentage Complete : 58.425925925925924%\n",
      "Percentage Complete : 58.51851851851851%\n",
      "Percentage Complete : 58.611111111111114%\n",
      "Percentage Complete : 58.7037037037037%\n",
      "Percentage Complete : 58.79629629629629%\n",
      "Percentage Complete : 58.88888888888889%\n",
      "Percentage Complete : 58.98148148148148%\n",
      "Percentage Complete : 59.074074074074076%\n",
      "Percentage Complete : 59.166666666666664%\n",
      "Percentage Complete : 59.25925925925925%\n",
      "Percentage Complete : 59.351851851851855%\n",
      "Percentage Complete : 59.44444444444444%\n",
      "Percentage Complete : 59.53703703703703%\n",
      "Percentage Complete : 59.62962962962963%\n",
      "Percentage Complete : 59.72222222222222%\n",
      "Percentage Complete : 59.81481481481481%\n",
      "Percentage Complete : 59.90740740740741%\n",
      "Percentage Complete : 60.0%\n",
      "Percentage Complete : 60.092592592592595%\n",
      "Percentage Complete : 60.18518518518518%\n",
      "Percentage Complete : 60.27777777777777%\n",
      "Percentage Complete : 60.370370370370374%\n",
      "Percentage Complete : 60.46296296296296%\n",
      "Percentage Complete : 60.55555555555555%\n",
      "Percentage Complete : 60.64814814814815%\n",
      "Percentage Complete : 60.74074074074074%\n",
      "Percentage Complete : 60.83333333333333%\n",
      "Percentage Complete : 60.92592592592593%\n",
      "Percentage Complete : 61.01851851851852%\n",
      "Percentage Complete : 61.111111111111114%\n",
      "Percentage Complete : 61.2037037037037%\n",
      "Percentage Complete : 61.29629629629629%\n",
      "Percentage Complete : 61.38888888888889%\n",
      "Percentage Complete : 61.48148148148148%\n",
      "Percentage Complete : 61.57407407407407%\n",
      "Percentage Complete : 61.66666666666667%\n",
      "Percentage Complete : 61.75925925925926%\n",
      "Percentage Complete : 61.85185185185185%\n",
      "Percentage Complete : 61.94444444444444%\n",
      "Percentage Complete : 62.03703703703704%\n",
      "Percentage Complete : 62.12962962962963%\n",
      "Percentage Complete : 62.22222222222222%\n",
      "Percentage Complete : 62.31481481481481%\n",
      "Percentage Complete : 62.40740740740741%\n",
      "Percentage Complete : 62.5%\n",
      "Percentage Complete : 62.59259259259259%\n",
      "Percentage Complete : 62.68518518518519%\n",
      "Percentage Complete : 62.77777777777778%\n",
      "Percentage Complete : 62.87037037037037%\n",
      "Percentage Complete : 62.96296296296296%\n",
      "Percentage Complete : 63.05555555555556%\n",
      "Percentage Complete : 63.14814814814815%\n",
      "Percentage Complete : 63.24074074074074%\n",
      "Percentage Complete : 63.33333333333333%\n",
      "Percentage Complete : 63.42592592592593%\n",
      "Percentage Complete : 63.51851851851852%\n",
      "Percentage Complete : 63.61111111111111%\n",
      "Percentage Complete : 63.70370370370371%\n",
      "Percentage Complete : 63.7962962962963%\n",
      "Percentage Complete : 63.888888888888886%\n",
      "Percentage Complete : 63.98148148148148%\n",
      "Percentage Complete : 64.07407407407408%\n",
      "Percentage Complete : 64.16666666666667%\n",
      "Percentage Complete : 64.25925925925927%\n",
      "Percentage Complete : 64.35185185185185%\n",
      "Percentage Complete : 64.44444444444444%\n",
      "Percentage Complete : 64.53703703703704%\n",
      "Percentage Complete : 64.62962962962962%\n",
      "Percentage Complete : 64.72222222222223%\n",
      "Percentage Complete : 64.81481481481481%\n",
      "Percentage Complete : 64.9074074074074%\n",
      "Percentage Complete : 65.0%\n",
      "Percentage Complete : 65.0925925925926%\n",
      "Percentage Complete : 65.18518518518519%\n",
      "Percentage Complete : 65.27777777777779%\n",
      "Percentage Complete : 65.37037037037037%\n",
      "Percentage Complete : 65.46296296296296%\n",
      "Percentage Complete : 65.55555555555556%\n",
      "Percentage Complete : 65.64814814814814%\n",
      "Percentage Complete : 65.74074074074075%\n",
      "Percentage Complete : 65.83333333333333%\n",
      "Percentage Complete : 65.92592592592592%\n",
      "Percentage Complete : 66.01851851851852%\n",
      "Percentage Complete : 66.11111111111111%\n",
      "Percentage Complete : 66.20370370370371%\n",
      "Percentage Complete : 66.2962962962963%\n",
      "Percentage Complete : 66.38888888888889%\n",
      "Percentage Complete : 66.48148148148148%\n",
      "Percentage Complete : 66.57407407407408%\n",
      "Percentage Complete : 66.66666666666666%\n",
      "Percentage Complete : 66.75925925925927%\n",
      "Percentage Complete : 66.85185185185185%\n",
      "Percentage Complete : 66.94444444444444%\n",
      "Percentage Complete : 67.03703703703704%\n",
      "Percentage Complete : 67.12962962962963%\n",
      "Percentage Complete : 67.22222222222223%\n",
      "Percentage Complete : 67.31481481481481%\n",
      "Percentage Complete : 67.4074074074074%\n",
      "Percentage Complete : 67.5%\n",
      "Percentage Complete : 67.5925925925926%\n",
      "Percentage Complete : 67.68518518518518%\n",
      "Percentage Complete : 67.77777777777779%\n",
      "Percentage Complete : 67.87037037037037%\n",
      "Percentage Complete : 67.96296296296296%\n",
      "Percentage Complete : 68.05555555555556%\n",
      "Percentage Complete : 68.14814814814815%\n",
      "Percentage Complete : 68.24074074074075%\n",
      "Percentage Complete : 68.33333333333333%\n",
      "Percentage Complete : 68.42592592592592%\n",
      "Percentage Complete : 68.51851851851852%\n",
      "Percentage Complete : 68.61111111111111%\n",
      "Percentage Complete : 68.7037037037037%\n",
      "Percentage Complete : 68.7962962962963%\n",
      "Percentage Complete : 68.88888888888889%\n",
      "Percentage Complete : 68.98148148148148%\n",
      "Percentage Complete : 69.07407407407408%\n",
      "Percentage Complete : 69.16666666666667%\n",
      "Percentage Complete : 69.25925925925925%\n",
      "Percentage Complete : 69.35185185185185%\n",
      "Percentage Complete : 69.44444444444444%\n",
      "Percentage Complete : 69.53703703703704%\n",
      "Percentage Complete : 69.62962962962963%\n",
      "Percentage Complete : 69.72222222222221%\n",
      "Percentage Complete : 69.81481481481482%\n",
      "Percentage Complete : 69.9074074074074%\n",
      "Percentage Complete : 70.0%\n",
      "Percentage Complete : 70.0925925925926%\n",
      "Percentage Complete : 70.18518518518519%\n",
      "Percentage Complete : 70.27777777777777%\n",
      "Percentage Complete : 70.37037037037037%\n",
      "Percentage Complete : 70.46296296296296%\n",
      "Percentage Complete : 70.55555555555556%\n",
      "Percentage Complete : 70.64814814814815%\n",
      "Percentage Complete : 70.74074074074073%\n",
      "Percentage Complete : 70.83333333333334%\n",
      "Percentage Complete : 70.92592592592592%\n",
      "Percentage Complete : 71.01851851851852%\n",
      "Percentage Complete : 71.11111111111111%\n",
      "Percentage Complete : 71.2037037037037%\n",
      "Percentage Complete : 71.29629629629629%\n",
      "Percentage Complete : 71.38888888888889%\n",
      "Percentage Complete : 71.48148148148148%\n",
      "Percentage Complete : 71.57407407407408%\n",
      "Percentage Complete : 71.66666666666667%\n",
      "Percentage Complete : 71.75925925925925%\n",
      "Percentage Complete : 71.85185185185186%\n",
      "Percentage Complete : 71.94444444444444%\n",
      "Percentage Complete : 72.03703703703704%\n",
      "Percentage Complete : 72.12962962962963%\n",
      "Percentage Complete : 72.22222222222221%\n",
      "Percentage Complete : 72.31481481481481%\n",
      "Percentage Complete : 72.4074074074074%\n",
      "Percentage Complete : 72.5%\n",
      "Percentage Complete : 72.5925925925926%\n",
      "Percentage Complete : 72.68518518518519%\n",
      "Percentage Complete : 72.77777777777777%\n",
      "Percentage Complete : 72.87037037037038%\n",
      "Percentage Complete : 72.96296296296296%\n",
      "Percentage Complete : 73.05555555555556%\n",
      "Percentage Complete : 73.14814814814815%\n",
      "Percentage Complete : 73.24074074074073%\n",
      "Percentage Complete : 73.33333333333333%\n",
      "Percentage Complete : 73.42592592592592%\n",
      "Percentage Complete : 73.51851851851852%\n",
      "Percentage Complete : 73.61111111111111%\n",
      "Percentage Complete : 73.70370370370371%\n",
      "Percentage Complete : 73.79629629629629%\n",
      "Percentage Complete : 73.88888888888889%\n",
      "Percentage Complete : 73.98148148148148%\n",
      "Percentage Complete : 74.07407407407408%\n",
      "Percentage Complete : 74.16666666666667%\n",
      "Percentage Complete : 74.25925925925925%\n",
      "Percentage Complete : 74.35185185185185%\n",
      "Percentage Complete : 74.44444444444444%\n",
      "Percentage Complete : 74.53703703703704%\n",
      "Percentage Complete : 74.62962962962963%\n",
      "Percentage Complete : 74.72222222222223%\n",
      "Percentage Complete : 74.81481481481481%\n",
      "Percentage Complete : 74.9074074074074%\n",
      "Percentage Complete : 75.0%\n",
      "Percentage Complete : 75.0925925925926%\n",
      "Percentage Complete : 75.18518518518519%\n",
      "Percentage Complete : 75.27777777777777%\n",
      "Percentage Complete : 75.37037037037037%\n",
      "Percentage Complete : 75.46296296296296%\n",
      "Percentage Complete : 75.55555555555556%\n",
      "Percentage Complete : 75.64814814814815%\n",
      "Percentage Complete : 75.74074074074075%\n",
      "Percentage Complete : 75.83333333333333%\n",
      "Percentage Complete : 75.92592592592592%\n",
      "Percentage Complete : 76.01851851851852%\n",
      "Percentage Complete : 76.11111111111111%\n",
      "Percentage Complete : 76.20370370370371%\n",
      "Percentage Complete : 76.29629629629629%\n",
      "Percentage Complete : 76.38888888888889%\n",
      "Percentage Complete : 76.48148148148148%\n",
      "Percentage Complete : 76.57407407407408%\n",
      "Percentage Complete : 76.66666666666667%\n",
      "Percentage Complete : 76.75925925925927%\n",
      "Percentage Complete : 76.85185185185185%\n",
      "Percentage Complete : 76.94444444444444%\n",
      "Percentage Complete : 77.03703703703704%\n",
      "Percentage Complete : 77.12962962962962%\n",
      "Percentage Complete : 77.22222222222223%\n",
      "Percentage Complete : 77.31481481481481%\n",
      "Percentage Complete : 77.4074074074074%\n",
      "Percentage Complete : 77.5%\n",
      "Percentage Complete : 77.5925925925926%\n",
      "Percentage Complete : 77.68518518518519%\n",
      "Percentage Complete : 77.77777777777779%\n",
      "Percentage Complete : 77.87037037037037%\n",
      "Percentage Complete : 77.96296296296296%\n",
      "Percentage Complete : 78.05555555555556%\n",
      "Percentage Complete : 78.14814814814814%\n",
      "Percentage Complete : 78.24074074074075%\n",
      "Percentage Complete : 78.33333333333333%\n",
      "Percentage Complete : 78.42592592592592%\n",
      "Percentage Complete : 78.51851851851852%\n",
      "Percentage Complete : 78.61111111111111%\n",
      "Percentage Complete : 78.70370370370371%\n",
      "Percentage Complete : 78.7962962962963%\n",
      "Percentage Complete : 78.88888888888889%\n",
      "Percentage Complete : 78.98148148148148%\n",
      "Percentage Complete : 79.07407407407408%\n",
      "Percentage Complete : 79.16666666666666%\n",
      "Percentage Complete : 79.25925925925927%\n",
      "Percentage Complete : 79.35185185185185%\n",
      "Percentage Complete : 79.44444444444444%\n",
      "Percentage Complete : 79.53703703703704%\n",
      "Percentage Complete : 79.62962962962963%\n",
      "Percentage Complete : 79.72222222222223%\n",
      "Percentage Complete : 79.81481481481481%\n",
      "Percentage Complete : 79.9074074074074%\n",
      "Percentage Complete : 80.0%\n",
      "Percentage Complete : 80.0925925925926%\n",
      "Percentage Complete : 80.18518518518518%\n",
      "Percentage Complete : 80.27777777777779%\n",
      "Percentage Complete : 80.37037037037037%\n",
      "Percentage Complete : 80.46296296296296%\n",
      "Percentage Complete : 80.55555555555556%\n",
      "Percentage Complete : 80.64814814814815%\n",
      "Percentage Complete : 80.74074074074075%\n",
      "Percentage Complete : 80.83333333333333%\n",
      "Percentage Complete : 80.92592592592592%\n",
      "Percentage Complete : 81.01851851851852%\n",
      "Percentage Complete : 81.11111111111111%\n",
      "Percentage Complete : 81.2037037037037%\n",
      "Percentage Complete : 81.2962962962963%\n",
      "Percentage Complete : 81.38888888888889%\n",
      "Percentage Complete : 81.48148148148148%\n",
      "Percentage Complete : 81.57407407407408%\n",
      "Percentage Complete : 81.66666666666667%\n",
      "Percentage Complete : 81.75925925925925%\n",
      "Percentage Complete : 81.85185185185185%\n",
      "Percentage Complete : 81.94444444444444%\n",
      "Percentage Complete : 82.03703703703704%\n",
      "Percentage Complete : 82.12962962962963%\n",
      "Percentage Complete : 82.22222222222221%\n",
      "Percentage Complete : 82.31481481481482%\n",
      "Percentage Complete : 82.4074074074074%\n",
      "Percentage Complete : 82.5%\n",
      "Percentage Complete : 82.5925925925926%\n",
      "Percentage Complete : 82.68518518518519%\n",
      "Percentage Complete : 82.77777777777777%\n",
      "Percentage Complete : 82.87037037037037%\n",
      "Percentage Complete : 82.96296296296296%\n",
      "Percentage Complete : 83.05555555555556%\n",
      "Percentage Complete : 83.14814814814815%\n",
      "Percentage Complete : 83.24074074074073%\n",
      "Percentage Complete : 83.33333333333334%\n",
      "Percentage Complete : 83.42592592592592%\n",
      "Percentage Complete : 83.51851851851852%\n",
      "Percentage Complete : 83.61111111111111%\n",
      "Percentage Complete : 83.7037037037037%\n",
      "Percentage Complete : 83.79629629629629%\n",
      "Percentage Complete : 83.88888888888889%\n",
      "Percentage Complete : 83.98148148148148%\n",
      "Percentage Complete : 84.07407407407408%\n",
      "Percentage Complete : 84.16666666666667%\n",
      "Percentage Complete : 84.25925925925925%\n",
      "Percentage Complete : 84.35185185185186%\n",
      "Percentage Complete : 84.44444444444444%\n",
      "Percentage Complete : 84.53703703703704%\n",
      "Percentage Complete : 84.62962962962963%\n",
      "Percentage Complete : 84.72222222222221%\n",
      "Percentage Complete : 84.81481481481481%\n",
      "Percentage Complete : 84.9074074074074%\n",
      "Percentage Complete : 85.0%\n",
      "Percentage Complete : 85.0925925925926%\n",
      "Percentage Complete : 85.18518518518519%\n",
      "Percentage Complete : 85.27777777777777%\n",
      "Percentage Complete : 85.37037037037038%\n",
      "Percentage Complete : 85.46296296296296%\n",
      "Percentage Complete : 85.55555555555556%\n",
      "Percentage Complete : 85.64814814814815%\n",
      "Percentage Complete : 85.74074074074073%\n",
      "Percentage Complete : 85.83333333333333%\n",
      "Percentage Complete : 85.92592592592592%\n",
      "Percentage Complete : 86.01851851851852%\n",
      "Percentage Complete : 86.11111111111111%\n",
      "Percentage Complete : 86.20370370370371%\n",
      "Percentage Complete : 86.29629629629629%\n",
      "Percentage Complete : 86.38888888888889%\n",
      "Percentage Complete : 86.48148148148148%\n",
      "Percentage Complete : 86.57407407407408%\n",
      "Percentage Complete : 86.66666666666667%\n",
      "Percentage Complete : 86.75925925925925%\n",
      "Percentage Complete : 86.85185185185185%\n",
      "Percentage Complete : 86.94444444444444%\n",
      "Percentage Complete : 87.03703703703704%\n",
      "Percentage Complete : 87.12962962962963%\n",
      "Percentage Complete : 87.22222222222223%\n",
      "Percentage Complete : 87.31481481481481%\n",
      "Percentage Complete : 87.4074074074074%\n",
      "Percentage Complete : 87.5%\n",
      "Percentage Complete : 87.5925925925926%\n",
      "Percentage Complete : 87.68518518518519%\n",
      "Percentage Complete : 87.77777777777777%\n",
      "Percentage Complete : 87.87037037037037%\n",
      "Percentage Complete : 87.96296296296296%\n",
      "Percentage Complete : 88.05555555555556%\n",
      "Percentage Complete : 88.14814814814815%\n",
      "Percentage Complete : 88.24074074074075%\n",
      "Percentage Complete : 88.33333333333333%\n",
      "Percentage Complete : 88.42592592592592%\n",
      "Percentage Complete : 88.51851851851852%\n",
      "Percentage Complete : 88.61111111111111%\n",
      "Percentage Complete : 88.70370370370371%\n",
      "Percentage Complete : 88.79629629629629%\n",
      "Percentage Complete : 88.88888888888889%\n",
      "Percentage Complete : 88.98148148148148%\n",
      "Percentage Complete : 89.07407407407408%\n",
      "Percentage Complete : 89.16666666666667%\n",
      "Percentage Complete : 89.25925925925927%\n",
      "Percentage Complete : 89.35185185185185%\n",
      "Percentage Complete : 89.44444444444444%\n",
      "Percentage Complete : 89.53703703703704%\n",
      "Percentage Complete : 89.62962962962962%\n",
      "Percentage Complete : 89.72222222222223%\n",
      "Percentage Complete : 89.81481481481481%\n",
      "Percentage Complete : 89.9074074074074%\n",
      "Percentage Complete : 90.0%\n",
      "Percentage Complete : 90.0925925925926%\n",
      "Percentage Complete : 90.18518518518519%\n",
      "Percentage Complete : 90.27777777777779%\n",
      "Percentage Complete : 90.37037037037037%\n",
      "Percentage Complete : 90.46296296296296%\n",
      "Percentage Complete : 90.55555555555556%\n",
      "Percentage Complete : 90.64814814814814%\n",
      "Percentage Complete : 90.74074074074075%\n"
     ]
    },
    {
     "name": "stdout",
     "output_type": "stream",
     "text": [
      "Percentage Complete : 90.83333333333333%\n",
      "Percentage Complete : 90.92592592592592%\n",
      "Percentage Complete : 91.01851851851852%\n",
      "Percentage Complete : 91.11111111111111%\n",
      "Percentage Complete : 91.20370370370371%\n",
      "Percentage Complete : 91.2962962962963%\n",
      "Percentage Complete : 91.38888888888889%\n",
      "Percentage Complete : 91.48148148148148%\n",
      "Percentage Complete : 91.57407407407408%\n",
      "Percentage Complete : 91.66666666666666%\n",
      "Percentage Complete : 91.75925925925927%\n",
      "Percentage Complete : 91.85185185185185%\n",
      "Percentage Complete : 91.94444444444444%\n",
      "Percentage Complete : 92.03703703703704%\n",
      "Percentage Complete : 92.12962962962963%\n",
      "Percentage Complete : 92.22222222222223%\n",
      "Percentage Complete : 92.31481481481481%\n",
      "Percentage Complete : 92.4074074074074%\n",
      "Percentage Complete : 92.5%\n",
      "Percentage Complete : 92.5925925925926%\n",
      "Percentage Complete : 92.68518518518518%\n",
      "Percentage Complete : 92.77777777777779%\n",
      "Percentage Complete : 92.87037037037037%\n",
      "Percentage Complete : 92.96296296296296%\n",
      "Percentage Complete : 93.05555555555556%\n",
      "Percentage Complete : 93.14814814814815%\n",
      "Percentage Complete : 93.24074074074075%\n",
      "Percentage Complete : 93.33333333333333%\n",
      "Percentage Complete : 93.42592592592592%\n",
      "Percentage Complete : 93.51851851851852%\n",
      "Percentage Complete : 93.61111111111111%\n",
      "Percentage Complete : 93.7037037037037%\n",
      "Percentage Complete : 93.7962962962963%\n",
      "Percentage Complete : 93.88888888888889%\n",
      "Percentage Complete : 93.98148148148148%\n",
      "Percentage Complete : 94.07407407407408%\n",
      "Percentage Complete : 94.16666666666667%\n",
      "Percentage Complete : 94.25925925925925%\n",
      "Percentage Complete : 94.35185185185185%\n",
      "Percentage Complete : 94.44444444444444%\n",
      "Percentage Complete : 94.53703703703704%\n",
      "Percentage Complete : 94.62962962962963%\n",
      "Percentage Complete : 94.72222222222221%\n",
      "Percentage Complete : 94.81481481481482%\n",
      "Percentage Complete : 94.9074074074074%\n",
      "Percentage Complete : 95.0%\n",
      "Percentage Complete : 95.0925925925926%\n",
      "Percentage Complete : 95.18518518518519%\n",
      "Percentage Complete : 95.27777777777777%\n",
      "Percentage Complete : 95.37037037037037%\n",
      "Percentage Complete : 95.46296296296296%\n",
      "Percentage Complete : 95.55555555555556%\n",
      "Percentage Complete : 95.64814814814815%\n",
      "Percentage Complete : 95.74074074074073%\n",
      "Percentage Complete : 95.83333333333334%\n",
      "Percentage Complete : 95.92592592592592%\n",
      "Percentage Complete : 96.01851851851852%\n",
      "Percentage Complete : 96.11111111111111%\n",
      "Percentage Complete : 96.2037037037037%\n",
      "Percentage Complete : 96.29629629629629%\n",
      "Percentage Complete : 96.38888888888889%\n",
      "Percentage Complete : 96.48148148148148%\n",
      "Percentage Complete : 96.57407407407408%\n",
      "Percentage Complete : 96.66666666666667%\n",
      "Percentage Complete : 96.75925925925925%\n",
      "Percentage Complete : 96.85185185185186%\n",
      "Percentage Complete : 96.94444444444444%\n",
      "Percentage Complete : 97.03703703703704%\n",
      "Percentage Complete : 97.12962962962963%\n",
      "Percentage Complete : 97.22222222222221%\n",
      "Percentage Complete : 97.31481481481481%\n",
      "Percentage Complete : 97.4074074074074%\n",
      "Percentage Complete : 97.5%\n",
      "Percentage Complete : 97.5925925925926%\n",
      "Percentage Complete : 97.68518518518519%\n",
      "Percentage Complete : 97.77777777777777%\n",
      "Percentage Complete : 97.87037037037038%\n",
      "Percentage Complete : 97.96296296296296%\n",
      "Percentage Complete : 98.05555555555556%\n",
      "Percentage Complete : 98.14814814814815%\n",
      "Percentage Complete : 98.24074074074073%\n",
      "Percentage Complete : 98.33333333333333%\n",
      "Percentage Complete : 98.42592592592592%\n",
      "Percentage Complete : 98.51851851851852%\n",
      "Percentage Complete : 98.61111111111111%\n",
      "Percentage Complete : 98.70370370370371%\n",
      "Percentage Complete : 98.79629629629629%\n",
      "Percentage Complete : 98.88888888888889%\n",
      "Percentage Complete : 98.98148148148148%\n",
      "Percentage Complete : 99.07407407407408%\n",
      "Percentage Complete : 99.16666666666667%\n",
      "Percentage Complete : 99.25925925925925%\n",
      "Percentage Complete : 99.35185185185185%\n",
      "Percentage Complete : 99.44444444444444%\n",
      "Percentage Complete : 99.53703703703704%\n",
      "Percentage Complete : 99.62962962962963%\n",
      "Percentage Complete : 99.72222222222223%\n",
      "Percentage Complete : 99.81481481481481%\n",
      "Percentage Complete : 99.9074074074074%\n"
     ]
    }
   ],
   "source": [
    "class Solution():\n",
    "    def maxHist(self, row):\n",
    "        # Create an empty stack. The stack holds\n",
    "        # indexes of hist array / The bars stored\n",
    "        # in stack are always in increasing order\n",
    "        # of their heights.\n",
    "        result = []\n",
    "\n",
    "        # Top of stack\n",
    "        top_val = 0\n",
    "\n",
    "        # Initialize max area in current\n",
    "        max_area = 0\n",
    "        # row (or histogram)\n",
    "\n",
    "        area = 0  # Initialize area with current top\n",
    "\n",
    "        # Run through all bars of given\n",
    "        # histogram (or row)\n",
    "        i = 0\n",
    "        while (i < len(row)):\n",
    "\n",
    "            # If this bar is higher than the\n",
    "            # bar on top stack, push it to stack\n",
    "            if (len(result) == 0) or (row[result[-1]] <= row[i]):\n",
    "                result.append(i)\n",
    "                i += 1\n",
    "            else:\n",
    "\n",
    "                # If this bar is lower than top of stack,\n",
    "                # then calculate area of rectangle with\n",
    "                # stack top as the smallest (or minimum\n",
    "                # height) bar. 'i' is 'right index' for\n",
    "                # the top and element before top in stack\n",
    "                # is 'left index'\n",
    "                top_val = row[result.pop()]\n",
    "                area = top_val * i\n",
    "\n",
    "                if (len(result)):\n",
    "                    area = top_val * (i - result[-1] - 1)\n",
    "                max_area = max(area, max_area)\n",
    "\n",
    "        # Now pop the remaining bars from stack\n",
    "        # and calculate area with every popped\n",
    "        # bar as the smallest bar\n",
    "        while (len(result)):\n",
    "            top_val = row[result.pop()]\n",
    "            area = top_val * i\n",
    "            if (len(result)):\n",
    "                area = top_val * (i - result[-1] - 1)\n",
    "\n",
    "            max_area = max(area, max_area)\n",
    "\n",
    "        return max_area\n",
    "\n",
    "    # Returns area of the largest rectangle\n",
    "    # with all 1s in A\n",
    "    def maxRectangle(self, A):\n",
    "\n",
    "        # Calculate area for first row and\n",
    "        # initialize it as result\n",
    "        result = self.maxHist(A[0])\n",
    "\n",
    "        # iterate over row to find maximum rectangular\n",
    "        # area considering each row as histogram\n",
    "        print(\"Max Area Percentage\")\n",
    "        for i in range(1, len(A)):\n",
    "            print(\"Percentage Complete :\",end=\" \")\n",
    "            print(i/len(A)*100,end=\"\")\n",
    "            print(\"%\")\n",
    "            for j in range(len(A[i])):\n",
    "\n",
    "                # if A[i][j] is 1 then add A[i -1][j]\n",
    "                if (A[i][j]):\n",
    "                    A[i][j] += A[i - 1][j]\n",
    "\n",
    "            # Update result if area with current\n",
    "            # row (as last row) of rectangle) is more\n",
    "            result = max(result, self.maxHist(A[i]))\n",
    "\n",
    "        return result\n",
    "\n",
    "ans = Solution()\n",
    "area = ans.maxRectangle(amt)"
   ]
  },
  {
   "cell_type": "code",
   "execution_count": 94,
   "id": "cd3f21c2",
   "metadata": {},
   "outputs": [
    {
     "name": "stdout",
     "output_type": "stream",
     "text": [
      "The list has been written to afterArea.txt\n"
     ]
    }
   ],
   "source": [
    "file_path = 'afterArea.txt'\n",
    "\n",
    "# Open the file in write mode ('w')\n",
    "with open(file_path, 'w') as file:\n",
    "    # Write each element of the list to a new line in the file\n",
    "    for item in amt2:\n",
    "        file.write(str(item) + '\\n')\n",
    "\n",
    "print(f\"The list has been written to {file_path}\")"
   ]
  },
  {
   "cell_type": "code",
   "execution_count": 95,
   "id": "865028f7",
   "metadata": {},
   "outputs": [
    {
     "name": "stdout",
     "output_type": "stream",
     "text": [
      "FindRectangleCoordinates\n",
      "Percentage Complete: 0.0%\n",
      "Percentage Complete: 0.1652892561983471%\n",
      "Percentage Complete: 0.3305785123966942%\n",
      "Percentage Complete: 0.49586776859504134%\n",
      "Percentage Complete: 0.6611570247933884%\n",
      "Percentage Complete: 0.8264462809917356%\n",
      "Percentage Complete: 0.9917355371900827%\n",
      "Percentage Complete: 1.1570247933884297%\n",
      "Percentage Complete: 1.322314049586777%\n",
      "Percentage Complete: 1.487603305785124%\n",
      "Percentage Complete: 1.6528925619834711%\n",
      "Percentage Complete: 1.8181818181818181%\n",
      "Percentage Complete: 1.9834710743801653%\n",
      "Percentage Complete: 2.1487603305785123%\n",
      "Percentage Complete: 2.3140495867768593%\n",
      "Percentage Complete: 2.479338842975207%\n",
      "Percentage Complete: 2.644628099173554%\n",
      "Percentage Complete: 2.809917355371901%\n",
      "Percentage Complete: 2.975206611570248%\n",
      "Percentage Complete: 3.1404958677685952%\n",
      "Percentage Complete: 3.3057851239669422%\n",
      "Percentage Complete: 3.4710743801652892%\n",
      "Percentage Complete: 3.6363636363636362%\n",
      "Percentage Complete: 3.8016528925619832%\n",
      "Percentage Complete: 3.9669421487603307%\n",
      "Percentage Complete: 4.132231404958678%\n",
      "Percentage Complete: 4.297520661157025%\n",
      "Percentage Complete: 4.462809917355372%\n",
      "Percentage Complete: 4.628099173553719%\n",
      "Percentage Complete: 4.793388429752066%\n",
      "Percentage Complete: 4.958677685950414%\n",
      "Percentage Complete: 5.12396694214876%\n",
      "Percentage Complete: 5.289256198347108%\n",
      "Percentage Complete: 5.454545454545454%\n",
      "Percentage Complete: 5.619834710743802%\n",
      "Percentage Complete: 5.785123966942149%\n",
      "Percentage Complete: 5.950413223140496%\n",
      "Percentage Complete: 6.115702479338843%\n",
      "Percentage Complete: 6.2809917355371905%\n",
      "Percentage Complete: 6.446280991735537%\n",
      "Percentage Complete: 6.6115702479338845%\n",
      "Percentage Complete: 6.776859504132231%\n",
      "Percentage Complete: 6.9421487603305785%\n",
      "Percentage Complete: 7.107438016528926%\n",
      "Percentage Complete: 7.2727272727272725%\n",
      "Percentage Complete: 7.43801652892562%\n",
      "Percentage Complete: 7.6033057851239665%\n",
      "Percentage Complete: 7.768595041322314%\n",
      "Percentage Complete: 7.933884297520661%\n",
      "Percentage Complete: 8.099173553719009%\n",
      "Percentage Complete: 8.264462809917356%\n",
      "Percentage Complete: 8.429752066115702%\n",
      "Percentage Complete: 8.59504132231405%\n",
      "Percentage Complete: 8.760330578512397%\n",
      "Percentage Complete: 8.925619834710744%\n",
      "Percentage Complete: 9.090909090909092%\n",
      "Percentage Complete: 9.256198347107437%\n",
      "Percentage Complete: 9.421487603305785%\n",
      "Percentage Complete: 9.586776859504132%\n",
      "Percentage Complete: 9.75206611570248%\n",
      "Percentage Complete: 9.917355371900827%\n",
      "Percentage Complete: 10.082644628099173%\n",
      "Percentage Complete: 10.24793388429752%\n",
      "Percentage Complete: 10.413223140495868%\n",
      "Percentage Complete: 10.578512396694215%\n",
      "Percentage Complete: 10.743801652892563%\n",
      "Percentage Complete: 10.909090909090908%\n",
      "Percentage Complete: 11.074380165289256%\n",
      "Percentage Complete: 11.239669421487603%\n",
      "Percentage Complete: 11.40495867768595%\n",
      "Percentage Complete: 11.570247933884298%\n",
      "Percentage Complete: 11.735537190082644%\n",
      "Percentage Complete: 11.900826446280991%\n",
      "Percentage Complete: 12.066115702479339%\n",
      "Percentage Complete: 12.231404958677686%\n",
      "Percentage Complete: 12.396694214876034%\n",
      "Percentage Complete: 12.561983471074381%\n",
      "Percentage Complete: 12.727272727272727%\n",
      "Percentage Complete: 12.892561983471074%\n",
      "Percentage Complete: 13.057851239669422%\n",
      "Percentage Complete: 13.223140495867769%\n",
      "Percentage Complete: 13.388429752066116%\n",
      "Percentage Complete: 13.553719008264462%\n",
      "Percentage Complete: 13.71900826446281%\n",
      "Percentage Complete: 13.884297520661157%\n",
      "Percentage Complete: 14.049586776859504%\n",
      "Percentage Complete: 14.214876033057852%\n",
      "Percentage Complete: 14.380165289256198%\n",
      "Percentage Complete: 14.545454545454545%\n",
      "Percentage Complete: 14.710743801652892%\n",
      "Percentage Complete: 14.87603305785124%\n",
      "Percentage Complete: 15.041322314049587%\n",
      "Percentage Complete: 15.206611570247933%\n",
      "Percentage Complete: 15.37190082644628%\n",
      "Percentage Complete: 15.537190082644628%\n",
      "Percentage Complete: 15.702479338842975%\n",
      "Percentage Complete: 15.867768595041323%\n",
      "Percentage Complete: 16.03305785123967%\n",
      "Percentage Complete: 16.198347107438018%\n",
      "Percentage Complete: 16.363636363636363%\n",
      "Percentage Complete: 16.528925619834713%\n",
      "Percentage Complete: 16.694214876033058%\n",
      "Percentage Complete: 16.859504132231404%\n",
      "Percentage Complete: 17.024793388429753%\n",
      "Percentage Complete: 17.1900826446281%\n",
      "Percentage Complete: 17.355371900826448%\n",
      "Percentage Complete: 17.520661157024794%\n",
      "Percentage Complete: 17.68595041322314%\n",
      "Percentage Complete: 17.85123966942149%\n",
      "Percentage Complete: 18.016528925619834%\n",
      "Percentage Complete: 18.181818181818183%\n",
      "Percentage Complete: 18.34710743801653%\n",
      "Percentage Complete: 18.512396694214875%\n",
      "Percentage Complete: 18.677685950413224%\n",
      "Percentage Complete: 18.84297520661157%\n",
      "Percentage Complete: 19.00826446280992%\n",
      "Percentage Complete: 19.173553719008265%\n",
      "Percentage Complete: 19.33884297520661%\n",
      "Percentage Complete: 19.50413223140496%\n",
      "Percentage Complete: 19.669421487603305%\n",
      "Percentage Complete: 19.834710743801654%\n",
      "Percentage Complete: 20.0%\n",
      "Percentage Complete: 20.165289256198346%\n",
      "Percentage Complete: 20.330578512396695%\n",
      "Percentage Complete: 20.49586776859504%\n",
      "Percentage Complete: 20.66115702479339%\n",
      "Percentage Complete: 20.826446280991735%\n",
      "Percentage Complete: 20.99173553719008%\n",
      "Percentage Complete: 21.15702479338843%\n",
      "Percentage Complete: 21.322314049586776%\n",
      "Percentage Complete: 21.487603305785125%\n",
      "Percentage Complete: 21.65289256198347%\n",
      "Percentage Complete: 21.818181818181817%\n",
      "Percentage Complete: 21.983471074380166%\n",
      "Percentage Complete: 22.14876033057851%\n",
      "Percentage Complete: 22.31404958677686%\n",
      "Percentage Complete: 22.479338842975206%\n",
      "Percentage Complete: 22.644628099173552%\n",
      "Percentage Complete: 22.8099173553719%\n",
      "Percentage Complete: 22.975206611570247%\n",
      "Percentage Complete: 23.140495867768596%\n",
      "Percentage Complete: 23.305785123966942%\n",
      "Percentage Complete: 23.471074380165287%\n",
      "Percentage Complete: 23.636363636363637%\n",
      "Percentage Complete: 23.801652892561982%\n",
      "Percentage Complete: 23.96694214876033%\n",
      "Percentage Complete: 24.132231404958677%\n",
      "Percentage Complete: 24.297520661157023%\n",
      "Percentage Complete: 24.462809917355372%\n",
      "Percentage Complete: 24.628099173553718%\n",
      "Percentage Complete: 24.793388429752067%\n",
      "Percentage Complete: 24.958677685950413%\n",
      "Percentage Complete: 25.123966942148762%\n",
      "Percentage Complete: 25.28925619834711%\n",
      "Percentage Complete: 25.454545454545453%\n",
      "Percentage Complete: 25.6198347107438%\n",
      "Percentage Complete: 25.785123966942148%\n",
      "Percentage Complete: 25.950413223140494%\n",
      "Percentage Complete: 26.115702479338843%\n",
      "Percentage Complete: 26.28099173553719%\n",
      "Percentage Complete: 26.446280991735538%\n",
      "Percentage Complete: 26.611570247933887%\n",
      "Percentage Complete: 26.776859504132233%\n",
      "Percentage Complete: 26.942148760330582%\n",
      "Percentage Complete: 27.107438016528924%\n",
      "Percentage Complete: 27.27272727272727%\n",
      "Percentage Complete: 27.43801652892562%\n",
      "Percentage Complete: 27.603305785123965%\n",
      "Percentage Complete: 27.768595041322314%\n",
      "Percentage Complete: 27.933884297520663%\n",
      "Percentage Complete: 28.09917355371901%\n",
      "Percentage Complete: 28.264462809917358%\n",
      "Percentage Complete: 28.429752066115704%\n",
      "Percentage Complete: 28.595041322314053%\n",
      "Percentage Complete: 28.760330578512395%\n",
      "Percentage Complete: 28.92561983471074%\n",
      "Percentage Complete: 29.09090909090909%\n",
      "Percentage Complete: 29.256198347107436%\n",
      "Percentage Complete: 29.421487603305785%\n",
      "Percentage Complete: 29.586776859504134%\n",
      "Percentage Complete: 29.75206611570248%\n",
      "Percentage Complete: 29.91735537190083%\n",
      "Percentage Complete: 30.082644628099175%\n",
      "Percentage Complete: 30.247933884297524%\n",
      "Percentage Complete: 30.413223140495866%\n",
      "Percentage Complete: 30.57851239669421%\n",
      "Percentage Complete: 30.74380165289256%\n",
      "Percentage Complete: 30.909090909090907%\n",
      "Percentage Complete: 31.074380165289256%\n",
      "Percentage Complete: 31.239669421487605%\n",
      "Percentage Complete: 31.40495867768595%\n",
      "Percentage Complete: 31.5702479338843%\n",
      "Percentage Complete: 31.735537190082646%\n",
      "Percentage Complete: 31.900826446280995%\n",
      "Percentage Complete: 32.06611570247934%\n",
      "Percentage Complete: 32.231404958677686%\n",
      "Percentage Complete: 32.396694214876035%\n",
      "Percentage Complete: 32.56198347107438%\n",
      "Percentage Complete: 32.72727272727273%\n",
      "Percentage Complete: 32.892561983471076%\n",
      "Percentage Complete: 33.057851239669425%\n",
      "Percentage Complete: 33.22314049586777%\n",
      "Percentage Complete: 33.388429752066116%\n",
      "Percentage Complete: 33.553719008264466%\n",
      "Percentage Complete: 33.71900826446281%\n",
      "Percentage Complete: 33.88429752066116%\n",
      "Percentage Complete: 34.049586776859506%\n",
      "Percentage Complete: 34.21487603305785%\n",
      "Percentage Complete: 34.3801652892562%\n",
      "Percentage Complete: 34.54545454545455%\n",
      "Percentage Complete: 34.710743801652896%\n",
      "Percentage Complete: 34.87603305785124%\n",
      "Percentage Complete: 35.04132231404959%\n",
      "Percentage Complete: 35.20661157024794%\n",
      "Percentage Complete: 35.37190082644628%\n",
      "Percentage Complete: 35.53719008264463%\n",
      "Percentage Complete: 35.70247933884298%\n",
      "Percentage Complete: 35.86776859504132%\n",
      "Percentage Complete: 36.03305785123967%\n",
      "Percentage Complete: 36.19834710743802%\n",
      "Percentage Complete: 36.36363636363637%\n",
      "Percentage Complete: 36.52892561983471%\n",
      "Percentage Complete: 36.69421487603306%\n",
      "Percentage Complete: 36.85950413223141%\n",
      "Percentage Complete: 37.02479338842975%\n",
      "Percentage Complete: 37.1900826446281%\n",
      "Percentage Complete: 37.35537190082645%\n",
      "Percentage Complete: 37.52066115702479%\n",
      "Percentage Complete: 37.68595041322314%\n",
      "Percentage Complete: 37.85123966942149%\n",
      "Percentage Complete: 38.01652892561984%\n",
      "Percentage Complete: 38.18181818181819%\n",
      "Percentage Complete: 38.34710743801653%\n",
      "Percentage Complete: 38.51239669421488%\n",
      "Percentage Complete: 38.67768595041322%\n",
      "Percentage Complete: 38.84297520661157%\n",
      "Percentage Complete: 39.00826446280992%\n",
      "Percentage Complete: 39.17355371900826%\n",
      "Percentage Complete: 39.33884297520661%\n",
      "Percentage Complete: 39.50413223140496%\n",
      "Percentage Complete: 39.66942148760331%\n",
      "Percentage Complete: 39.83471074380166%\n",
      "Percentage Complete: 40.0%\n",
      "Percentage Complete: 40.16528925619834%\n",
      "Percentage Complete: 40.33057851239669%\n",
      "Percentage Complete: 40.49586776859504%\n",
      "Percentage Complete: 40.66115702479339%\n",
      "Percentage Complete: 40.82644628099173%\n",
      "Percentage Complete: 40.99173553719008%\n",
      "Percentage Complete: 41.15702479338843%\n",
      "Percentage Complete: 41.32231404958678%\n",
      "Percentage Complete: 41.48760330578513%\n",
      "Percentage Complete: 41.65289256198347%\n",
      "Percentage Complete: 41.81818181818181%\n",
      "Percentage Complete: 41.98347107438016%\n",
      "Percentage Complete: 42.14876033057851%\n",
      "Percentage Complete: 42.31404958677686%\n",
      "Percentage Complete: 42.4793388429752%\n",
      "Percentage Complete: 42.64462809917355%\n",
      "Percentage Complete: 42.8099173553719%\n",
      "Percentage Complete: 42.97520661157025%\n",
      "Percentage Complete: 43.1404958677686%\n",
      "Percentage Complete: 43.30578512396694%\n",
      "Percentage Complete: 43.471074380165284%\n",
      "Percentage Complete: 43.63636363636363%\n",
      "Percentage Complete: 43.80165289256198%\n",
      "Percentage Complete: 43.96694214876033%\n",
      "Percentage Complete: 44.132231404958674%\n",
      "Percentage Complete: 44.29752066115702%\n",
      "Percentage Complete: 44.46280991735537%\n",
      "Percentage Complete: 44.62809917355372%\n",
      "Percentage Complete: 44.79338842975207%\n",
      "Percentage Complete: 44.95867768595041%\n",
      "Percentage Complete: 45.123966942148755%\n",
      "Percentage Complete: 45.289256198347104%\n",
      "Percentage Complete: 45.45454545454545%\n",
      "Percentage Complete: 45.6198347107438%\n",
      "Percentage Complete: 45.78512396694215%\n",
      "Percentage Complete: 45.950413223140494%\n",
      "Percentage Complete: 46.11570247933884%\n",
      "Percentage Complete: 46.28099173553719%\n",
      "Percentage Complete: 46.44628099173554%\n",
      "Percentage Complete: 46.611570247933884%\n",
      "Percentage Complete: 46.776859504132226%\n",
      "Percentage Complete: 46.942148760330575%\n",
      "Percentage Complete: 47.107438016528924%\n",
      "Percentage Complete: 47.27272727272727%\n",
      "Percentage Complete: 47.43801652892562%\n",
      "Percentage Complete: 47.603305785123965%\n",
      "Percentage Complete: 47.768595041322314%\n",
      "Percentage Complete: 47.93388429752066%\n",
      "Percentage Complete: 48.09917355371901%\n",
      "Percentage Complete: 48.264462809917354%\n",
      "Percentage Complete: 48.4297520661157%\n",
      "Percentage Complete: 48.595041322314046%\n",
      "Percentage Complete: 48.760330578512395%\n",
      "Percentage Complete: 48.925619834710744%\n",
      "Percentage Complete: 49.09090909090909%\n",
      "Percentage Complete: 49.256198347107436%\n",
      "Percentage Complete: 49.421487603305785%\n",
      "Percentage Complete: 49.586776859504134%\n",
      "Percentage Complete: 49.75206611570248%\n",
      "Percentage Complete: 49.917355371900825%\n",
      "Percentage Complete: 50.082644628099175%\n",
      "Percentage Complete: 50.247933884297524%\n",
      "Percentage Complete: 50.413223140495866%\n",
      "Percentage Complete: 50.57851239669422%\n",
      "Percentage Complete: 50.743801652892564%\n",
      "Percentage Complete: 50.90909090909091%\n",
      "Percentage Complete: 51.074380165289256%\n",
      "Percentage Complete: 51.2396694214876%\n",
      "Percentage Complete: 51.404958677685954%\n",
      "Percentage Complete: 51.570247933884296%\n",
      "Percentage Complete: 51.735537190082646%\n",
      "Percentage Complete: 51.90082644628099%\n",
      "Percentage Complete: 52.066115702479344%\n",
      "Percentage Complete: 52.231404958677686%\n",
      "Percentage Complete: 52.396694214876035%\n",
      "Percentage Complete: 52.56198347107438%\n",
      "Percentage Complete: 52.72727272727272%\n",
      "Percentage Complete: 52.892561983471076%\n",
      "Percentage Complete: 53.05785123966942%\n",
      "Percentage Complete: 53.223140495867774%\n",
      "Percentage Complete: 53.388429752066116%\n",
      "Percentage Complete: 53.553719008264466%\n",
      "Percentage Complete: 53.71900826446281%\n",
      "Percentage Complete: 53.884297520661164%\n",
      "Percentage Complete: 54.049586776859506%\n",
      "Percentage Complete: 54.21487603305785%\n",
      "Percentage Complete: 54.3801652892562%\n",
      "Percentage Complete: 54.54545454545454%\n",
      "Percentage Complete: 54.710743801652896%\n",
      "Percentage Complete: 54.87603305785124%\n"
     ]
    }
   ],
   "source": [
    "possibleRectangles = []\n",
    "for i in range(1, int(np.sqrt(area)+1)):\n",
    "    if area%i == 0 and i<=height and area//i<=width and i>= 200:\n",
    "        possibleRectangles.append([i,area//i])\n",
    "    if area%i==0 and i<=height and area//i<=width and i>=200:\n",
    "        possibleRectangles.append([area//i,i])\n",
    "possibleRectangles.sort()\n",
    "\n",
    "def findRectangleCoordinates(matrix, N, M):\n",
    "    rows = len(matrix)\n",
    "    cols = len(matrix[0]) if rows > 0 else 0\n",
    "\n",
    "    # Check if the matrix has enough rows for a rectangle of dimension (N, M)\n",
    "    if rows < N or cols < M:\n",
    "        return None  # No rectangle of specified dimensions can exist\n",
    "    print(\"FindRectangleCoordinates\")\n",
    "    for i in range(rows - N + 1):\n",
    "        print(\"Percentage Complete:\",end=\" \")\n",
    "        print(i/(rows-N+1)*100,end=\"\")\n",
    "        print(\"%\")\n",
    "        for j in range(cols - M + 1):\n",
    "            # Check if the submatrix of dimensions (N, M) is filled with 1s\n",
    "            if all(all(matrix[i + x][j + y] == 1 for y in range(M)) for x in range(N)):\n",
    "                # Return the coordinates of the top-left and bottom-right corners\n",
    "                return (i, j, i + N - 1, j + M - 1)\n",
    "\n",
    "    return None  # No rectangle of specified dimensions found\n",
    "numberOfPossibilities = len(possibleRectangles)\n",
    "topleftx = 0\n",
    "toplefty = 0\n",
    "bottomrightx = 0\n",
    "bottomrighty = 0\n",
    "for i in range(numberOfPossibilities):\n",
    "    N = possibleRectangles[i][0]\n",
    "    M = possibleRectangles[i][1]\n",
    "    coordinates = findRectangleCoordinates(amt2,N,M)\n",
    "    if coordinates!=None:\n",
    "        topleftx = coordinates[0]\n",
    "        toplefty = coordinates[1]\n",
    "        bottomrightx = coordinates[2]\n",
    "        bottomrighty = coordinates[3]\n",
    "        break"
   ]
  },
  {
   "cell_type": "code",
   "execution_count": 96,
   "id": "af9d1985",
   "metadata": {},
   "outputs": [],
   "source": [
    "rectangle_color = (0, 255, 0)\n",
    "rt2 = imageWhereINeedToFindRectangle.copy()\n",
    "rotated_image = cv2.rectangle(rt2, (toplefty, topleftx),\n",
    "              (bottomrighty, bottomrightx),\n",
    "              rectangle_color, thickness=1)\n",
    "cv2.imwrite(r\"rectangleMilGaya.jpg\",rotated_image)\n",
    "cv2.imshow('Draw Polygon',rotated_image )\n",
    "cv2.waitKey(0)\n",
    "cv2.destroyAllWindows()"
   ]
  },
  {
   "cell_type": "code",
   "execution_count": 97,
   "id": "967a328b",
   "metadata": {},
   "outputs": [],
   "source": [
    "topLeftx = toplefty\n",
    "topLefty = topleftx\n",
    "bottomRightx = bottomrighty\n",
    "bottomRighty = bottomrightx"
   ]
  },
  {
   "cell_type": "code",
   "execution_count": 98,
   "id": "71d5c7ed",
   "metadata": {},
   "outputs": [],
   "source": [
    "RTL = (topLefty,topLeftx)\n",
    "RTR = (topLefty,bottomRightx)\n",
    "RBR = (bottomRighty,bottomRightx)\n",
    "RBL = (bottomRighty,topLeftx)"
   ]
  },
  {
   "cell_type": "code",
   "execution_count": 99,
   "id": "d16fd803",
   "metadata": {},
   "outputs": [],
   "source": [
    "rt2 = imageWhereINeedToFindRectangle.copy()\n",
    "RED = (0,0,255)\n",
    "BLUE = (255,0,0)\n",
    "GREEN = (0,255,0)\n",
    "YELLOW = (255,255,0)\n",
    "rt2 = cv2.circle(rt2, RTL[::-1], 5, RED , -1)\n",
    "rt2 = cv2.circle(rt2, RTR[::-1], 5, YELLOW , -1)\n",
    "rt2 = cv2.circle(rt2, RBR[::-1], 5, BLUE , -1)\n",
    "rt2 = cv2.circle(rt2, RBL[::-1], 5, GREEN , -1)\n"
   ]
  },
  {
   "cell_type": "code",
   "execution_count": 100,
   "id": "de75a9dc",
   "metadata": {},
   "outputs": [],
   "source": [
    "cv2.imshow('Draw Polygon',rt2 )\n",
    "cv2.waitKey(0)\n",
    "cv2.destroyAllWindows()"
   ]
  },
  {
   "cell_type": "code",
   "execution_count": 101,
   "id": "f22e0eff",
   "metadata": {},
   "outputs": [],
   "source": [
    "firstScreen = cv2.imread(r\"back_to_camera_1.jpg\")\n",
    "secondScreen = cv2.imread(r\"back_to_camera_2.jpg\")\n",
    "cv2.imshow(\"first\",firstScreen)\n",
    "cv2.imshow(\"sec\",secondScreen)\n",
    "cv2.waitKey(0)\n",
    "cv2.destroyAllWindows()"
   ]
  },
  {
   "cell_type": "code",
   "execution_count": 102,
   "id": "1e945873",
   "metadata": {},
   "outputs": [],
   "source": [
    "topLeft1,topRight1,bottomRight1,bottomLeft1 = findCornersOfQuadrilateral(firstScreen)\n",
    "topLeft2,topRight2,bottomRight2,bottomLeft2 = findCornersOfQuadrilateral(secondScreen)"
   ]
  },
  {
   "cell_type": "code",
   "execution_count": 103,
   "id": "17911f7c",
   "metadata": {},
   "outputs": [
    {
     "data": {
      "text/plain": [
       "([332, 259], [320, 1130], [817, 1128], [806, 243])"
      ]
     },
     "execution_count": 103,
     "metadata": {},
     "output_type": "execute_result"
    }
   ],
   "source": [
    "topLeft1,topRight1,bottomRight1,bottomLeft1"
   ]
  },
  {
   "cell_type": "code",
   "execution_count": 104,
   "id": "55ad17dd",
   "metadata": {},
   "outputs": [
    {
     "name": "stdout",
     "output_type": "stream",
     "text": [
      "[332, 259]\n"
     ]
    }
   ],
   "source": [
    "print(topLeft1)"
   ]
  },
  {
   "cell_type": "code",
   "execution_count": 105,
   "id": "29ca9b97",
   "metadata": {},
   "outputs": [
    {
     "data": {
      "text/plain": [
       "[[332, 259], [320, 1130], [817, 1128], [806, 243]]"
      ]
     },
     "execution_count": 105,
     "metadata": {},
     "output_type": "execute_result"
    }
   ],
   "source": [
    "findCornersOfQuadrilateral(firstScreen)"
   ]
  },
  {
   "cell_type": "code",
   "execution_count": 106,
   "id": "26f840c5",
   "metadata": {},
   "outputs": [
    {
     "data": {
      "text/plain": [
       "([321, 990], [308, 1795], [831, 1808], [813, 986])"
      ]
     },
     "execution_count": 106,
     "metadata": {},
     "output_type": "execute_result"
    }
   ],
   "source": [
    "topLeft2,topRight2,bottomRight2,bottomLeft2"
   ]
  },
  {
   "cell_type": "code",
   "execution_count": 107,
   "id": "0b4d0017",
   "metadata": {},
   "outputs": [
    {
     "data": {
      "text/plain": [
       "[[321, 990], [308, 1795], [831, 1808], [813, 986]]"
      ]
     },
     "execution_count": 107,
     "metadata": {},
     "output_type": "execute_result"
    }
   ],
   "source": [
    "[topLeft2,topRight2,bottomRight2,bottomLeft2]"
   ]
  },
  {
   "cell_type": "code",
   "execution_count": 108,
   "id": "7edd20f9",
   "metadata": {},
   "outputs": [],
   "source": [
    "checkTheCorners(firstScreen,[topLeft1,topRight1,bottomRight1,bottomLeft1])"
   ]
  },
  {
   "cell_type": "code",
   "execution_count": 109,
   "id": "c7b2f357",
   "metadata": {},
   "outputs": [],
   "source": [
    "checkTheCorners(secondScreen,[topLeft2,topRight2,bottomRight2,bottomLeft2])"
   ]
  },
  {
   "cell_type": "code",
   "execution_count": 110,
   "id": "5ded2375",
   "metadata": {},
   "outputs": [],
   "source": [
    "def intersection2lines(P1,P2,P3,P4):\n",
    "    m1 = (P2[0]-P1[0])/(P2[1]-P1[1])\n",
    "    m2 = (P4[0]-P3[0])/(P4[1]-P3[1])\n",
    "    b1 = P1[0]-m1*P1[1]\n",
    "    b2 = P3[0]-m2*P3[1]\n",
    "    x = (b2-b1)/(m1-m2)\n",
    "    y = m1*x+b1\n",
    "    return (y,x)"
   ]
  },
  {
   "cell_type": "code",
   "execution_count": 111,
   "id": "30f258df",
   "metadata": {},
   "outputs": [],
   "source": [
    "intersection1 = intersection2lines(topRight1,bottomRight1,topLeft2,topRight2)\n",
    "intersection2 = intersection2lines(bottomRight1,bottomLeft1,topLeft2,bottomLeft2)"
   ]
  },
  {
   "cell_type": "code",
   "execution_count": 112,
   "id": "fbcd04e9",
   "metadata": {},
   "outputs": [],
   "source": [
    "intersection5 = intersection2lines(RBL,RBR,topRight1,bottomRight1)\n",
    "intersection6 = intersection2lines(RBL,RBR,topLeft2,bottomLeft2)\n",
    "intersection3 = (RTL[0],intersection6[1])\n",
    "intersection4 = (RTL[0],intersection5[1])"
   ]
  },
  {
   "cell_type": "code",
   "execution_count": 113,
   "id": "137b46bf",
   "metadata": {},
   "outputs": [],
   "source": [
    "img2 = combained_white.copy()\n",
    "#img2 = cv2.circle(img2,(int(intersection1[1]),int(intersection1[0])),5,(0,0,255),-1)\n",
    "#img2 = cv2.circle(img2,(int(intersection2[1]),int(intersection2[0])),5,(0,255,0),-1)\n",
    "img2 = cv2.rectangle(img2,RTL[::-1],RBR[::-1],(0,0,255),2)\n",
    "img2 = cv2.circle(img2,(int(intersection3[1]),int(intersection3[0])),5,(0,255,0),-1)\n",
    "img2 = cv2.circle(img2,(int(intersection4[1]),int(intersection4[0])),5,(0,255,0),-1)\n",
    "img2 = cv2.circle(img2,(int(intersection5[1]),int(intersection5[0])),5,(0,255,0),-1)\n",
    "img2 = cv2.circle(img2,(int(intersection6[1]),int(intersection6[0])),5,(0,255,0),-1)\n",
    "cv2.imshow(\"img\",img2)\n",
    "cv2.waitKey(0)\n",
    "cv2.destroyAllWindows()"
   ]
  },
  {
   "cell_type": "code",
   "execution_count": 114,
   "id": "c468884e",
   "metadata": {},
   "outputs": [],
   "source": [
    "source1 = [topLeft1,topRight1,bottomRight1,bottomLeft1]\n",
    "destination1 = [RTL,intersection4,intersection5,RBL]\n",
    "\n",
    "source2 = [topLeft2,topRight2,bottomRight2,bottomLeft2]\n",
    "destination2 = [intersection3,RTR,RBR,intersection6]"
   ]
  },
  {
   "cell_type": "code",
   "execution_count": 115,
   "id": "fe6f76cb",
   "metadata": {},
   "outputs": [
    {
     "data": {
      "text/plain": [
       "[(332, 259), (332, 1128.040241448692), (807.0, 1128.040241448692), (807, 259)]"
      ]
     },
     "execution_count": 115,
     "metadata": {},
     "output_type": "execute_result"
    }
   ],
   "source": [
    "destination1"
   ]
  },
  {
   "cell_type": "code",
   "execution_count": 116,
   "id": "ec35d7fb",
   "metadata": {},
   "outputs": [
    {
     "data": {
      "text/plain": [
       "[(332, 986.0487804878048),\n",
       " (332, 1796),\n",
       " (807, 1796),\n",
       " (807.0, 986.0487804878048)]"
      ]
     },
     "execution_count": 116,
     "metadata": {},
     "output_type": "execute_result"
    }
   ],
   "source": [
    "destination2"
   ]
  },
  {
   "cell_type": "code",
   "execution_count": 117,
   "id": "cc2642d5",
   "metadata": {},
   "outputs": [
    {
     "data": {
      "text/plain": [
       "93"
      ]
     },
     "execution_count": 117,
     "metadata": {},
     "output_type": "execute_result"
    }
   ],
   "source": [
    "1084-991"
   ]
  },
  {
   "cell_type": "code",
   "execution_count": 118,
   "id": "caf36501",
   "metadata": {},
   "outputs": [],
   "source": [
    "combained_new=combained_white.copy()\n",
    "cv2.circle(combained_new,source1[0][::-1],5,(0,0,255),-1)\n",
    "cv2.circle(combained_new,source1[1][::-1],5,(0,0,255),-1)\n",
    "cv2.circle(combained_new,source1[2][::-1],5,(0,0,255),-1)\n",
    "cv2.circle(combained_new,source1[3][::-1],5,(0,0,255),-1)\n",
    "\n",
    "cv2.circle(combained_new,source2[0][::-1],5,(0,0,255),-1)\n",
    "cv2.circle(combained_new,source2[1][::-1],5,(0,0,255),-1)\n",
    "cv2.circle(combained_new,source2[2][::-1],5,(0,0,255),-1)\n",
    "cv2.circle(combained_new,source2[3][::-1],5,(0,0,255),-1)\n",
    "\n",
    "cv2.circle(combained_new,(int(destination1[0][1]),int(destination1[0][0])),5,(0,255,0),-1)\n",
    "cv2.circle(combained_new,(int(destination1[1][1]),int(destination1[1][0])),5,(0,255,0),-1)\n",
    "cv2.circle(combained_new,(int(destination1[2][1]),int(destination1[2][0])),5,(0,255,0),-1)\n",
    "cv2.circle(combained_new,(int(destination1[3][1]),int(destination1[3][0])),5,(0,255,0),-1)\n",
    "\n",
    "cv2.circle(combained_new,(int(destination2[0][1]),int(destination2[0][0])),5,(0,255,0),-1)\n",
    "cv2.circle(combained_new,(int(destination2[1][1]),int(destination2[1][0])),5,(0,255,0),-1)\n",
    "cv2.circle(combained_new,(int(destination2[2][1]),int(destination2[2][0])),5,(0,255,0),-1)\n",
    "cv2.circle(combained_new,(int(destination2[3][1]),int(destination2[3][0])),5,(0,255,0),-1)\n",
    "\n",
    "cv2.imshow(\"combained_new\",combained_new)\n",
    "cv2.waitKey(0)\n",
    "cv2.destroyAllWindows()\n"
   ]
  },
  {
   "cell_type": "code",
   "execution_count": 119,
   "id": "af8d440a",
   "metadata": {},
   "outputs": [
    {
     "data": {
      "text/plain": [
       "[(332, 259), (332, 1128.040241448692), (807.0, 1128.040241448692), (807, 259)]"
      ]
     },
     "execution_count": 119,
     "metadata": {},
     "output_type": "execute_result"
    }
   ],
   "source": [
    "destination1"
   ]
  },
  {
   "cell_type": "code",
   "execution_count": 120,
   "id": "b57d868b",
   "metadata": {},
   "outputs": [
    {
     "data": {
      "text/plain": [
       "[[332, 259], [320, 1130], [817, 1128], [806, 243]]"
      ]
     },
     "execution_count": 120,
     "metadata": {},
     "output_type": "execute_result"
    }
   ],
   "source": [
    "source1"
   ]
  },
  {
   "cell_type": "code",
   "execution_count": 121,
   "id": "5a79c804",
   "metadata": {},
   "outputs": [
    {
     "data": {
      "text/plain": [
       "array([[ 259,  332],\n",
       "       [1130,  320],\n",
       "       [1128,  817],\n",
       "       [ 243,  806]])"
      ]
     },
     "execution_count": 121,
     "metadata": {},
     "output_type": "execute_result"
    }
   ],
   "source": [
    "source_1=np.array([source1[0][::-1],source1[1][::-1],source1[2][::-1],source1[3][::-1]])\n",
    "source_1"
   ]
  },
  {
   "cell_type": "code",
   "execution_count": 122,
   "id": "3c5c5eab",
   "metadata": {},
   "outputs": [
    {
     "data": {
      "text/plain": [
       "array([[ 990,  321],\n",
       "       [1795,  308],\n",
       "       [1808,  831],\n",
       "       [ 986,  813]])"
      ]
     },
     "execution_count": 122,
     "metadata": {},
     "output_type": "execute_result"
    }
   ],
   "source": [
    "source_2=np.array([source2[0][::-1],source2[1][::-1],source2[2][::-1],source2[3][::-1]])\n",
    "source_2"
   ]
  },
  {
   "cell_type": "code",
   "execution_count": 123,
   "id": "e7e2b2bf",
   "metadata": {},
   "outputs": [],
   "source": [
    "Rect_screen_1=np.array([[int(destination1[0][1]),int(destination1[0][0])],[int(destination1[1][1]),int(destination1[1][0])],\n",
    "                        [int(destination1[2][1]),int(destination1[2][0])],[int(destination1[3][1]),int(destination1[3][0])]])\n",
    "\n",
    "\n",
    "Rect_screen_2=np.array([[int(destination2[0][1]),int(destination2[0][0])],[int(destination2[1][1]),int(destination2[1][0])],\n",
    "                        [int(destination2[2][1]),int(destination2[2][0])],[int(destination2[3][1]),int(destination2[3][0])]])\n"
   ]
  },
  {
   "cell_type": "code",
   "execution_count": 124,
   "id": "d501f7d3",
   "metadata": {},
   "outputs": [
    {
     "data": {
      "text/plain": [
       "array([[ 259,  332],\n",
       "       [1128,  332],\n",
       "       [1128,  807],\n",
       "       [ 259,  807]])"
      ]
     },
     "execution_count": 124,
     "metadata": {},
     "output_type": "execute_result"
    }
   ],
   "source": [
    "Rect_screen_1"
   ]
  },
  {
   "cell_type": "code",
   "execution_count": 125,
   "id": "8629fbbc",
   "metadata": {},
   "outputs": [
    {
     "data": {
      "text/plain": [
       "array([[ 986,  332],\n",
       "       [1796,  332],\n",
       "       [1796,  807],\n",
       "       [ 986,  807]])"
      ]
     },
     "execution_count": 125,
     "metadata": {},
     "output_type": "execute_result"
    }
   ],
   "source": [
    "Rect_screen_2"
   ]
  },
  {
   "cell_type": "code",
   "execution_count": 126,
   "id": "e0ac75ce",
   "metadata": {},
   "outputs": [
    {
     "data": {
      "text/plain": [
       "array([[ 259,  332],\n",
       "       [1130,  320],\n",
       "       [1128,  817],\n",
       "       [ 243,  806]])"
      ]
     },
     "execution_count": 126,
     "metadata": {},
     "output_type": "execute_result"
    }
   ],
   "source": [
    "source_1"
   ]
  },
  {
   "cell_type": "code",
   "execution_count": 127,
   "id": "140868e1",
   "metadata": {},
   "outputs": [
    {
     "data": {
      "text/plain": [
       "array([[ 990,  321],\n",
       "       [1795,  308],\n",
       "       [1808,  831],\n",
       "       [ 986,  813]])"
      ]
     },
     "execution_count": 127,
     "metadata": {},
     "output_type": "execute_result"
    }
   ],
   "source": [
    "source_2"
   ]
  },
  {
   "cell_type": "code",
   "execution_count": 128,
   "id": "2c19aa7b",
   "metadata": {},
   "outputs": [],
   "source": [
    "H_screen_1_R=cv2.getPerspectiveTransform(np.float32(source_1),np.float32(Rect_screen_1))\n",
    "\n",
    "H_screen_2_R=cv2.getPerspectiveTransform(np.float32(source_2),np.float32(Rect_screen_2))"
   ]
  },
  {
   "cell_type": "code",
   "execution_count": 129,
   "id": "b642aa32",
   "metadata": {},
   "outputs": [],
   "source": [
    "cv2.imshow(r'wr_1',cv2.warpPerspective(cv2.imread(r'blended_screen_1.jpg'),np.linalg.inv(H_1_C),(1920,1080)))\n",
    "cv2.imshow(r'wr_2',cv2.warpPerspective(cv2.imread(r'blended_screen_2.jpg'),np.linalg.inv(H_2_C),(1920,1080)))\n",
    "\n",
    "cv2.waitKey(0)\n",
    "cv2.destroyAllWindows()"
   ]
  },
  {
   "cell_type": "code",
   "execution_count": 130,
   "id": "eed2bdd2",
   "metadata": {},
   "outputs": [],
   "source": [
    "blend_back_to_camera_1=cv2.warpPerspective(cv2.imread(r'blended_screen_1.jpg'),np.linalg.inv(H_1_C),(1920,1080))\n",
    "blend_back_to_camera_2=cv2.warpPerspective(cv2.imread(r'blended_screen_2.jpg'),np.linalg.inv(H_2_C),(1920,1080))"
   ]
  },
  {
   "cell_type": "code",
   "execution_count": 131,
   "id": "812b3ad5",
   "metadata": {},
   "outputs": [],
   "source": [
    "back_camera_1=cv2.imread(r'back_to_camera_1.jpg')\n",
    "back_camera_2=cv2.imread(r'back_to_camera_2.jpg')"
   ]
  },
  {
   "cell_type": "code",
   "execution_count": 132,
   "id": "70fc4906",
   "metadata": {},
   "outputs": [],
   "source": [
    "cv2.imshow(r'wr_1',cv2.warpPerspective(back_camera_1,H_screen_1_R,(1920,1080)))\n",
    "cv2.imshow(r'wr_2',cv2.warpPerspective(back_camera_2,H_screen_2_R,(1920,1080)))\n",
    "\n",
    "cv2.waitKey(0)\n",
    "cv2.destroyAllWindows()"
   ]
  },
  {
   "cell_type": "code",
   "execution_count": 133,
   "id": "57f0a004",
   "metadata": {},
   "outputs": [],
   "source": [
    "rect_1=cv2.warpPerspective(back_camera_1,H_screen_1_R,(1920,1080))\n",
    "rect_2=cv2.warpPerspective(back_camera_2,H_screen_2_R,(1920,1080))\n"
   ]
  },
  {
   "cell_type": "code",
   "execution_count": 134,
   "id": "e82216f7",
   "metadata": {},
   "outputs": [],
   "source": [
    "cv2.imshow(\"rect_1\",rect_1)\n",
    "cv2.imshow(\"rect_2\",rect_2)\n",
    "cv2.waitKey(0)\n",
    "cv2.destroyAllWindows()"
   ]
  },
  {
   "cell_type": "code",
   "execution_count": 135,
   "id": "facadd80",
   "metadata": {},
   "outputs": [],
   "source": [
    "weights=np.zeros_like(cv2.cvtColor(back_camera_1,cv2.COLOR_BGR2GRAY))\n",
    "weights=np.float64(weights)\n",
    "for i in range(0,1080):\n",
    "    for j in range(0,1920):\n",
    "        U=i/1080\n",
    "        V=j/1920 \n",
    "        weights[i,j]=min(U,1-U,V,1-V)"
   ]
  },
  {
   "cell_type": "code",
   "execution_count": 136,
   "id": "0429145c",
   "metadata": {},
   "outputs": [],
   "source": [
    "###########################rect_weights#####################\n",
    "wgts=weights.copy()\n",
    "cv2.imshow(\"weights\",wgts)\n",
    "cv2.imshow(\"weights_screen_1\",cv2.warpPerspective(wgts,np.linalg.inv(H_1_C),(1920,1080)))\n",
    "wgts_screen_1=cv2.warpPerspective(wgts,np.linalg.inv(H_1_C),(1920,1080))\n",
    "cv2.imshow(r'weights_screen_rect',cv2.warpPerspective(wgts_screen_1,H_screen_1_R,(1920,1080)))\n",
    "wgts_screen_1_rect=cv2.warpPerspective(wgts_screen_1,H_screen_1_R,(1920,1080))\n",
    "cv2.imshow(r'wgts_rect_screen_1',cv2.warpPerspective(wgts_screen_1_rect,H_1_C,(1920,1080)))\n",
    "wgts_screen_1_back=cv2.warpPerspective(wgts_screen_1_rect,H_1_C,(1920,1080))\n",
    "cv2.waitKey(0)\n",
    "cv2.destroyAllWindows()"
   ]
  },
  {
   "cell_type": "code",
   "execution_count": 137,
   "id": "1c70ad4f",
   "metadata": {},
   "outputs": [],
   "source": [
    "wgts=weights.copy()\n",
    "cv2.imshow(\"weights\",wgts)\n",
    "cv2.imshow(\"weights_screen_2\",cv2.warpPerspective(wgts,np.linalg.inv(H_2_C),(1920,1080)))\n",
    "wgts_screen_2=cv2.warpPerspective(wgts,np.linalg.inv(H_2_C),(1920,1080))\n",
    "cv2.imshow(r'weights_screen_rect',cv2.warpPerspective(wgts_screen_1,H_screen_2_R,(1920,1080)))\n",
    "wgts_screen_2_rect=cv2.warpPerspective(wgts_screen_2,H_screen_2_R,(1920,1080))\n",
    "cv2.imshow(r'wgts_rect_screen_2',cv2.warpPerspective(wgts_screen_2_rect,H_2_C,(1920,1080)))\n",
    "wgts_screen_2_back=cv2.warpPerspective(wgts_screen_2_rect,H_1_C,(1920,1080))\n",
    "cv2.waitKey(0)\n",
    "cv2.destroyAllWindows()"
   ]
  },
  {
   "cell_type": "code",
   "execution_count": 138,
   "id": "495e663d",
   "metadata": {},
   "outputs": [],
   "source": [
    "cv2.imshow(r'rect_1',rect_1)\n",
    "cv2.imshow(r'rect_2',rect_2)\n",
    "cv2.imshow(r'opp_rect',cv2.bitwise_or(rect_1,rect_2,mask=None))\n",
    "cv2.imshow(r'blend_gap',cv2.bitwise_and(rect_1,rect_2,mask=None))\n",
    "blend_white_rect=cv2.bitwise_and(rect_1,rect_2,mask=None)\n",
    "cv2.imshow(r'bled_screen_1',cv2.warpPerspective(blend_white_rect,H_1_C,(1920,1080)))\n",
    "cv2.imshow(r'bled_screen_2',cv2.warpPerspective(blend_white_rect,H_2_C,(1920,1080)))\n",
    "blend_white_rect_back_1=cv2.warpPerspective(blend_white_rect,H_1_C,(1920,1080))\n",
    "blend_white_rect_back_2=cv2.warpPerspective(blend_white_rect,H_2_C,(1920,1080))\n",
    "\n",
    "cv2.waitKey(0)\n",
    "cv2.destroyAllWindows()"
   ]
  },
  {
   "cell_type": "code",
   "execution_count": 139,
   "id": "7ff390c7",
   "metadata": {},
   "outputs": [
    {
     "data": {
      "text/plain": [
       "((1080, 1920, 3), (1080, 1920))"
      ]
     },
     "execution_count": 139,
     "metadata": {},
     "output_type": "execute_result"
    }
   ],
   "source": [
    "blend_white_rect_back_1.shape,weights.shape"
   ]
  },
  {
   "cell_type": "code",
   "execution_count": 140,
   "id": "731b1729",
   "metadata": {},
   "outputs": [],
   "source": [
    "cv2.imshow(r'R_w_1',cv2.warpPerspective(rect_1,H_1_C,(1920,1080)))\n",
    "cv2.imshow(r'R_w_2',cv2.warpPerspective(rect_2,H_2_C,(1920,1080)))\n",
    "#cv2.imshow(r'blend_white_rect_back_1',blend_white_rect_back_1)\n",
    "#cv2.imshow(r'blend_white_rect_back_2',blend_white_rect_back_2)\n",
    "\n",
    "\n",
    "cv2.waitKey(0)\n",
    "cv2.destroyAllWindows()"
   ]
  },
  {
   "cell_type": "code",
   "execution_count": 141,
   "id": "564ce9fc",
   "metadata": {},
   "outputs": [
    {
     "data": {
      "text/plain": [
       "True"
      ]
     },
     "execution_count": 141,
     "metadata": {},
     "output_type": "execute_result"
    }
   ],
   "source": [
    "cv2.imwrite(r'rect_screen_1.jpg',cv2.warpPerspective(rect_1,H_1_C,(1920,1080)))\n",
    "cv2.imwrite(r'rect_screen_2.jpg',cv2.warpPerspective(rect_2,H_2_C,(1920,1080)))"
   ]
  },
  {
   "cell_type": "code",
   "execution_count": 142,
   "id": "ffa47ef0",
   "metadata": {},
   "outputs": [],
   "source": [
    "pts_screen_1=np.argwhere(cv2.cvtColor(blend_white_rect_back_1,cv2.COLOR_BGR2GRAY)!=0)\n",
    "\n",
    "pts_screen_2=np.argwhere(cv2.cvtColor(blend_white_rect_back_1,cv2.COLOR_BGR2GRAY)!=0)\n",
    "\n"
   ]
  },
  {
   "cell_type": "code",
   "execution_count": 143,
   "id": "bdc2e11e",
   "metadata": {},
   "outputs": [],
   "source": [
    "H_new_rect=H_screen_1_R@np.linalg.inv(H_1_C)\n",
    "WTY=np.zeros([1080,1920])+255\n",
    "\n",
    "cv2.imshow(\"screen_1\",cv2.warpPerspective(WTY,H_1_C@np.linalg.inv(H_2_C),(1920,1080)))\n",
    "cv2.imshow(\"ascac\",cv2.warpPerspective(WTY,H_1_C@H_screen_2_R@np.linalg.inv(H_2_C),(1920,1080)))\n",
    "#PPPP=cv2.warpPerspective(WTY,H_screen_1_R@np.linalg.inv(H_1_C),(1920,1080))\n",
    "#cv2.imshow(\"op\",cv2.warpPerspective(PPPP,H_2_C,(1920,1080)))\n",
    "cv2.imshow(\"ascac2\",cv2.warpPerspective(WTY,H_2_C@H_screen_1_R@np.linalg.inv(H_1_C),(1920,1080)))\n",
    "\n",
    "\n",
    "#op=cv2.warpPerspective(WTY,np.linalg.inv(H_1_C),(1920,1080))\n",
    "#cv2.imshow(\"vcdasvcasd\",cv2.warpPerspective(op,H_screen_1_R,(1920,1080)))\n",
    "\n",
    "#OPPPP=cv2.warpPerspective(op,H_screen_1_R,(1920,1080))\n",
    "#cv2.imshow(\"vcdasvcasd\",cv2.warpPerspective(OPPPP,H_1_C,(1920,1080)))\n",
    "\n",
    "\n",
    "cv2.waitKey(0)\n",
    "cv2.destroyAllWindows()"
   ]
  },
  {
   "cell_type": "code",
   "execution_count": 144,
   "id": "22ab42f3",
   "metadata": {},
   "outputs": [
    {
     "data": {
      "text/plain": [
       "array([  20, 1682], dtype=int64)"
      ]
     },
     "execution_count": 144,
     "metadata": {},
     "output_type": "execute_result"
    }
   ],
   "source": [
    "pts_screen_1[0]"
   ]
  },
  {
   "cell_type": "code",
   "execution_count": 145,
   "id": "f6a5c498",
   "metadata": {},
   "outputs": [],
   "source": [
    "H_RECT_1_2=H_1_C@H_screen_2_R@np.linalg.inv(H_2_C)\n",
    "H_RECT_2_1=H_2_C@H_screen_1_R@np.linalg.inv(H_1_C)"
   ]
  },
  {
   "cell_type": "code",
   "execution_count": 146,
   "id": "03cffaf3",
   "metadata": {},
   "outputs": [],
   "source": [
    "w=np.zeros([1080,1920])+255\n",
    "cv2.imshow(\"w\",cv2.warpPerspective(w,np.linalg.inv(H_1_C),(1920,1080)))\n",
    "ww=cv2.warpPerspective(w,np.linalg.inv(H_1_C),(1920,1080))\n",
    "cv2.imshow(\"WWW\",cv2.warpPerspective(ww,H_2_C,(1920,1080)))\n",
    "\n",
    "cv2.waitKey(0)\n",
    "cv2.destroyAllWindows()"
   ]
  },
  {
   "cell_type": "code",
   "execution_count": 147,
   "id": "6c3d5e7f",
   "metadata": {},
   "outputs": [],
   "source": [
    "dummy=np.zeros([blend_white_rect_back_1.shape[0]*2,blend_white_rect_back_1 .shape[1]*2,3])\n",
    "dummy_2=np.zeros_like(dummy)\n",
    "dummy_3=np.zeros([blend_white_rect_back_2.shape[0]*2,blend_white_rect_back_2.shape[1]*2,3])\n",
    "dummy_4=np.zeros_like(dummy_2)\n",
    "PTS_CORR_2={}\n",
    "c=0\n",
    "c_1=0\n",
    "c_2=0\n",
    "cc=0\n",
    "PTS_CORR={}\n",
    "\n",
    "\n",
    "for point in pts_screen_1:\n",
    "    vaal=H_RECT_1_2@np.array([[point[1]],[point[0]],[1]])\n",
    "    vaal/=vaal[-1]\n",
    "    #print(point,\"point_corres_is\",vaal)\n",
    "    PTS_CORR[point[1],point[0]]=(np.abs(int(vaal[0])),np.abs(int(vaal[1])))\n",
    "    dummy[int(vaal[1]),int(vaal[0]),:]=255\n",
    "    c+=1\n",
    "    if (vaal[0]>0) and (vaal[1]>0):\n",
    "        c_1+=1\n",
    "        dummy_2[int(vaal[1]),int(vaal[0]),:]=255\n",
    "\n",
    "\n",
    "for pt in pts_screen_2:\n",
    "    vaal=H_RECT_2_1@np.array([[pt[1]],[pt[0]],[1]])\n",
    "    vaal/=vaal[-1]\n",
    "    #print(pt,\"point_corres_is\",vaal)\n",
    "        \n",
    "    dummy_3[int(vaal[1]),int(vaal[0]),:]=255\n",
    "    \n",
    "    #dummy_4[int(vaal[1]),int(vaal[0]),:]=255\n",
    "    \n",
    "    PTS_CORR_2[pt[1],pt[0]]=(np.abs(int(vaal[0])),np.abs(int(vaal[1])))\n",
    "    \n",
    "    cc+=1\n",
    "    if(vaal[0]>1080) and (vaal[1]>1920):\n",
    "        c_2+=0\n",
    "        dummy_3[int(vaal[1]),int(vaal[0]),:]=255\n",
    "             "
   ]
  },
  {
   "cell_type": "code",
   "execution_count": 148,
   "id": "734bb0aa",
   "metadata": {},
   "outputs": [],
   "source": [
    "cv2.imshow(\"dummy_2\",dummy_2)\n",
    "cv2.imshow(\"dummy_3\",dummy_3)\n",
    "cv2.waitKey(0)\n",
    "cv2.destroyAllWindows()"
   ]
  },
  {
   "cell_type": "code",
   "execution_count": 149,
   "id": "d87bf339",
   "metadata": {},
   "outputs": [],
   "source": [
    "unique_values = set()\n",
    "\n",
    "# Create a new dictionary without duplicate values\n",
    "filtered_dict = {}\n",
    "for key, value in PTS_CORR.items():\n",
    "    if value not in unique_values:\n",
    "        filtered_dict[key] = value\n",
    "        unique_values.add(value)\n",
    "\n",
    "#print(filtered_dict)"
   ]
  },
  {
   "cell_type": "code",
   "execution_count": 150,
   "id": "52df4a6c",
   "metadata": {},
   "outputs": [],
   "source": [
    "unique_values_2 = set()\n",
    "\n",
    "# Create a new dictionary without duplicate values\n",
    "filtered_dict_2= {}\n",
    "for key, value in PTS_CORR_2.items():\n",
    "    if value not in unique_values_2:\n",
    "        filtered_dict_2[key] = value\n",
    "        unique_values_2.add(value)\n",
    "\n",
    "#print(filtered_dict_2)"
   ]
  },
  {
   "cell_type": "code",
   "execution_count": 151,
   "id": "6c63f233",
   "metadata": {},
   "outputs": [
    {
     "name": "stdout",
     "output_type": "stream",
     "text": [
      "0\n",
      "0\n"
     ]
    }
   ],
   "source": [
    "filter_dict_1={key:value for key,value in filtered_dict.items() if value[0]<=1919}\n",
    "print(len(filter_dict_1))\n",
    "filter_dict_1={key:value for key,value in filter_dict_1.items() if value[1]<=1079}\n",
    "print(len(filter_dict_1))"
   ]
  },
  {
   "cell_type": "code",
   "execution_count": 152,
   "id": "efdf05a2",
   "metadata": {},
   "outputs": [
    {
     "name": "stdout",
     "output_type": "stream",
     "text": [
      "0\n",
      "0\n"
     ]
    }
   ],
   "source": [
    "filter_dict_1={key:value for key,value in filtered_dict.items() if value[0]<=1919}\n",
    "print(len(filter_dict_1))\n",
    "filter_dict_1={key:value for key,value in filter_dict_1.items() if value[1]<=1079}\n",
    "print(len(filter_dict_1))"
   ]
  },
  {
   "cell_type": "code",
   "execution_count": 153,
   "id": "32ded2e4",
   "metadata": {},
   "outputs": [],
   "source": [
    "new_dict = {key: value for key, value in filtered_dict_2.items() if value[0] <= 1919}\n",
    "new_dict = {key: value for key, value in new_dict.items() if value[1] <= 1079}"
   ]
  },
  {
   "cell_type": "code",
   "execution_count": 154,
   "id": "0f45fe86",
   "metadata": {},
   "outputs": [],
   "source": [
    "ble_1=np.zeros_like(blen_in_proj_1_dec_14)+1\n",
    "ble_2=np.zeros_like(blen_in_proj_1_dec_14)+1\n",
    "ble_1=np.float32(ble_1)\n",
    "ble_2=np.float32(ble_2)"
   ]
  },
  {
   "cell_type": "code",
   "execution_count": 155,
   "id": "95f09cb8",
   "metadata": {},
   "outputs": [],
   "source": [
    "ble_1_2=np.zeros_like(blen_in_proj_1_dec_14)+1\n",
    "ble_2_2=np.zeros_like(blen_in_proj_1_dec_14)+1\n",
    "ble_1_2=np.float32(ble_1_2)\n",
    "ble_2_2=np.float32(ble_2_2)"
   ]
  },
  {
   "cell_type": "code",
   "execution_count": 156,
   "id": "b32caaca",
   "metadata": {},
   "outputs": [],
   "source": [
    "count_half_1=0\n",
    "for kys,vls in filter_dict_1.items():\n",
    "    V_1=weights[kys[1],kys[0]]\n",
    "    V_2=weights[vls[1],vls[0]]\n",
    "    if V_1==0 and V_2==0:\n",
    "        count_half_1+=0 \n",
    "        WT_1=0.5\n",
    "        WT_2=0.5\n",
    "        count_half_1+=1\n",
    "    else:\n",
    "        WT_1=(1.0)*V_1/(V_1+V_2)\n",
    "        WT_2=V_2/(V_1+V_2)\n",
    "    ble_1[kys[1],kys[0],:]=WT_1\n",
    "    ble_2[vls[1],vls[0],:]=WT_2\n",
    "    "
   ]
  },
  {
   "cell_type": "code",
   "execution_count": 157,
   "id": "33b66727",
   "metadata": {},
   "outputs": [],
   "source": [
    "\n",
    "count_half_2=0\n",
    "for kys,vls in new_dict.items():\n",
    "    V_1=weights[kys[1],kys[0]]\n",
    "    V_2=weights[vls[1],vls[0]]\n",
    "    if V_1==0 and V_2==0:\n",
    "        count_half_2+=1\n",
    "        WT_1=0.5\n",
    "        WT_2=0.5\n",
    "    else:\n",
    "        WT_1=(1.0)*V_1/(V_1+V_2)\n",
    "        WT_2=V_1/(V_1+V_2)\n",
    "    ble_1_2[kys[1],kys[0],:]=WT_1\n",
    "    ble_2_2[vls[1],vls[0],:]=WT_2\n",
    "\n",
    "#count_half_1,count_half_2    "
   ]
  },
  {
   "cell_type": "code",
   "execution_count": 158,
   "id": "1fc7a785",
   "metadata": {},
   "outputs": [],
   "source": [
    "cv2.imshow(\"ble_1\",ble_1)\n",
    "cv2.imshow(\"ble_2\",ble_2_2)\n",
    "cv2.waitKey(0)\n",
    "cv2.destroyAllWindows()"
   ]
  },
  {
   "cell_type": "code",
   "execution_count": 159,
   "id": "dff27fcf",
   "metadata": {},
   "outputs": [],
   "source": [
    "cv2.imshow(\"ble_1\",ble_2)\n",
    "cv2.imshow(\"ble_2\",ble_1_2)\n",
    "cv2.waitKey(0)\n",
    "cv2.destroyAllWindows()"
   ]
  },
  {
   "cell_type": "code",
   "execution_count": 160,
   "id": "5d431c88",
   "metadata": {},
   "outputs": [],
   "source": [
    "cv2.imshow(\"ble_1\",(remove_pixel_HOR_VER(remove_pixel_HOR_VER(ble_2_2))))\n",
    "\n",
    "\n",
    "#cv2.imshow(\"ble_2\",remove_pixel_HOR_VER(ble_1_2))\n",
    "#cv2.imshow(\"ble_H\",remove_pixel_HOR_VER(remove_pixel_HOR_VER(ble_1_2)))\n",
    "\n",
    "cv2.imshow(\"ble_H_H\",remove_pixel_HOR_VER(remove_pixel_HOR_VER(remove_pixel_HOR_VER(remove_pixel_HOR_VER(remove_pixel_HOR_VER(ble_1_2))))))\n",
    "\n",
    "cv2.waitKey(0)\n",
    "cv2.destroyAllWindows()"
   ]
  },
  {
   "cell_type": "raw",
   "id": "5cd3f1df",
   "metadata": {},
   "source": [
    "b=remove_pixel_HOR_VER(remove_pixel_HOR_VER(ble_2_2))\n",
    "r=rect_1_warp.astype(np.float32)"
   ]
  },
  {
   "cell_type": "raw",
   "id": "ecea876d",
   "metadata": {},
   "source": [
    "cv2.imshow(\"b\",b)\n",
    "cv2.imshow(\"r\",r)\n",
    "cv2.waitKey(0)\n",
    "cv2.destroyAllWindows()"
   ]
  },
  {
   "cell_type": "code",
   "execution_count": 161,
   "id": "a27f8db2",
   "metadata": {},
   "outputs": [],
   "source": [
    "rect_1_warp=cv2.warpPerspective(rect_1,H_1_C,(1920,1080))\n",
    "rect_2_warp=cv2.warpPerspective(rect_2,H_2_C,(1920,1080))\n",
    "\n",
    "\n",
    "cv2.imshow(\"rect_1\",cv2.bitwise_or(rect_1_warp,remove_pixel_HOR_VER(remove_pixel_HOR_VER(ble_2_2)).astype(np.uint8),mask=None))\n",
    "\n",
    "\n",
    "#cv2.imshow(\"rect_2\",blend_white_rect_back_2)\n",
    "cv2.waitKey(0)\n",
    "cv2.destroyAllWindows()"
   ]
  },
  {
   "cell_type": "code",
   "execution_count": 162,
   "id": "c66e03e3",
   "metadata": {},
   "outputs": [
    {
     "data": {
      "text/plain": [
       "(dtype('uint8'), dtype('float32'))"
      ]
     },
     "execution_count": 162,
     "metadata": {},
     "output_type": "execute_result"
    }
   ],
   "source": [
    "rect_1_warp.dtype,ble_2_2.dtype"
   ]
  },
  {
   "cell_type": "code",
   "execution_count": 163,
   "id": "3d7cf198",
   "metadata": {},
   "outputs": [
    {
     "data": {
      "text/plain": [
       "((1080, 1920, 3), (1080, 1920, 3))"
      ]
     },
     "execution_count": 163,
     "metadata": {},
     "output_type": "execute_result"
    }
   ],
   "source": [
    "rect_1_warp.shape,ble_2_2.shape"
   ]
  },
  {
   "cell_type": "code",
   "execution_count": 164,
   "id": "f1f1c95d",
   "metadata": {},
   "outputs": [
    {
     "data": {
      "text/plain": [
       "True"
      ]
     },
     "execution_count": 164,
     "metadata": {},
     "output_type": "execute_result"
    }
   ],
   "source": [
    "cv2.imwrite(\"rect_1_1920_1080.jpg\",cv2.warpPerspective(rect_1,H_1_C,(1920,1080)))\n",
    "cv2.imwrite(\"rect_2_1920_1080.jpg\",cv2.warpPerspective(rect_2,H_2_C,(1920,1080)))"
   ]
  },
  {
   "cell_type": "code",
   "execution_count": 172,
   "id": "c8cb8a26",
   "metadata": {},
   "outputs": [
    {
     "data": {
      "text/plain": [
       "[[1, 1], [27, 1914], [1057, 1918], [1079, 37]]"
      ]
     },
     "execution_count": 172,
     "metadata": {},
     "output_type": "execute_result"
    }
   ],
   "source": [
    "findCornersOfQuadrilateral(cv2.imread(r'rect_1_1920_1080.jpg'))"
   ]
  },
  {
   "cell_type": "code",
   "execution_count": 173,
   "id": "56edb725",
   "metadata": {},
   "outputs": [
    {
     "data": {
      "text/plain": [
       "[[25, 0], [51, 1919], [1030, 1893], [1066, 0]]"
      ]
     },
     "execution_count": 173,
     "metadata": {},
     "output_type": "execute_result"
    }
   ],
   "source": [
    "findCornersOfQuadrilateral(cv2.imread(r'rect_2_1920_1080.jpg'))"
   ]
  },
  {
   "cell_type": "code",
   "execution_count": 170,
   "id": "0ee54432",
   "metadata": {},
   "outputs": [
    {
     "data": {
      "text/plain": [
       "[[0, 7], [96, 1855], [1016, 1916], [1078, 5]]"
      ]
     },
     "execution_count": 170,
     "metadata": {},
     "output_type": "execute_result"
    }
   ],
   "source": [
    "findCornersOfQuadrilateral(cv2.imread(r'rect_1_1920_1200.jpg'))"
   ]
  },
  {
   "cell_type": "code",
   "execution_count": 171,
   "id": "51a9e2a9",
   "metadata": {},
   "outputs": [
    {
     "data": {
      "text/plain": [
       "[[5, 23], [50, 1894], [910, 1917], [986, 0]]"
      ]
     },
     "execution_count": 171,
     "metadata": {},
     "output_type": "execute_result"
    }
   ],
   "source": [
    "findCornersOfQuadrilateral(cv2.imread(r'rect_2_1920_1200.jpg'))"
   ]
  },
  {
   "cell_type": "code",
   "execution_count": null,
   "id": "e1391697",
   "metadata": {},
   "outputs": [],
   "source": []
  },
  {
   "cell_type": "code",
   "execution_count": 189,
   "id": "cd6c2853",
   "metadata": {},
   "outputs": [],
   "source": [
    "checkTheCorners(cv2.imread(r'rect_1.jpg'),findCornersOfQuadrilateral(cv2.imread(r'rect_1.jpg')))"
   ]
  },
  {
   "cell_type": "code",
   "execution_count": 326,
   "id": "e487744a",
   "metadata": {},
   "outputs": [],
   "source": [
    "checkTheCorners(cv2.imread(r'rect_2.jpg'),findCornersOfQuadrilateral(cv2.imread(r'rect_2.jpg')))"
   ]
  },
  {
   "cell_type": "raw",
   "id": "0c24a42d",
   "metadata": {},
   "source": [
    "img = cv2.imread(r\"rect_proj_1.jpg\")"
   ]
  },
  {
   "cell_type": "raw",
   "id": "d8336794",
   "metadata": {},
   "source": [
    "corners = findCornersOfQuadrilateral(img)\n",
    "corners"
   ]
  },
  {
   "cell_type": "code",
   "execution_count": 327,
   "id": "ce7c5b0c",
   "metadata": {},
   "outputs": [
    {
     "data": {
      "text/plain": [
       "array([[ 353,  385],\n",
       "       [1052,  385],\n",
       "       [1052,  756],\n",
       "       [ 353,  756]])"
      ]
     },
     "execution_count": 327,
     "metadata": {},
     "output_type": "execute_result"
    }
   ],
   "source": [
    "Rect_screen_1"
   ]
  },
  {
   "cell_type": "code",
   "execution_count": 328,
   "id": "0ea0b025",
   "metadata": {},
   "outputs": [
    {
     "data": {
      "text/plain": [
       "array([[ 926,  385],\n",
       "       [1727,  385],\n",
       "       [1727,  756],\n",
       "       [ 926,  756]])"
      ]
     },
     "execution_count": 328,
     "metadata": {},
     "output_type": "execute_result"
    }
   ],
   "source": [
    "Rect_screen_2"
   ]
  },
  {
   "cell_type": "code",
   "execution_count": 329,
   "id": "d41ed924",
   "metadata": {},
   "outputs": [
    {
     "data": {
      "text/plain": [
       "(array([926, 385]), array([926, 756]))"
      ]
     },
     "execution_count": 329,
     "metadata": {},
     "output_type": "execute_result"
    }
   ],
   "source": [
    "Rect_screen_2[0],Rect_screen_2[3]"
   ]
  },
  {
   "cell_type": "code",
   "execution_count": 295,
   "id": "d6cecc39",
   "metadata": {},
   "outputs": [],
   "source": [
    "cv2.imshow(r'rect_1',rect_1)\n",
    "cv2.imshow(r'rect_2',rect_2)\n",
    "cv2.imshow(r'rect_new',rect_1+rect_2)\n",
    "cv2.waitKey(0)\n",
    "cv2.destroyAllWindows()"
   ]
  },
  {
   "cell_type": "code",
   "execution_count": null,
   "id": "4331263c",
   "metadata": {},
   "outputs": [],
   "source": []
  },
  {
   "cell_type": "code",
   "execution_count": 192,
   "id": "53a31997",
   "metadata": {},
   "outputs": [],
   "source": [
    "blend_1=rect_1.copy()\n",
    "blend_2=rect_2.copy()\n",
    "cv2.line(blend_1,Rect_screen_2[0],Rect_screen_2[3],(0,0,255),1)\n",
    "cv2.line(blend_2,Rect_screen_1[1],Rect_screen_1[2],(0,255,0),1)\n",
    "\n",
    "cv2.imshow(\"blend_1\",blend_1)\n",
    "cv2.imshow(\"blend_2\",blend_2)\n",
    "\n",
    "cv2.waitKey(0)\n",
    "cv2.destroyAllWindows()\n"
   ]
  },
  {
   "cell_type": "code",
   "execution_count": 193,
   "id": "1e44c7f0",
   "metadata": {},
   "outputs": [
    {
     "data": {
      "text/plain": [
       "True"
      ]
     },
     "execution_count": 193,
     "metadata": {},
     "output_type": "execute_result"
    }
   ],
   "source": [
    "#blend_1[442:1001,926:1920]=0\n",
    "cv2.imshow(\"blend_1\",blend_1)\n",
    "cv2.imshow(\"BL_2\",cv2.warpPerspective(blend_1,np.linalg.inv(H_screen_1_R),(1920,1200)))\n",
    "inte=cv2.warpPerspective(blend_1,np.linalg.inv(H_screen_1_R),(1920,1200))\n",
    "cv2.imshow(\"BL_3\",cv2.warpPerspective(inte,H_1_C,(1920,1200)))\n",
    "cv2.waitKey(0)\n",
    "cv2.destroyAllWindows()\n",
    "cv2.imwrite(\"b_op_1.jpg\",cv2.warpPerspective(inte,H_1_C,(1920,1200)))"
   ]
  },
  {
   "cell_type": "code",
   "execution_count": 194,
   "id": "6b18622c",
   "metadata": {},
   "outputs": [
    {
     "data": {
      "text/plain": [
       "True"
      ]
     },
     "execution_count": 194,
     "metadata": {},
     "output_type": "execute_result"
    }
   ],
   "source": [
    "cv2.imshow(\"blend_1\",blend_2)\n",
    "cv2.imshow(\"BL_2\",cv2.warpPerspective(blend_2,np.linalg.inv(H_screen_2_R),(1920,1200)))\n",
    "inte=cv2.warpPerspective(blend_2,np.linalg.inv(H_screen_2_R),(1920,1200))\n",
    "cv2.imshow(\"BL_3\",cv2.warpPerspective(inte,H_2_C,(1920,1200)))\n",
    "cv2.waitKey(0)\n",
    "cv2.destroyAllWindows()\n",
    "cv2.imwrite(\"b_op_2.jpg\",cv2.warpPerspective(inte,H_2_C,(1920,1200)))"
   ]
  },
  {
   "cell_type": "code",
   "execution_count": 195,
   "id": "a5a27564",
   "metadata": {},
   "outputs": [],
   "source": [
    "cv2.imshow(r'Blend_R_w_1',cv2.warpPerspective(blend_1,H_1_C,(1920,1200)))\n",
    "cv2.imshow(r'Blend_R_w_2',cv2.warpPerspective(blend_2,H_2_C,(1920,1200)))\n",
    "\n",
    "cv2.waitKey(0)\n",
    "cv2.destroyAllWindows()"
   ]
  },
  {
   "cell_type": "code",
   "execution_count": 196,
   "id": "6122edc5",
   "metadata": {},
   "outputs": [
    {
     "data": {
      "text/plain": [
       "True"
      ]
     },
     "execution_count": 196,
     "metadata": {},
     "output_type": "execute_result"
    }
   ],
   "source": [
    "cv2.imwrite(r'blend_rect_1.jpg',cv2.warpPerspective(blend_1,H_1_C,(1920,1200)))\n",
    "cv2.imwrite(r'blend_rect_2.jpg',cv2.warpPerspective(blend_2,H_2_C,(1920,1200)))\n"
   ]
  },
  {
   "cell_type": "code",
   "execution_count": 303,
   "id": "65e6e143",
   "metadata": {},
   "outputs": [
    {
     "name": "stdout",
     "output_type": "stream",
     "text": [
      "Point added: (294, 1638)\n"
     ]
    }
   ],
   "source": [
    "click_image(r'b_op_1.jpg')"
   ]
  },
  {
   "cell_type": "code",
   "execution_count": 304,
   "id": "ce933c71",
   "metadata": {},
   "outputs": [
    {
     "name": "stdout",
     "output_type": "stream",
     "text": [
      "Point added: (138, 302)\n"
     ]
    }
   ],
   "source": [
    "click_image(r'b_op_2.jpg')"
   ]
  },
  {
   "cell_type": "code",
   "execution_count": 293,
   "id": "e231940e",
   "metadata": {},
   "outputs": [
    {
     "data": {
      "text/plain": [
       "[[303, 246], [295, 1115], [845, 1111], [832, 227]]"
      ]
     },
     "execution_count": 293,
     "metadata": {},
     "output_type": "execute_result"
    }
   ],
   "source": [
    "findCornersOfQuadrilateral(cv2.imread(r'back_to_camera_1.jpg'))"
   ]
  },
  {
   "cell_type": "code",
   "execution_count": 294,
   "id": "36285c99",
   "metadata": {},
   "outputs": [
    {
     "data": {
      "text/plain": [
       "[[295, 990], [282, 1792], [862, 1808], [842, 985]]"
      ]
     },
     "execution_count": 294,
     "metadata": {},
     "output_type": "execute_result"
    }
   ],
   "source": [
    "findCornersOfQuadrilateral(cv2.imread(r'back_to_camera_2.jpg'))"
   ]
  },
  {
   "cell_type": "code",
   "execution_count": 201,
   "id": "b73b76d8",
   "metadata": {},
   "outputs": [
    {
     "data": {
      "text/plain": [
       "(1080, 1920, 3)"
      ]
     },
     "execution_count": 201,
     "metadata": {},
     "output_type": "execute_result"
    }
   ],
   "source": [
    "cv2.imread(r'checker_board_25_25.jpg').shape"
   ]
  },
  {
   "cell_type": "code",
   "execution_count": 202,
   "id": "31679e9c",
   "metadata": {},
   "outputs": [],
   "source": [
    "big=cv2.imread(r'checker_board_25_25.jpg')\n",
    "rs=cv2.resize(big,(3840,1080))"
   ]
  },
  {
   "cell_type": "code",
   "execution_count": 203,
   "id": "b85b70a0",
   "metadata": {},
   "outputs": [
    {
     "data": {
      "text/plain": [
       "True"
      ]
     },
     "execution_count": 203,
     "metadata": {},
     "output_type": "execute_result"
    }
   ],
   "source": [
    "cv2.imwrite(r'rs.jpg',rs)"
   ]
  },
  {
   "cell_type": "markdown",
   "id": "5091394b",
   "metadata": {},
   "source": [
    "# POI task"
   ]
  },
  {
   "cell_type": "code",
   "execution_count": 266,
   "id": "d1140eea",
   "metadata": {},
   "outputs": [],
   "source": [
    "deer = cv2.imread(r\"deer.jpg\")\n",
    "height, width, _ = deer.shape\n",
    "midpoint = width // 2\n",
    "black_half = np.zeros((height, midpoint, 3), dtype=np.uint8)\n",
    "left_half = deer[:,:midpoint]\n",
    "right_half= deer[:,midpoint:]"
   ]
  },
  {
   "cell_type": "code",
   "execution_count": 267,
   "id": "601aa2ad",
   "metadata": {},
   "outputs": [
    {
     "data": {
      "text/plain": [
       "True"
      ]
     },
     "execution_count": 267,
     "metadata": {},
     "output_type": "execute_result"
    }
   ],
   "source": [
    "deerL, deerR = deer.copy(),deer.copy()\n",
    "deerL[:, midpoint:] = left_half\n",
    "deerL[:,:midpoint] = black_half\n",
    "deerR[:,midpoint:] = black_half\n",
    "deerR[:, :midpoint] = right_half\n",
    "\n",
    "cv2.imwrite(\"deerL.jpg\",deerL)\n",
    "cv2.imwrite(\"deerR.jpg\",deerR)"
   ]
  },
  {
   "cell_type": "code",
   "execution_count": 268,
   "id": "06c54af6",
   "metadata": {},
   "outputs": [],
   "source": [
    "cv2.imshow(\"deerL\",deerL)\n",
    "cv2.imshow(\"deerR\",deerR)\n",
    "cv2.waitKey(0)\n",
    "cv2.destroyAllWindows()"
   ]
  },
  {
   "cell_type": "code",
   "execution_count": 269,
   "id": "cb24bf0d",
   "metadata": {},
   "outputs": [],
   "source": [
    "deerRLines=cv2.imread(r'deerRightWithLines.jpg')\n",
    "deerLLines=cv2.imread(r'deerLeftWithLines.jpg')"
   ]
  },
  {
   "cell_type": "code",
   "execution_count": 270,
   "id": "bcc7cca7",
   "metadata": {},
   "outputs": [],
   "source": [
    "################without_over_lap####################\n",
    "cv2.imshow(\"der_L_cam_1\",cv2.warpPerspective(deerL,np.linalg.inv(H_1_C),(1920,1080)))\n",
    "x=cv2.warpPerspective(deerL,np.linalg.inv(H_1_C),(1920,1080))\n",
    "cv2.imshow(\"der_L_cam_1_r\",cv2.warpPerspective(x,H_screen_1_R,(1920,1080)))\n",
    "xx=cv2.warpPerspective(x,H_screen_1_R,(1920,1080))\n",
    "cv2.imshow(\"der_L_cam_1_r\",cv2.warpPerspective(xx,H_1_C,(1920,1080)))\n",
    "cv2.imwrite(\"deer_left_No_overlap.jpg\",cv2.warpPerspective(xx,H_1_C,(1920,1080)))\n",
    "cv2.waitKey(0)\n",
    "cv2.destroyAllWindows()"
   ]
  },
  {
   "cell_type": "code",
   "execution_count": 271,
   "id": "804bae5b",
   "metadata": {},
   "outputs": [],
   "source": [
    "################without_over_lap####################\n",
    "cv2.imshow(\"der_L_cam_1\",cv2.warpPerspective(deerR,np.linalg.inv(H_2_C),(1920,1080)))\n",
    "x=cv2.warpPerspective(deerR,np.linalg.inv(H_2_C),(1920,1080))\n",
    "cv2.imshow(\"der_L_cam_1_r\",cv2.warpPerspective(x,H_screen_2_R,(1920,1080)))\n",
    "xx=cv2.warpPerspective(x,H_screen_2_R,(1920,1080))\n",
    "cv2.imshow(\"der_L_cam_1_r\",cv2.warpPerspective(xx,H_2_C,(1920,1080)))\n",
    "cv2.imwrite(\"deer_right_No_overlap.jpg\",cv2.warpPerspective(xx,H_2_C,(1920,1080)))\n",
    "cv2.waitKey(0)\n",
    "cv2.destroyAllWindows()"
   ]
  },
  {
   "cell_type": "code",
   "execution_count": 383,
   "id": "ff18cea0",
   "metadata": {},
   "outputs": [
    {
     "name": "stdout",
     "output_type": "stream",
     "text": [
      "Point added: (82, 1543)\n"
     ]
    }
   ],
   "source": [
    "click_image(r'blen_in_proj_1_dec_14.jpg')"
   ]
  },
  {
   "cell_type": "code",
   "execution_count": 384,
   "id": "4a14d508",
   "metadata": {},
   "outputs": [
    {
     "name": "stdout",
     "output_type": "stream",
     "text": [
      "Point added: (24, 423)\n"
     ]
    }
   ],
   "source": [
    "click_image(r'blen_in_proj_2_dec_14.jpg')"
   ]
  },
  {
   "cell_type": "code",
   "execution_count": 385,
   "id": "c3298631",
   "metadata": {},
   "outputs": [],
   "source": [
    "right_overlap_pixel = 423//2\n",
    "left_overlap_pixel = (1920-1543)//2"
   ]
  },
  {
   "cell_type": "code",
   "execution_count": 386,
   "id": "04d3ed1c",
   "metadata": {},
   "outputs": [
    {
     "data": {
      "text/plain": [
       "422"
      ]
     },
     "execution_count": 386,
     "metadata": {},
     "output_type": "execute_result"
    }
   ],
   "source": [
    "right_overlap_pixel*2"
   ]
  },
  {
   "cell_type": "code",
   "execution_count": 387,
   "id": "fa579532",
   "metadata": {},
   "outputs": [
    {
     "data": {
      "text/plain": [
       "376"
      ]
     },
     "execution_count": 387,
     "metadata": {},
     "output_type": "execute_result"
    }
   ],
   "source": [
    "left_overlap_pixel*2"
   ]
  },
  {
   "cell_type": "raw",
   "id": "fc32373d",
   "metadata": {},
   "source": [
    "firstStrip = deerL[:,(1920-left_overlap_pixel):]\n",
    "middleStrip = deerR[:,:midpoint]\n",
    "lastStrip = np.zeros((height, 1920 - (midpoint+left_overlap_pixel), 3), dtype=np.uint8)\n",
    "shifted_deerR = deer.copy()\n",
    "shifted_deerR[:,:left_overlap_pixel] = firstStrip\n",
    "shifted_deerR[:,left_overlap_pixel:(midpoint+left_overlap_pixel)] = middleStrip\n",
    "shifted_deerR[:,(midpoint+left_overlap_pixel):] = lastStrip\n",
    "cv2.imwrite(r\"deerR_shifted.jpg\",shifted_deerR)"
   ]
  },
  {
   "cell_type": "code",
   "execution_count": 388,
   "id": "175ed17a",
   "metadata": {},
   "outputs": [
    {
     "data": {
      "text/plain": [
       "array([[ 3.24675789e+00, -6.55304276e-03, -1.13630288e+03],\n",
       "       [ 1.69096530e-01,  2.92932110e+00, -1.18755433e+03],\n",
       "       [ 2.55423496e-04, -1.07976006e-04,  1.00000000e+00]])"
      ]
     },
     "execution_count": 388,
     "metadata": {},
     "output_type": "execute_result"
    }
   ],
   "source": [
    "H_1_C"
   ]
  },
  {
   "cell_type": "raw",
   "id": "5563ed59",
   "metadata": {},
   "source": [
    "H_1_C\n",
    "array([[ 2.16810018e+00,  2.22695204e-01, -5.87157790e+02],\n",
    "       [-2.28268174e-03,  1.61555148e+00, -1.13022966e+02],\n",
    "       [ 2.04875196e-05,  9.31197368e-05,  1.00000000e+00]])"
   ]
  },
  {
   "cell_type": "code",
   "execution_count": 389,
   "id": "8374953e",
   "metadata": {},
   "outputs": [
    {
     "data": {
      "text/plain": [
       "array([[ 3.07650997e+00, -7.12502208e-02, -2.79454103e+03],\n",
       "       [ 7.52269952e-02,  2.97441983e+00, -1.20894628e+03],\n",
       "       [ 2.00199760e-04, -7.95827967e-05,  1.00000000e+00]])"
      ]
     },
     "execution_count": 389,
     "metadata": {},
     "output_type": "execute_result"
    }
   ],
   "source": [
    "H_2_C"
   ]
  },
  {
   "cell_type": "raw",
   "id": "490c6211",
   "metadata": {},
   "source": [
    "H_2_C\n",
    "array([[ 2.72145885e+00, -3.48283091e-02, -2.78545732e+03],\n",
    "       [-7.71391682e-02,  1.90648940e+00, -4.60943566e+02],\n",
    "       [-1.98624404e-05,  5.29288089e-05,  1.00000000e+00]])"
   ]
  },
  {
   "cell_type": "code",
   "execution_count": 390,
   "id": "f876aa7b",
   "metadata": {},
   "outputs": [
    {
     "data": {
      "text/plain": [
       "array([[ 1.27549241e+00, -4.19817390e-02, -6.15973277e+01],\n",
       "       [ 1.58344460e-01,  9.67739810e-01, -2.56993056e+01],\n",
       "       [ 2.57173501e-04, -1.09857846e-04,  1.00000000e+00]])"
      ]
     },
     "execution_count": 390,
     "metadata": {},
     "output_type": "execute_result"
    }
   ],
   "source": [
    "H_screen_1_R"
   ]
  },
  {
   "cell_type": "raw",
   "id": "aeea6ff9",
   "metadata": {},
   "source": [
    "H_screen_1_R\n",
    "array([[ 1.04847988e+00,  1.29998242e-01, -4.40723056e+01],\n",
    "       [ 5.94186076e-03,  7.47098798e-01,  2.61246550e+02],\n",
    "       [ 2.15697110e-05,  9.40123559e-05,  1.00000000e+00]])"
   ]
  },
  {
   "cell_type": "code",
   "execution_count": 391,
   "id": "58c8aeae",
   "metadata": {},
   "outputs": [
    {
     "data": {
      "text/plain": [
       "array([[ 1.47991411e+00, -1.01126047e-01, -2.48892035e+02],\n",
       "       [ 1.04518674e-01,  9.98626098e-01, -3.42022762e+01],\n",
       "       [ 2.03128172e-04, -7.82826140e-05,  1.00000000e+00]])"
      ]
     },
     "execution_count": 391,
     "metadata": {},
     "output_type": "execute_result"
    }
   ],
   "source": [
    "H_screen_2_R"
   ]
  },
  {
   "cell_type": "raw",
   "id": "268c0444",
   "metadata": {},
   "source": [
    "H_screen_2_R\n",
    "array([[ 9.50482249e-01,  3.90312536e-02,  3.85627872e+01],\n",
    "       [-4.06081995e-02,  8.58751470e-01,  1.07670204e+02],\n",
    "       [-2.08373749e-05,  5.07142531e-05,  1.00000000e+00]])"
   ]
  },
  {
   "cell_type": "raw",
   "id": "f7ccc573",
   "metadata": {},
   "source": [
    "firstStrip = np.zeros((height, midpoint - right_overlap_pixel , 3), dtype=np.uint8) \n",
    "middleStrip = deerL[:,midpoint:]\n",
    "lastStrip = deerR[:,0:right_overlap_pixel]\n",
    "shifted_deerL = deer.copy()\n",
    "shifted_deerL[:,:(midpoint-right_overlap_pixel)] = firstStrip\n",
    "shifted_deerL[:,(midpoint-right_overlap_pixel):(1920-right_overlap_pixel)] = middleStrip\n",
    "shifted_deerL[:,(1920-right_overlap_pixel):] = lastStrip\n",
    "cv2.imwrite(r\"deerL_shifted.jpg\",shifted_deerL)"
   ]
  },
  {
   "cell_type": "raw",
   "id": "b164546a",
   "metadata": {},
   "source": [
    "cv2.imshow(\"deerL\",deerL)\n",
    "cv2.imshow(\"deerR\",deerR)\n",
    "cv2.imshow(\"deer_shifted_L\",shifted_deerL)\n",
    "cv2.imshow(\"deer_shifted_R\",shifted_deerR)\n",
    "cv2.waitKey(0)\n",
    "cv2.destroyAllWindows()"
   ]
  },
  {
   "cell_type": "code",
   "execution_count": 392,
   "id": "39c58592",
   "metadata": {},
   "outputs": [
    {
     "data": {
      "text/plain": [
       "188"
      ]
     },
     "execution_count": 392,
     "metadata": {},
     "output_type": "execute_result"
    }
   ],
   "source": [
    "left_overlap_pixel"
   ]
  },
  {
   "cell_type": "code",
   "execution_count": 393,
   "id": "2dce80ed",
   "metadata": {},
   "outputs": [],
   "source": [
    "deer_og=cv2.imread(r'deer.jpg')"
   ]
  },
  {
   "cell_type": "code",
   "execution_count": 394,
   "id": "8c743627",
   "metadata": {},
   "outputs": [],
   "source": [
    "########if you want without line run the above and just skip this thing and run below ones#########\n",
    "deer_og=cv2.imread(r'deer.jpg')\n",
    "cv2.line(deer_og, (960,0), (960,1080), (255,0,0), 2)\n",
    "cv2.line(deer_og, (960+right_overlap_pixel*2,0), (960+right_overlap_pixel*2,1080), (0,255,0), 2) \n",
    "cv2.line(deer_og, (960-left_overlap_pixel*2,0), (960-left_overlap_pixel*2,1080), (0,0,255), 2) \n",
    "cv2.line(deer_og, (960+right_overlap_pixel,0), (960+right_overlap_pixel,1080), (0,255,255), 2) \n",
    "cv2.line(deer_og, (960-left_overlap_pixel,0), (960-left_overlap_pixel,1080), (255,0,255), 2) \n",
    "\n",
    "cv2.imwrite(r\"deer_og.jpg\",deer_og)\n",
    "cv2.imshow(\"derr_M_L_R\",deer_og)\n",
    "cv2.waitKey(0)\n",
    "cv2.destroyAllWindows()"
   ]
  },
  {
   "cell_type": "code",
   "execution_count": 395,
   "id": "4af6ca26",
   "metadata": {},
   "outputs": [],
   "source": [
    "deer_asli_R = np.zeros_like(deer_og)"
   ]
  },
  {
   "cell_type": "code",
   "execution_count": 396,
   "id": "b8f0cdcf",
   "metadata": {},
   "outputs": [
    {
     "data": {
      "text/plain": [
       "True"
      ]
     },
     "execution_count": 396,
     "metadata": {},
     "output_type": "execute_result"
    }
   ],
   "source": [
    "deer_asli_R[:,0:960+right_overlap_pixel,::-1] = deer_og[:,960-right_overlap_pixel:,::-1]\n",
    "cv2.imwrite(\"deerRightWithout_lines.jpg\",deer_asli_R)"
   ]
  },
  {
   "cell_type": "code",
   "execution_count": 397,
   "id": "7d26bdbd",
   "metadata": {},
   "outputs": [],
   "source": [
    "deer_asli_L = np.zeros_like(deer_og)"
   ]
  },
  {
   "cell_type": "code",
   "execution_count": 398,
   "id": "0b2c48a9",
   "metadata": {},
   "outputs": [
    {
     "data": {
      "text/plain": [
       "True"
      ]
     },
     "execution_count": 398,
     "metadata": {},
     "output_type": "execute_result"
    }
   ],
   "source": [
    "deer_asli_L[:,960-left_overlap_pixel:] = deer_og[:,:(960+left_overlap_pixel)]\n",
    "cv2.imwrite(\"deerLeftWithout_lines.jpg\",deer_asli_L)"
   ]
  },
  {
   "cell_type": "code",
   "execution_count": 399,
   "id": "1f61c992",
   "metadata": {},
   "outputs": [],
   "source": [
    "cv2.imshow(\"deer_og\",deer_og)\n",
    "cv2.imshow(\"deer_asli_R\",deer_asli_R)\n",
    "\n",
    "cv2.waitKey(0)\n",
    "cv2.destroyAllWindows()"
   ]
  },
  {
   "cell_type": "code",
   "execution_count": 400,
   "id": "b8684896",
   "metadata": {},
   "outputs": [],
   "source": [
    "cv2.imshow(\"deer_og\",deer_og)\n",
    "cv2.imshow(\"deer_asli_L\",deer_asli_L)\n",
    "\n",
    "cv2.waitKey(0)\n",
    "cv2.destroyAllWindows()"
   ]
  },
  {
   "cell_type": "code",
   "execution_count": 401,
   "id": "d39a057c",
   "metadata": {},
   "outputs": [],
   "source": [
    "deerL_shifted=cv2.imread(r'deerLeftWithout_lines.jpg')\n",
    "cv2.imshow(\"der_L_cam_1\",cv2.warpPerspective(deerL_shifted,np.linalg.inv(H_1_C),(1920,1080)))\n",
    "x=cv2.warpPerspective(deerL_shifted,np.linalg.inv(H_1_C),(1920,1080))\n",
    "cv2.imshow(\"der_L_cam_1_r\",cv2.warpPerspective(x,H_screen_1_R,(1920,1080)))\n",
    "xx=cv2.warpPerspective(x,H_screen_1_R,(1920,1080))\n",
    "cv2.imshow(\"der_L_cam_1_r\",cv2.warpPerspective(xx,H_1_C,(1920,1080)))\n",
    "cv2.imwrite(\"deer_left_overlap.jpg\",cv2.warpPerspective(xx,H_1_C,(1920,1080)))\n",
    "cv2.waitKey(0)\n",
    "cv2.destroyAllWindows()"
   ]
  },
  {
   "cell_type": "code",
   "execution_count": 402,
   "id": "c8bc65c3",
   "metadata": {},
   "outputs": [],
   "source": [
    "deerR_shifted=cv2.imread(r'deerRightWithout_lines.jpg')\n",
    "cv2.imshow(\"der_L_cam_1\",cv2.warpPerspective(deerR_shifted,np.linalg.inv(H_2_C),(1920,1080)))\n",
    "x=cv2.warpPerspective(deerR_shifted,np.linalg.inv(H_2_C),(1920,1080))\n",
    "cv2.imshow(\"der_L_cam_1_r\",cv2.warpPerspective(x,H_screen_2_R,(1920,1080)))\n",
    "xx=cv2.warpPerspective(x,H_screen_2_R,(1920,1080))\n",
    "cv2.imshow(\"der_L_cam_1_r\",cv2.warpPerspective(xx,H_2_C,(1920,1080)))\n",
    "cv2.imwrite(\"deer_right_overlap.jpg\",cv2.warpPerspective(xx,H_2_C,(1920,1080)))\n",
    "cv2.waitKey(0)\n",
    "cv2.destroyAllWindows()"
   ]
  },
  {
   "cell_type": "code",
   "execution_count": 403,
   "id": "c454a6dd",
   "metadata": {},
   "outputs": [
    {
     "data": {
      "text/plain": [
       "(211, 188)"
      ]
     },
     "execution_count": 403,
     "metadata": {},
     "output_type": "execute_result"
    }
   ],
   "source": [
    "right_overlap_pixel,left_overlap_pixel"
   ]
  },
  {
   "cell_type": "code",
   "execution_count": 404,
   "id": "a7dfabfb",
   "metadata": {},
   "outputs": [
    {
     "data": {
      "text/plain": [
       "960.0"
      ]
     },
     "execution_count": 404,
     "metadata": {},
     "output_type": "execute_result"
    }
   ],
   "source": [
    "1920/2"
   ]
  },
  {
   "cell_type": "code",
   "execution_count": 405,
   "id": "80ba44ce",
   "metadata": {},
   "outputs": [
    {
     "data": {
      "text/plain": [
       "((1080, 1920, 3), (1080, 1920, 3))"
      ]
     },
     "execution_count": 405,
     "metadata": {},
     "output_type": "execute_result"
    }
   ],
   "source": [
    "deer_og.shape,deer_asli_R.shape"
   ]
  },
  {
   "cell_type": "markdown",
   "id": "ba0eb577",
   "metadata": {},
   "source": [
    "# BLENDING_WEIGHTS"
   ]
  },
  {
   "cell_type": "code",
   "execution_count": 204,
   "id": "397d3d50",
   "metadata": {},
   "outputs": [],
   "source": [
    "blend_1=cv2.imread(r'blended_screen_1.jpg')\n",
    "blend_2=cv2.imread(r'blended_screen_2.jpg')"
   ]
  },
  {
   "cell_type": "code",
   "execution_count": 205,
   "id": "292bd648",
   "metadata": {},
   "outputs": [],
   "source": [
    "cv2.imshow(r'blend_1',blend_1)\n",
    "cv2.imshow(r'blend_2',blend_2)\n",
    "cv2.waitKey(0)\n",
    "cv2.destroyAllWindows()"
   ]
  },
  {
   "cell_type": "code",
   "execution_count": 206,
   "id": "1a505785",
   "metadata": {},
   "outputs": [],
   "source": [
    "cv2.imshow(r'wr_1',cv2.warpPerspective(cv2.imread(r'blended_screen_1.jpg'),np.linalg.inv(H_1_C),(1920,1080)))\n",
    "cv2.imshow(r'wr_2',cv2.warpPerspective(cv2.imread(r'blended_screen_2.jpg'),np.linalg.inv(H_2_C),(1920,1080)))\n",
    "\n",
    "cv2.waitKey(0)\n",
    "cv2.destroyAllWindows()"
   ]
  },
  {
   "cell_type": "code",
   "execution_count": 207,
   "id": "90a0d43f",
   "metadata": {},
   "outputs": [],
   "source": [
    "blend_rect_1=cv2.warpPerspective(cv2.imread(r'blended_screen_1.jpg'),np.linalg.inv(H_1_C),(1920,1080))\n",
    "blend_rect_2=cv2.warpPerspective(cv2.imread(r'blended_screen_2.jpg'),np.linalg.inv(H_2_C),(1920,1080))"
   ]
  },
  {
   "cell_type": "code",
   "execution_count": 208,
   "id": "e5baef96",
   "metadata": {},
   "outputs": [],
   "source": [
    "cv2.imshow(r'blend_rect_1',blend_rect_1)\n",
    "cv2.imshow(r'blend_rect_2',blend_rect_2)\n",
    "cv2.waitKey(0)\n",
    "cv2.destroyAllWindows()"
   ]
  },
  {
   "cell_type": "code",
   "execution_count": 209,
   "id": "7872400b",
   "metadata": {},
   "outputs": [],
   "source": [
    "#cv2.imshow(r'blend_rect_1',cv2.warpPerspective(cv2.imread(r'blended_screen_1.jpg'),np.linalg.inv(H_1_C),(1920,1080)))\n",
    "#cv2.imshow(r'blend_rect_2',cv2.warpPerspective(cv2.imread(r'blended_screen_2.jpg'),np.linalg.inv(H_2_C),(1920,1080)))\n",
    "cv2.imshow(r'b_R_rect_1',cv2.warpPerspective(blend_rect_1,H_screen_1_R,(1920,1080)))\n",
    "cv2.imshow(r'b_R_rect_2',cv2.warpPerspective(blend_rect_2,H_screen_2_R,(1920,1080)))\n",
    "reverse_1=cv2.warpPerspective(blend_rect_1,H_screen_1_R,(1920,1080))\n",
    "reverse_2=cv2.warpPerspective(blend_rect_2,H_screen_2_R,(1920,1080))\n",
    "cv2.imshow(r'reverse_1',cv2.warpPerspective(reverse_1,H_1_C,(1920,1080)))\n",
    "cv2.imshow(r'reserve_2',cv2.warpPerspective(reverse_2,H_2_C,(1920,1080)))\n",
    "rect_1=cv2.warpPerspective(reverse_1,H_1_C,(1920,1080))\n",
    "rect_2=cv2.warpPerspective(reverse_2,H_2_C,(1920,1080))\n",
    "\n",
    "cv2.waitKey(0)\n",
    "cv2.destroyAllWindows()"
   ]
  },
  {
   "cell_type": "code",
   "execution_count": 210,
   "id": "4d6c31e2",
   "metadata": {},
   "outputs": [],
   "source": [
    "cv2.imshow(r'rect_1',rect_1)\n",
    "cv2.imshow(r'rect_2',rect_2)\n",
    "cv2.waitKey(0)\n",
    "cv2.destroyAllWindows()"
   ]
  },
  {
   "cell_type": "code",
   "execution_count": 211,
   "id": "4b191faa",
   "metadata": {},
   "outputs": [],
   "source": [
    "RECT_CAMERA_1=cv2.warpPerspective(back_camera_1,H_screen_1_R,(1920,1080))\n",
    "RECT_CAMERA_2=cv2.warpPerspective(back_camera_2,H_screen_2_R,(1920,1080))\n"
   ]
  },
  {
   "cell_type": "code",
   "execution_count": 212,
   "id": "339f3eaa",
   "metadata": {},
   "outputs": [],
   "source": [
    "cv2.imshow(r'RECT_CAMERA_1',RECT_CAMERA_1)\n",
    "cv2.imshow(r'RECT_CAMERA_2',RECT_CAMERA_2)\n",
    "cv2.waitKey(0)\n",
    "cv2.destroyAllWindows()"
   ]
  },
  {
   "cell_type": "code",
   "execution_count": 213,
   "id": "3a5ec999",
   "metadata": {},
   "outputs": [],
   "source": [
    "screen_over_lap_1=RECT_CAMERA_1.copy()\n",
    "screen_over_lap_2=RECT_CAMERA_2.copy()\n",
    "cv2.line(screen_over_lap_1,Rect_screen_2[0],Rect_screen_2[3],(0,0,255),1)\n",
    "cv2.line(screen_over_lap_2,Rect_screen_1[1],Rect_screen_1[2],(0,255,0),1)\n",
    "\n",
    "cv2.imshow(\"blend_1\",screen_over_lap_1)\n",
    "cv2.imshow(\"blend_2\",screen_over_lap_2)\n",
    "\n",
    "cv2.waitKey(0)\n",
    "cv2.destroyAllWindows()\n"
   ]
  },
  {
   "cell_type": "code",
   "execution_count": 214,
   "id": "a676d063",
   "metadata": {},
   "outputs": [],
   "source": [
    "cv2.imshow(r'screen_over_lap_1',cv2.warpPerspective(screen_over_lap_1,H_1_C,(1920,1080)))\n",
    "cv2.imshow(r'screen_over_lap_2',cv2.warpPerspective(screen_over_lap_2,H_2_C,(1920,1080)))\n",
    "cv2.line(reverse_1,Rect_screen_2[0],Rect_screen_2[3],(0,0,255),1)\n",
    "cv2.line(reverse_2,Rect_screen_1[1],Rect_screen_1[2],(0,255,0),1)\n",
    "cv2.imshow('rect_1',rect_1)\n",
    "cv2.imshow('rect_2',rect_2)\n",
    "\n",
    "\n",
    "cv2.waitKey(0)\n",
    "cv2.destroyAllWindows()"
   ]
  },
  {
   "cell_type": "code",
   "execution_count": 215,
   "id": "d4de27fa",
   "metadata": {},
   "outputs": [],
   "source": [
    "cv2.imshow(r'reverse_1',reverse_1)\n",
    "cv2.imshow(r'reverse_2',reverse_2)\n",
    "cv2.waitKey(0)\n",
    "cv2.destroyAllWindows()"
   ]
  },
  {
   "cell_type": "code",
   "execution_count": 216,
   "id": "81014ade",
   "metadata": {},
   "outputs": [],
   "source": [
    "cv2.imshow(r'r_1',cv2.warpPerspective(reverse_1,H_1_C,(1920,1080)))\n",
    "cv2.imshow(r'r_2',cv2.warpPerspective(reverse_2,H_2_C,(1920,1080)))\n",
    "cv2.waitKey(0)\n",
    "cv2.destroyAllWindows()"
   ]
  },
  {
   "cell_type": "code",
   "execution_count": 217,
   "id": "25e10fd8",
   "metadata": {},
   "outputs": [],
   "source": [
    "cv2.imshow(r'rect_1',rect_1)\n",
    "cv2.imshow(r'rect_2',rect_2)\n",
    "cv2.waitKey(0)\n",
    "cv2.destroyAllWindows()"
   ]
  },
  {
   "cell_type": "code",
   "execution_count": 218,
   "id": "6ad44456",
   "metadata": {},
   "outputs": [
    {
     "data": {
      "text/plain": [
       "True"
      ]
     },
     "execution_count": 218,
     "metadata": {},
     "output_type": "execute_result"
    }
   ],
   "source": [
    "cv2.imwrite('rect_blend_1.jpg',rect_1)\n",
    "cv2.imwrite('rect_blend_2.jpg',rect_2)"
   ]
  },
  {
   "cell_type": "raw",
   "id": "6b6ec35f",
   "metadata": {},
   "source": [
    "rect_1=rect_1.astype(np.float32)\n",
    "rect_2=rect_2.astype(np.float32)"
   ]
  },
  {
   "cell_type": "code",
   "execution_count": 219,
   "id": "807f946c",
   "metadata": {},
   "outputs": [],
   "source": [
    "\n",
    "cv2.imshow(r'rect_1',rect_1)\n",
    "cv2.imshow(r'rect_2',rect_2)\n",
    "cv2.waitKey(0)\n",
    "cv2.destroyAllWindows()"
   ]
  },
  {
   "cell_type": "code",
   "execution_count": 220,
   "id": "6f459e5e",
   "metadata": {},
   "outputs": [
    {
     "data": {
      "text/plain": [
       "dtype('uint8')"
      ]
     },
     "execution_count": 220,
     "metadata": {},
     "output_type": "execute_result"
    }
   ],
   "source": [
    "rect_1.dtype"
   ]
  },
  {
   "cell_type": "code",
   "execution_count": 221,
   "id": "a1f96329",
   "metadata": {},
   "outputs": [],
   "source": [
    "deer_left_over_lap=cv2.imread(r'deer_left_overlap.jpg')\n",
    "deer_right_over_lap=cv2.imread(r'deer_right_overlap.jpg')"
   ]
  },
  {
   "cell_type": "code",
   "execution_count": 222,
   "id": "487407dd",
   "metadata": {},
   "outputs": [
    {
     "data": {
      "text/plain": [
       "dtype('uint8')"
      ]
     },
     "execution_count": 222,
     "metadata": {},
     "output_type": "execute_result"
    }
   ],
   "source": [
    "deer_left_over_lap.dtype"
   ]
  },
  {
   "cell_type": "raw",
   "id": "4179b57c",
   "metadata": {},
   "source": [
    "deer_left_over_lap=deer_left_over_lap.astype(np.float32)\n",
    "deer_right_over_lap=deer_right_over_lap.astype(np.float32)"
   ]
  },
  {
   "cell_type": "code",
   "execution_count": 223,
   "id": "5063cb96",
   "metadata": {},
   "outputs": [],
   "source": [
    "cv2.imshow(r'deer_left_overlap_lines',deer_left_over_lap)\n",
    "cv2.imshow(r'deer_right_over_lap',deer_right_over_lap)\n",
    "cv2.imshow('rect_1',rect_1)\n",
    "cv2.imshow('rect_2',rect_2)\n",
    "cv2.waitKey(0)\n",
    "cv2.destroyAllWindows()"
   ]
  },
  {
   "cell_type": "code",
   "execution_count": 224,
   "id": "d47bdd3c",
   "metadata": {},
   "outputs": [],
   "source": [
    "new_left=(deer_left_over_lap/255)*(rect_1/255)\n",
    "new_right=(deer_right_over_lap/255)*(rect_2/255)"
   ]
  },
  {
   "cell_type": "code",
   "execution_count": 225,
   "id": "fd183994",
   "metadata": {},
   "outputs": [],
   "source": [
    "cv2.imshow(r'new_left',new_left/(1))\n",
    "cv2.imshow(r'new_right',new_right/(1))\n",
    "cv2.waitKey(0)\n",
    "cv2.destroyAllWindows()"
   ]
  },
  {
   "cell_type": "code",
   "execution_count": 226,
   "id": "9f17bcf6",
   "metadata": {},
   "outputs": [
    {
     "data": {
      "text/plain": [
       "True"
      ]
     },
     "execution_count": 226,
     "metadata": {},
     "output_type": "execute_result"
    }
   ],
   "source": [
    "cv2.imwrite(r'deer_left_weights.jpg',new_left*255)\n",
    "cv2.imwrite(r'deer_right_weights.jpg',new_right*255)"
   ]
  },
  {
   "cell_type": "code",
   "execution_count": 227,
   "id": "c49c224a",
   "metadata": {},
   "outputs": [],
   "source": [
    "rect_blend_1=cv2.imread(r'rect_blend_1.jpg')\n",
    "rect_blend_2=cv2.imread(r'rect_blend_2.jpg')\n"
   ]
  },
  {
   "cell_type": "code",
   "execution_count": 232,
   "id": "d97a0648",
   "metadata": {},
   "outputs": [],
   "source": [
    "cv2.imshow('rect_1',rect_blend_1)\n",
    "cv2.imshow('rect_2',rect_blend_2)\n",
    "cv2.waitKey(0)\n",
    "cv2.destroyAllWindows()"
   ]
  },
  {
   "cell_type": "code",
   "execution_count": 229,
   "id": "46687c03",
   "metadata": {},
   "outputs": [
    {
     "data": {
      "text/plain": [
       "True"
      ]
     },
     "execution_count": 229,
     "metadata": {},
     "output_type": "execute_result"
    }
   ],
   "source": [
    "cv2.imwrite(r'rect_1.jpg',rect_1)\n",
    "cv2.imwrite(r'rect_2.jpg',rect_2)"
   ]
  },
  {
   "cell_type": "markdown",
   "id": "a4569716",
   "metadata": {},
   "source": [
    "# FOR CUSTOM IMAGE WEIGHTING"
   ]
  },
  {
   "cell_type": "code",
   "execution_count": 230,
   "id": "acfd6bcb",
   "metadata": {},
   "outputs": [],
   "source": [
    "rect_1_blend=cv2.imread(r'rect_1_blend.jpg')\n",
    "rect_2_blend=cv2.imread(r'rect_2_blend.jpg')\n",
    "#CUSTOM_WEIGHTING_LEFT=cv2.imread(r'white_new_left.jpg')\n",
    "#CUSTOM_WEIGHTING_RIGHT=cv2.imread(r'white_new_right.jpg')"
   ]
  },
  {
   "cell_type": "code",
   "execution_count": 433,
   "id": "c8228496",
   "metadata": {},
   "outputs": [
    {
     "data": {
      "text/plain": [
       "True"
      ]
     },
     "execution_count": 433,
     "metadata": {},
     "output_type": "execute_result"
    }
   ],
   "source": [
    "CUSTOM_IMAGE=cv2.imread(r'white.jpg')\n",
    "height, width, _ = CUSTOM_IMAGE.shape\n",
    "midpoint = width // 2\n",
    "black_half = np.zeros((height, midpoint, 3), dtype=np.uint8)\n",
    "left_half = CUSTOM_IMAGE[:,:midpoint]\n",
    "right_half= CUSTOM_IMAGE[:,midpoint:]\n",
    "CUSTOM_L, CUSTOM_R =CUSTOM_IMAGE.copy(),CUSTOM_IMAGE.copy()\n",
    "CUSTOM_L[:, midpoint:] = left_half\n",
    "CUSTOM_L[:,:midpoint] = black_half\n",
    "CUSTOM_R[:,midpoint:] = black_half\n",
    "CUSTOM_R[:, :midpoint] = right_half\n",
    "\n",
    "cv2.imwrite(\"CUSTOM_L.jpg\",CUSTOM_L)\n",
    "cv2.imwrite(\"CUSTOM_R.jpg\",CUSTOM_R)"
   ]
  },
  {
   "cell_type": "code",
   "execution_count": 434,
   "id": "d44b95e9",
   "metadata": {},
   "outputs": [],
   "source": [
    "CUSTOM_OG=cv2.imread(r'white.jpg')"
   ]
  },
  {
   "cell_type": "code",
   "execution_count": 435,
   "id": "0bc7ae4a",
   "metadata": {},
   "outputs": [],
   "source": [
    "########if you want without line run the above and just skip this thing and run below ones#########\n",
    "CUSTOM_OG=CUSTOM_IMAGE.copy()\n",
    "cv2.line(CUSTOM_OG, (960,0), (960,1080), (255,0,0), 2)\n",
    "cv2.line(CUSTOM_OG, (960+right_overlap_pixel*2,0), (960+right_overlap_pixel*2,1080), (0,255,0), 2) \n",
    "cv2.line(CUSTOM_OG, (960-left_overlap_pixel*2,0), (960-left_overlap_pixel*2,1080), (0,0,255), 2) \n",
    "cv2.line(CUSTOM_OG, (960+right_overlap_pixel,0), (960+right_overlap_pixel,1080), (0,255,255), 2) \n",
    "cv2.line(CUSTOM_OG, (960-left_overlap_pixel,0), (960-left_overlap_pixel,1080), (255,0,255), 2) \n",
    "\n",
    "cv2.imwrite(r\"CUSTOM_OG.jpg\",CUSTOM_OG)\n",
    "cv2.imshow(\"CUSTOM_OG\",CUSTOM_OG)\n",
    "cv2.waitKey(0)\n",
    "cv2.destroyAllWindows()"
   ]
  },
  {
   "cell_type": "code",
   "execution_count": 436,
   "id": "187afd6c",
   "metadata": {},
   "outputs": [],
   "source": [
    "CUSTOM_ASLI_R = np.zeros_like(CUSTOM_OG)"
   ]
  },
  {
   "cell_type": "code",
   "execution_count": 437,
   "id": "bc46ab73",
   "metadata": {},
   "outputs": [
    {
     "data": {
      "text/plain": [
       "True"
      ]
     },
     "execution_count": 437,
     "metadata": {},
     "output_type": "execute_result"
    }
   ],
   "source": [
    "CUSTOM_ASLI_R[:,0:960+right_overlap_pixel,::-1] =CUSTOM_OG[:,960-right_overlap_pixel:,::-1]\n",
    "cv2.imwrite(\"CUSTOM_RIGHT.jpg\",CUSTOM_ASLI_R)"
   ]
  },
  {
   "cell_type": "code",
   "execution_count": 438,
   "id": "6c103c6f",
   "metadata": {},
   "outputs": [],
   "source": [
    "CUSTOM_ASLI_L = np.zeros_like(CUSTOM_IMAGE)"
   ]
  },
  {
   "cell_type": "code",
   "execution_count": 439,
   "id": "5d973f35",
   "metadata": {},
   "outputs": [
    {
     "data": {
      "text/plain": [
       "True"
      ]
     },
     "execution_count": 439,
     "metadata": {},
     "output_type": "execute_result"
    }
   ],
   "source": [
    "CUSTOM_ASLI_L[:,960-left_overlap_pixel:] = CUSTOM_OG[:,:(960+left_overlap_pixel)]\n",
    "cv2.imwrite(\"CUSTOM_LEFT.jpg\",CUSTOM_ASLI_L)"
   ]
  },
  {
   "cell_type": "code",
   "execution_count": 345,
   "id": "199736bc",
   "metadata": {},
   "outputs": [],
   "source": [
    "CUSTOM_LEFT_SHIFTED=cv2.imread(r'CUSTOM_LEFT.jpg')\n",
    "cv2.imshow(\"der_L_cam_1\",cv2.warpPerspective(CUSTOM_LEFT_SHIFTED,np.linalg.inv(H_1_C),(1920,1080)))\n",
    "x=cv2.warpPerspective(CUSTOM_LEFT_SHIFTED,np.linalg.inv(H_1_C),(1920,1080))\n",
    "cv2.imshow(\"der_L_cam_1_r\",cv2.warpPerspective(x,H_screen_1_R,(1920,1080)))\n",
    "xx=cv2.warpPerspective(x,H_screen_1_R,(1920,1080))\n",
    "cv2.imshow(\"der_L_cam_1_r\",cv2.warpPerspective(xx,H_1_C,(1920,1080)))\n",
    "cv2.imwrite(\"CUSTOM_LEFT_OVERLAP.jpg\",cv2.warpPerspective(xx,H_1_C,(1920,1080)))\n",
    "cv2.waitKey(0)\n",
    "cv2.destroyAllWindows()"
   ]
  },
  {
   "cell_type": "code",
   "execution_count": 346,
   "id": "b12fd567",
   "metadata": {},
   "outputs": [],
   "source": [
    "CUSTOM_RIGHT_SHIFTED=cv2.imread(r'CUSTOM_RIGHT.jpg')\n",
    "cv2.imshow(\"der_L_cam_1\",cv2.warpPerspective(CUSTOM_RIGHT_SHIFTED,np.linalg.inv(H_2_C),(1920,1080)))\n",
    "x=cv2.warpPerspective(CUSTOM_RIGHT_SHIFTED,np.linalg.inv(H_2_C),(1920,1080))\n",
    "cv2.imshow(\"der_L_cam_1_r\",cv2.warpPerspective(x,H_screen_2_R,(1920,1080)))\n",
    "xx=cv2.warpPerspective(x,H_screen_2_R,(1920,1080))\n",
    "cv2.imshow(\"der_L_cam_1_r\",cv2.warpPerspective(xx,H_2_C,(1920,1080)))\n",
    "cv2.imwrite(\"CUSTOM_RIGHT_OVERLAP.jpg\",cv2.warpPerspective(xx,H_2_C,(1920,1080)))\n",
    "cv2.waitKey(0)\n",
    "cv2.destroyAllWindows()"
   ]
  },
  {
   "cell_type": "code",
   "execution_count": 347,
   "id": "eb701cbe",
   "metadata": {},
   "outputs": [],
   "source": [
    "cv2.imshow(r'rect_1.jpg',rect_blend_1)\n",
    "cv2.imshow(r'rect_2.jpg',rect_blend_2)\n",
    "cv2.waitKey(0)\n",
    "cv2.destroyAllWindows()"
   ]
  },
  {
   "cell_type": "code",
   "execution_count": 348,
   "id": "3a777280",
   "metadata": {},
   "outputs": [],
   "source": [
    "CUSTOM_RIGHT_OVERLAP=cv2.imread(r'CUSTOM_RIGHT_OVERLAP.jpg')\n",
    "CUSTOM_LEFT_OVERLAP=cv2.imread(r'CUSTOM_LEFT_OVERLAP.jpg')\n"
   ]
  },
  {
   "cell_type": "code",
   "execution_count": 350,
   "id": "f1f46de5",
   "metadata": {},
   "outputs": [],
   "source": [
    "L=np.zeros_like(rect_blend_1)\n",
    "R=np.zeros_like(rect_blend_2)"
   ]
  },
  {
   "cell_type": "code",
   "execution_count": 351,
   "id": "4b2e9ebb",
   "metadata": {},
   "outputs": [],
   "source": [
    "L=(CUSTOM_LEFT_OVERLAP/255)*(rect_blend_1/255)\n",
    "R=(CUSTOM_RIGHT_OVERLAP/255)*(rect_blend_2/255)"
   ]
  },
  {
   "cell_type": "code",
   "execution_count": 352,
   "id": "de7aa568",
   "metadata": {},
   "outputs": [],
   "source": [
    "cv2.imshow(r'deer_L',CUSTOM_LEFT_OVERLAP)\n",
    "cv2.imshow(r'deer_R',CUSTOM_RIGHT_OVERLAP)\n",
    "cv2.waitKey(0)\n",
    "cv2.destroyAllWindows()"
   ]
  },
  {
   "cell_type": "code",
   "execution_count": 353,
   "id": "141d9d47",
   "metadata": {},
   "outputs": [],
   "source": [
    "cv2.imshow(r'L',L*1)\n",
    "cv2.imshow(r'R',R*1)\n",
    "cv2.waitKey(0)\n",
    "cv2.destroyAllWindows()"
   ]
  },
  {
   "cell_type": "code",
   "execution_count": 354,
   "id": "1f8a310e",
   "metadata": {},
   "outputs": [
    {
     "data": {
      "text/plain": [
       "True"
      ]
     },
     "execution_count": 354,
     "metadata": {},
     "output_type": "execute_result"
    }
   ],
   "source": [
    "cv2.imwrite(r'CUSTOM_BLEND_LEFT.jpg',L*255)\n",
    "cv2.imwrite(r'CUSTOM_BLEND_RIGHT.jpg',R*255)\n"
   ]
  },
  {
   "cell_type": "raw",
   "id": "05cf262b",
   "metadata": {},
   "source": [
    "cv2.imshow(r'rect_1.jpg',rect_1)\n",
    "cv2.imshow(r'rect_1',np.power(rect_1/255,1/2.1))\n",
    "cv2.waitKey(0)\n",
    "cv2.destroyAllWindows()"
   ]
  },
  {
   "cell_type": "markdown",
   "id": "b17fac34",
   "metadata": {},
   "source": [
    "# GAMMA_CORRECTION\n"
   ]
  },
  {
   "cell_type": "code",
   "execution_count": 174,
   "id": "34704be9",
   "metadata": {},
   "outputs": [
    {
     "data": {
      "text/plain": [
       "True"
      ]
     },
     "execution_count": 174,
     "metadata": {},
     "output_type": "execute_result"
    }
   ],
   "source": [
    "CUSTOM_BLEND_1=cv2.imread(r'blended_screen_1.jpg')\n",
    "CUSTOM_BLEND_2=cv2.imread(r'blended_screen_2.jpg')\n",
    "\n",
    "cv2.imwrite(r'9thmay_NEW_blended_screen_1_2.1.jpg',np.power(CUSTOM_BLEND_1/255,1/2.1)*255)\n",
    "cv2.imwrite(r'9thmay_NEW_blended_screen_2_2.1.jpg',np.power(CUSTOM_BLEND_2/255,1/2.1)*255)\n"
   ]
  },
  {
   "cell_type": "markdown",
   "id": "7e546ff5",
   "metadata": {},
   "source": [
    "# WGTS"
   ]
  },
  {
   "cell_type": "code",
   "execution_count": 430,
   "id": "0c85bde8",
   "metadata": {},
   "outputs": [],
   "source": [
    "deer_L=cv2.imread(r'deer_left_overlap.jpg')\n",
    "deer_R=cv2.imread(r'deer_right_overlap.jpg')"
   ]
  },
  {
   "cell_type": "code",
   "execution_count": 431,
   "id": "97e6618f",
   "metadata": {},
   "outputs": [],
   "source": [
    "CUSTOM_BLEND_GAMMA_LEFT_2=cv2.imread(r'CUSTOM_BLEND_GAMMA_LEFT_1.8.jpg')\n",
    "CUSTOM_BLEND_GAMMA_RIGHT_2=cv2.imread(r'CUSTOM_BLEND_GAMMA_RIGHT_1.8.jpg')"
   ]
  },
  {
   "cell_type": "code",
   "execution_count": 435,
   "id": "15b864b2",
   "metadata": {},
   "outputs": [],
   "source": [
    "L=np.zeros_like(deer_L)\n",
    "R=np.zeros_like(deer_R)"
   ]
  },
  {
   "cell_type": "code",
   "execution_count": 436,
   "id": "6801ec76",
   "metadata": {},
   "outputs": [],
   "source": [
    "L=(CUSTOM_BLEND_GAMMA_LEFT_2/255)*(deer_L/255)\n",
    "R=(CUSTOM_BLEND_GAMMA_RIGHT_2/255)*(deer_R/255)"
   ]
  },
  {
   "cell_type": "code",
   "execution_count": 437,
   "id": "480fbe09",
   "metadata": {},
   "outputs": [],
   "source": [
    "cv2.imshow(r'deer_L',CUSTOM_LEFT_OVERLAP)\n",
    "cv2.imshow(r'deer_R',CUSTOM_RIGHT_OVERLAP)\n",
    "cv2.waitKey(0)\n",
    "cv2.destroyAllWindows()"
   ]
  },
  {
   "cell_type": "code",
   "execution_count": 438,
   "id": "39cea1b2",
   "metadata": {},
   "outputs": [],
   "source": [
    "cv2.imshow(r'L',L*1)\n",
    "cv2.imshow(r'R',R*1)\n",
    "cv2.waitKey(0)\n",
    "cv2.destroyAllWindows()"
   ]
  },
  {
   "cell_type": "code",
   "execution_count": 440,
   "id": "ee0cdaed",
   "metadata": {},
   "outputs": [
    {
     "data": {
      "text/plain": [
       "True"
      ]
     },
     "execution_count": 440,
     "metadata": {},
     "output_type": "execute_result"
    }
   ],
   "source": [
    "cv2.imwrite(r'D:\\BLending_code_python\\JAN_2024_IMAGES_CODE\\MC5\\WarpBlendSample\\deer_left_1.8.jpg',L*255)\n",
    "cv2.imwrite(r'D:\\BLending_code_python\\JAN_2024_IMAGES_CODE\\MC5\\WarpBlendSample\\deer_right_1.8.jpg',R*255)"
   ]
  },
  {
   "cell_type": "code",
   "execution_count": 443,
   "id": "472385e0",
   "metadata": {},
   "outputs": [
    {
     "data": {
      "text/plain": [
       "[[22, 0], [9, 1884], [1008, 1916], [1079, 62]]"
      ]
     },
     "execution_count": 443,
     "metadata": {},
     "output_type": "execute_result"
    }
   ],
   "source": [
    "findCornersOfQuadrilateral(cv2.imread(r'rect_1_blend.jpg'))"
   ]
  },
  {
   "cell_type": "code",
   "execution_count": 447,
   "id": "f0d3abf7",
   "metadata": {},
   "outputs": [],
   "source": [
    "checkTheCorners(cv2.imread(r'rect_1_blend.jpg'),findCornersOfQuadrilateral(cv2.imread(r'rect_1_blend.jpg')))"
   ]
  },
  {
   "cell_type": "code",
   "execution_count": 450,
   "id": "86c977a6",
   "metadata": {},
   "outputs": [],
   "source": [
    "checkTheCorners(cv2.imread(r'rect_2_blend.jpg'),findCornersOfQuadrilateral(cv2.imread(r'rect_2_blend.jpg')))"
   ]
  },
  {
   "cell_type": "code",
   "execution_count": 451,
   "id": "aaa38dd0",
   "metadata": {},
   "outputs": [
    {
     "data": {
      "text/plain": [
       "[[7, 0], [1, 1898], [954, 1918], [1017, 0]]"
      ]
     },
     "execution_count": 451,
     "metadata": {},
     "output_type": "execute_result"
    }
   ],
   "source": [
    "findCornersOfQuadrilateral(cv2.imread(r'rect_2_blend.jpg'))"
   ]
  },
  {
   "cell_type": "code",
   "execution_count": 14,
   "id": "5ef4bd32",
   "metadata": {},
   "outputs": [],
   "source": [
    "IMG=np.zeros([1080,3840,3])"
   ]
  },
  {
   "cell_type": "code",
   "execution_count": 15,
   "id": "d829e4cf",
   "metadata": {},
   "outputs": [],
   "source": [
    "cv2.imshow(r'OP',IMG)\n",
    "cv2.waitKey(0)\n",
    "cv2.destroyAllWindows()\n"
   ]
  },
  {
   "cell_type": "code",
   "execution_count": 20,
   "id": "1c59ff0a",
   "metadata": {},
   "outputs": [],
   "source": [
    "OP=cv2.circle(IMG,(1920,540),200,(0,0,255),-1)"
   ]
  },
  {
   "cell_type": "code",
   "execution_count": 21,
   "id": "2ddc5115",
   "metadata": {},
   "outputs": [
    {
     "data": {
      "text/plain": [
       "True"
      ]
     },
     "execution_count": 21,
     "metadata": {},
     "output_type": "execute_result"
    }
   ],
   "source": [
    "cv2.imwrite(r'circle_OP.jpg',OP)"
   ]
  },
  {
   "cell_type": "code",
   "execution_count": null,
   "id": "dc26fd01",
   "metadata": {},
   "outputs": [],
   "source": []
  }
 ],
 "metadata": {
  "kernelspec": {
   "display_name": "Python 3 (ipykernel)",
   "language": "python",
   "name": "python3"
  },
  "language_info": {
   "codemirror_mode": {
    "name": "ipython",
    "version": 3
   },
   "file_extension": ".py",
   "mimetype": "text/x-python",
   "name": "python",
   "nbconvert_exporter": "python",
   "pygments_lexer": "ipython3",
   "version": "3.11.4"
  }
 },
 "nbformat": 4,
 "nbformat_minor": 5
}
